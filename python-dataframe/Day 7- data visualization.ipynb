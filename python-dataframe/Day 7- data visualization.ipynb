{
 "cells": [
  {
   "cell_type": "markdown",
   "metadata": {},
   "source": [
    "### Seaborn"
   ]
  },
  {
   "cell_type": "code",
   "execution_count": 1,
   "metadata": {},
   "outputs": [],
   "source": [
    "import pandas as pd\n",
    "import numpy as np\n",
    "import matplotlib.pyplot as plt\n",
    "import seaborn as sns\n",
    "%matplotlib inline"
   ]
  },
  {
   "cell_type": "code",
   "execution_count": 14,
   "metadata": {},
   "outputs": [],
   "source": [
    "import sys\n",
    "\n",
    "if not sys.warnoptions:\n",
    "    import warnings\n",
    "    warnings.simplefilter(\"ignore\")"
   ]
  },
  {
   "cell_type": "code",
   "execution_count": 2,
   "metadata": {},
   "outputs": [],
   "source": [
    "train = pd.read_csv(\"titanic.csv\")"
   ]
  },
  {
   "cell_type": "code",
   "execution_count": 3,
   "metadata": {},
   "outputs": [
    {
     "data": {
      "text/html": [
       "<div>\n",
       "<style scoped>\n",
       "    .dataframe tbody tr th:only-of-type {\n",
       "        vertical-align: middle;\n",
       "    }\n",
       "\n",
       "    .dataframe tbody tr th {\n",
       "        vertical-align: top;\n",
       "    }\n",
       "\n",
       "    .dataframe thead th {\n",
       "        text-align: right;\n",
       "    }\n",
       "</style>\n",
       "<table border=\"1\" class=\"dataframe\">\n",
       "  <thead>\n",
       "    <tr style=\"text-align: right;\">\n",
       "      <th></th>\n",
       "      <th>PassengerId</th>\n",
       "      <th>Survived</th>\n",
       "      <th>Pclass</th>\n",
       "      <th>Name</th>\n",
       "      <th>Sex</th>\n",
       "      <th>Age</th>\n",
       "      <th>SibSp</th>\n",
       "      <th>Parch</th>\n",
       "      <th>Ticket</th>\n",
       "      <th>Fare</th>\n",
       "      <th>Cabin</th>\n",
       "      <th>Embarked</th>\n",
       "    </tr>\n",
       "  </thead>\n",
       "  <tbody>\n",
       "    <tr>\n",
       "      <th>0</th>\n",
       "      <td>892</td>\n",
       "      <td>0</td>\n",
       "      <td>3</td>\n",
       "      <td>Kelly, Mr. James</td>\n",
       "      <td>male</td>\n",
       "      <td>34.5</td>\n",
       "      <td>0</td>\n",
       "      <td>0</td>\n",
       "      <td>330911</td>\n",
       "      <td>7.8292</td>\n",
       "      <td>NaN</td>\n",
       "      <td>Q</td>\n",
       "    </tr>\n",
       "    <tr>\n",
       "      <th>1</th>\n",
       "      <td>893</td>\n",
       "      <td>1</td>\n",
       "      <td>3</td>\n",
       "      <td>Wilkes, Mrs. James (Ellen Needs)</td>\n",
       "      <td>female</td>\n",
       "      <td>47.0</td>\n",
       "      <td>1</td>\n",
       "      <td>0</td>\n",
       "      <td>363272</td>\n",
       "      <td>7.0000</td>\n",
       "      <td>NaN</td>\n",
       "      <td>S</td>\n",
       "    </tr>\n",
       "    <tr>\n",
       "      <th>2</th>\n",
       "      <td>894</td>\n",
       "      <td>0</td>\n",
       "      <td>2</td>\n",
       "      <td>Myles, Mr. Thomas Francis</td>\n",
       "      <td>male</td>\n",
       "      <td>62.0</td>\n",
       "      <td>0</td>\n",
       "      <td>0</td>\n",
       "      <td>240276</td>\n",
       "      <td>9.6875</td>\n",
       "      <td>NaN</td>\n",
       "      <td>Q</td>\n",
       "    </tr>\n",
       "    <tr>\n",
       "      <th>3</th>\n",
       "      <td>895</td>\n",
       "      <td>0</td>\n",
       "      <td>3</td>\n",
       "      <td>Wirz, Mr. Albert</td>\n",
       "      <td>male</td>\n",
       "      <td>27.0</td>\n",
       "      <td>0</td>\n",
       "      <td>0</td>\n",
       "      <td>315154</td>\n",
       "      <td>8.6625</td>\n",
       "      <td>NaN</td>\n",
       "      <td>S</td>\n",
       "    </tr>\n",
       "    <tr>\n",
       "      <th>4</th>\n",
       "      <td>896</td>\n",
       "      <td>1</td>\n",
       "      <td>3</td>\n",
       "      <td>Hirvonen, Mrs. Alexander (Helga E Lindqvist)</td>\n",
       "      <td>female</td>\n",
       "      <td>22.0</td>\n",
       "      <td>1</td>\n",
       "      <td>1</td>\n",
       "      <td>3101298</td>\n",
       "      <td>12.2875</td>\n",
       "      <td>NaN</td>\n",
       "      <td>S</td>\n",
       "    </tr>\n",
       "  </tbody>\n",
       "</table>\n",
       "</div>"
      ],
      "text/plain": [
       "   PassengerId  Survived  Pclass  \\\n",
       "0          892         0       3   \n",
       "1          893         1       3   \n",
       "2          894         0       2   \n",
       "3          895         0       3   \n",
       "4          896         1       3   \n",
       "\n",
       "                                           Name     Sex   Age  SibSp  Parch  \\\n",
       "0                              Kelly, Mr. James    male  34.5      0      0   \n",
       "1              Wilkes, Mrs. James (Ellen Needs)  female  47.0      1      0   \n",
       "2                     Myles, Mr. Thomas Francis    male  62.0      0      0   \n",
       "3                              Wirz, Mr. Albert    male  27.0      0      0   \n",
       "4  Hirvonen, Mrs. Alexander (Helga E Lindqvist)  female  22.0      1      1   \n",
       "\n",
       "    Ticket     Fare Cabin Embarked  \n",
       "0   330911   7.8292   NaN        Q  \n",
       "1   363272   7.0000   NaN        S  \n",
       "2   240276   9.6875   NaN        Q  \n",
       "3   315154   8.6625   NaN        S  \n",
       "4  3101298  12.2875   NaN        S  "
      ]
     },
     "execution_count": 3,
     "metadata": {},
     "output_type": "execute_result"
    }
   ],
   "source": [
    "train.head()"
   ]
  },
  {
   "cell_type": "code",
   "execution_count": 4,
   "metadata": {},
   "outputs": [
    {
     "data": {
      "text/plain": [
       "(418, 12)"
      ]
     },
     "execution_count": 4,
     "metadata": {},
     "output_type": "execute_result"
    }
   ],
   "source": [
    "train.shape"
   ]
  },
  {
   "cell_type": "code",
   "execution_count": 6,
   "metadata": {},
   "outputs": [
    {
     "data": {
      "text/plain": [
       "array([34.5 , 47.  , 62.  , 27.  , 22.  , 14.  , 30.  , 26.  , 18.  ,\n",
       "       21.  ,   nan, 46.  , 23.  , 63.  , 24.  , 35.  , 45.  , 55.  ,\n",
       "        9.  , 48.  , 50.  , 22.5 , 41.  , 33.  , 18.5 , 25.  , 39.  ,\n",
       "       60.  , 36.  , 20.  , 28.  , 10.  , 17.  , 32.  , 13.  , 31.  ,\n",
       "       29.  , 28.5 , 32.5 ,  6.  , 67.  , 49.  ,  2.  , 76.  , 43.  ,\n",
       "       16.  ,  1.  , 12.  , 42.  , 53.  , 26.5 , 40.  , 61.  , 60.5 ,\n",
       "        7.  , 15.  , 54.  , 64.  , 37.  , 34.  , 11.5 ,  8.  ,  0.33,\n",
       "       38.  , 57.  , 40.5 ,  0.92, 19.  , 36.5 ,  0.75,  0.83, 58.  ,\n",
       "        0.17, 59.  , 14.5 , 44.  ,  5.  , 51.  ,  3.  , 38.5 ])"
      ]
     },
     "execution_count": 6,
     "metadata": {},
     "output_type": "execute_result"
    }
   ],
   "source": [
    "train['Age'].unique()"
   ]
  },
  {
   "cell_type": "code",
   "execution_count": 16,
   "metadata": {},
   "outputs": [
    {
     "data": {
      "image/png": "[encoded data removed]",
      "text/plain": [
       "<Figure size 432x288 with 1 Axes>"
      ]
     },
     "metadata": {
      "needs_background": "light"
     },
     "output_type": "display_data"
    }
   ],
   "source": [
    "### Box plot (box and whisker plot) - represent numerical data - Used to identify outlier - \n",
    "\n",
    "sns.boxplot(train['Fare'], orient=\"v\")\n",
    "plt.show()"
   ]
  },
  {
   "cell_type": "code",
   "execution_count": 21,
   "metadata": {},
   "outputs": [
    {
     "data": {
      "text/plain": [
       "male      266\n",
       "female    152\n",
       "Name: Sex, dtype: int64"
      ]
     },
     "execution_count": 21,
     "metadata": {},
     "output_type": "execute_result"
    }
   ],
   "source": [
    "train['Sex'].value_counts()"
   ]
  },
  {
   "cell_type": "code",
   "execution_count": 26,
   "metadata": {},
   "outputs": [
    {
     "data": {
      "text/plain": [
       "<AxesSubplot:xlabel='Survived', ylabel='Age'>"
      ]
     },
     "execution_count": 26,
     "metadata": {},
     "output_type": "execute_result"
    },
    {
     "data": {
      "image/png": "[encoded data removed]",
      "text/plain": [
       "<Figure size 432x288 with 1 Axes>"
      ]
     },
     "metadata": {
      "needs_background": "light"
     },
     "output_type": "display_data"
    }
   ],
   "source": [
    "sns.barplot(x='Survived', y='Age', hue='Sex', data=train)"
   ]
  },
  {
   "cell_type": "code",
   "execution_count": 27,
   "metadata": {},
   "outputs": [
    {
     "data": {
      "text/plain": [
       "<AxesSubplot:xlabel='Survived', ylabel='count'>"
      ]
     },
     "execution_count": 27,
     "metadata": {},
     "output_type": "execute_result"
    },
    {
     "data": {
      "image/png": "[encoded data removed]",
      "text/plain": [
       "<Figure size 432x288 with 1 Axes>"
      ]
     },
     "metadata": {
      "needs_background": "light"
     },
     "output_type": "display_data"
    }
   ],
   "source": [
    "## Countplot\n",
    "\n",
    "sns.countplot(train['Survived'])"
   ]
  },
  {
   "cell_type": "code",
   "execution_count": 28,
   "metadata": {},
   "outputs": [
    {
     "data": {
      "text/plain": [
       "<AxesSubplot:xlabel='Pclass', ylabel='count'>"
      ]
     },
     "execution_count": 28,
     "metadata": {},
     "output_type": "execute_result"
    },
    {
     "data": {
      "image/png": "[encoded data removed]",
      "text/plain": [
       "<Figure size 432x288 with 1 Axes>"
      ]
     },
     "metadata": {
      "needs_background": "light"
     },
     "output_type": "display_data"
    }
   ],
   "source": [
    "sns.countplot(x='Pclass', hue='Survived', data=train)"
   ]
  },
  {
   "cell_type": "code",
   "execution_count": 30,
   "metadata": {},
   "outputs": [],
   "source": [
    "tips=sns.load_dataset(\"tips\")"
   ]
  },
  {
   "cell_type": "code",
   "execution_count": 31,
   "metadata": {},
   "outputs": [
    {
     "data": {
      "text/html": [
       "<div>\n",
       "<style scoped>\n",
       "    .dataframe tbody tr th:only-of-type {\n",
       "        vertical-align: middle;\n",
       "    }\n",
       "\n",
       "    .dataframe tbody tr th {\n",
       "        vertical-align: top;\n",
       "    }\n",
       "\n",
       "    .dataframe thead th {\n",
       "        text-align: right;\n",
       "    }\n",
       "</style>\n",
       "<table border=\"1\" class=\"dataframe\">\n",
       "  <thead>\n",
       "    <tr style=\"text-align: right;\">\n",
       "      <th></th>\n",
       "      <th>total_bill</th>\n",
       "      <th>tip</th>\n",
       "      <th>sex</th>\n",
       "      <th>smoker</th>\n",
       "      <th>day</th>\n",
       "      <th>time</th>\n",
       "      <th>size</th>\n",
       "    </tr>\n",
       "  </thead>\n",
       "  <tbody>\n",
       "    <tr>\n",
       "      <th>0</th>\n",
       "      <td>16.99</td>\n",
       "      <td>1.01</td>\n",
       "      <td>Female</td>\n",
       "      <td>No</td>\n",
       "      <td>Sun</td>\n",
       "      <td>Dinner</td>\n",
       "      <td>2</td>\n",
       "    </tr>\n",
       "    <tr>\n",
       "      <th>1</th>\n",
       "      <td>10.34</td>\n",
       "      <td>1.66</td>\n",
       "      <td>Male</td>\n",
       "      <td>No</td>\n",
       "      <td>Sun</td>\n",
       "      <td>Dinner</td>\n",
       "      <td>3</td>\n",
       "    </tr>\n",
       "    <tr>\n",
       "      <th>2</th>\n",
       "      <td>21.01</td>\n",
       "      <td>3.50</td>\n",
       "      <td>Male</td>\n",
       "      <td>No</td>\n",
       "      <td>Sun</td>\n",
       "      <td>Dinner</td>\n",
       "      <td>3</td>\n",
       "    </tr>\n",
       "    <tr>\n",
       "      <th>3</th>\n",
       "      <td>23.68</td>\n",
       "      <td>3.31</td>\n",
       "      <td>Male</td>\n",
       "      <td>No</td>\n",
       "      <td>Sun</td>\n",
       "      <td>Dinner</td>\n",
       "      <td>2</td>\n",
       "    </tr>\n",
       "    <tr>\n",
       "      <th>4</th>\n",
       "      <td>24.59</td>\n",
       "      <td>3.61</td>\n",
       "      <td>Female</td>\n",
       "      <td>No</td>\n",
       "      <td>Sun</td>\n",
       "      <td>Dinner</td>\n",
       "      <td>4</td>\n",
       "    </tr>\n",
       "  </tbody>\n",
       "</table>\n",
       "</div>"
      ],
      "text/plain": [
       "   total_bill   tip     sex smoker  day    time  size\n",
       "0       16.99  1.01  Female     No  Sun  Dinner     2\n",
       "1       10.34  1.66    Male     No  Sun  Dinner     3\n",
       "2       21.01  3.50    Male     No  Sun  Dinner     3\n",
       "3       23.68  3.31    Male     No  Sun  Dinner     2\n",
       "4       24.59  3.61  Female     No  Sun  Dinner     4"
      ]
     },
     "execution_count": 31,
     "metadata": {},
     "output_type": "execute_result"
    }
   ],
   "source": [
    "tips.head()"
   ]
  },
  {
   "cell_type": "code",
   "execution_count": 62,
   "metadata": {},
   "outputs": [
    {
     "data": {
      "text/plain": [
       "total_bill     float64\n",
       "tip            float64\n",
       "sex           category\n",
       "smoker        category\n",
       "day           category\n",
       "time          category\n",
       "size             int64\n",
       "dtype: object"
      ]
     },
     "execution_count": 62,
     "metadata": {},
     "output_type": "execute_result"
    }
   ],
   "source": [
    "tips.dtypes"
   ]
  },
  {
   "cell_type": "code",
   "execution_count": 65,
   "metadata": {},
   "outputs": [
    {
     "data": {
      "text/plain": [
       "2    156\n",
       "3     38\n",
       "4     37\n",
       "5      5\n",
       "6      4\n",
       "1      4\n",
       "Name: size, dtype: int64"
      ]
     },
     "execution_count": 65,
     "metadata": {},
     "output_type": "execute_result"
    }
   ],
   "source": [
    "tips['size'].value_counts()"
   ]
  },
  {
   "cell_type": "code",
   "execution_count": 64,
   "metadata": {},
   "outputs": [
    {
     "data": {
      "text/html": [
       "<div>\n",
       "<style scoped>\n",
       "    .dataframe tbody tr th:only-of-type {\n",
       "        vertical-align: middle;\n",
       "    }\n",
       "\n",
       "    .dataframe tbody tr th {\n",
       "        vertical-align: top;\n",
       "    }\n",
       "\n",
       "    .dataframe thead th {\n",
       "        text-align: right;\n",
       "    }\n",
       "</style>\n",
       "<table border=\"1\" class=\"dataframe\">\n",
       "  <thead>\n",
       "    <tr style=\"text-align: right;\">\n",
       "      <th></th>\n",
       "      <th>total_bill</th>\n",
       "      <th>tip</th>\n",
       "      <th>size</th>\n",
       "    </tr>\n",
       "  </thead>\n",
       "  <tbody>\n",
       "    <tr>\n",
       "      <th>total_bill</th>\n",
       "      <td>1.000000</td>\n",
       "      <td>0.675734</td>\n",
       "      <td>0.598315</td>\n",
       "    </tr>\n",
       "    <tr>\n",
       "      <th>tip</th>\n",
       "      <td>0.675734</td>\n",
       "      <td>1.000000</td>\n",
       "      <td>0.489299</td>\n",
       "    </tr>\n",
       "    <tr>\n",
       "      <th>size</th>\n",
       "      <td>0.598315</td>\n",
       "      <td>0.489299</td>\n",
       "      <td>1.000000</td>\n",
       "    </tr>\n",
       "  </tbody>\n",
       "</table>\n",
       "</div>"
      ],
      "text/plain": [
       "            total_bill       tip      size\n",
       "total_bill    1.000000  0.675734  0.598315\n",
       "tip           0.675734  1.000000  0.489299\n",
       "size          0.598315  0.489299  1.000000"
      ]
     },
     "execution_count": 64,
     "metadata": {},
     "output_type": "execute_result"
    }
   ],
   "source": [
    "tips.corr()  ### correlation - meant only for numerical variables"
   ]
  },
  {
   "cell_type": "code",
   "execution_count": 66,
   "metadata": {},
   "outputs": [
    {
     "data": {
      "text/plain": [
       "<AxesSubplot:>"
      ]
     },
     "execution_count": 66,
     "metadata": {},
     "output_type": "execute_result"
    },
    {
     "data": {
      "image/png": "[encoded data removed]",
      "text/plain": [
       "<Figure size 432x288 with 2 Axes>"
      ]
     },
     "metadata": {
      "needs_background": "light"
     },
     "output_type": "display_data"
    }
   ],
   "source": [
    "## Heatmap - Very useful in feature selection \n",
    "\n",
    "sns.heatmap(tips.corr())"
   ]
  },
  {
   "cell_type": "code",
   "execution_count": 34,
   "metadata": {},
   "outputs": [
    {
     "data": {
      "text/plain": [
       "<AxesSubplot:>"
      ]
     },
     "execution_count": 34,
     "metadata": {},
     "output_type": "execute_result"
    },
    {
     "data": {
      "image/png": "[encoded data removed]",
      "text/plain": [
       "<Figure size 432x288 with 1 Axes>"
      ]
     },
     "metadata": {
      "needs_background": "light"
     },
     "output_type": "display_data"
    }
   ],
   "source": [
    "sns.boxplot(data=tips, orient=\"v\")"
   ]
  },
  {
   "cell_type": "code",
   "execution_count": 33,
   "metadata": {},
   "outputs": [
    {
     "data": {
      "text/plain": [
       "<AxesSubplot:xlabel='total_bill', ylabel='day'>"
      ]
     },
     "execution_count": 33,
     "metadata": {},
     "output_type": "execute_result"
    },
    {
     "data": {
      "image/png": "[encoded data removed]",
      "text/plain": [
       "<Figure size 432x288 with 1 Axes>"
      ]
     },
     "metadata": {
      "needs_background": "light"
     },
     "output_type": "display_data"
    }
   ],
   "source": [
    "## violin plot - helps us to see the data distribution in terms of both boxplot and kde\n",
    "\n",
    "sns.violinplot(x='total_bill', y='day', data=tips)"
   ]
  },
  {
   "cell_type": "code",
   "execution_count": 35,
   "metadata": {},
   "outputs": [
    {
     "data": {
      "text/plain": [
       "<seaborn.axisgrid.FacetGrid at 0x23ecbf85730>"
      ]
     },
     "execution_count": 35,
     "metadata": {},
     "output_type": "execute_result"
    },
    {
     "data": {
      "image/png": "[encoded data removed]",
      "text/plain": [
       "<Figure size 360x360 with 1 Axes>"
      ]
     },
     "metadata": {
      "needs_background": "light"
     },
     "output_type": "display_data"
    }
   ],
   "source": [
    "## catplot - categorical variables\n",
    "sns.catplot(x='day', y='total_bill', data=tips)"
   ]
  },
  {
   "cell_type": "code",
   "execution_count": 36,
   "metadata": {},
   "outputs": [
    {
     "data": {
      "text/plain": [
       "<seaborn.axisgrid.FacetGrid at 0x23ecc222940>"
      ]
     },
     "execution_count": 36,
     "metadata": {},
     "output_type": "execute_result"
    },
    {
     "data": {
      "image/png": "[encoded data removed]",
      "text/plain": [
       "<Figure size 360x360 with 1 Axes>"
      ]
     },
     "metadata": {
      "needs_background": "light"
     },
     "output_type": "display_data"
    }
   ],
   "source": [
    "sns.catplot(x='day', y='tip', data=tips)"
   ]
  },
  {
   "cell_type": "code",
   "execution_count": 40,
   "metadata": {},
   "outputs": [
    {
     "data": {
      "text/plain": [
       "<seaborn.axisgrid.FacetGrid at 0x23ecc346c70>"
      ]
     },
     "execution_count": 40,
     "metadata": {},
     "output_type": "execute_result"
    },
    {
     "data": {
      "text/plain": [
       "<Figure size 720x576 with 0 Axes>"
      ]
     },
     "metadata": {},
     "output_type": "display_data"
    },
    {
     "data": {
      "image/png": "[encoded data removed]",
      "text/plain": [
       "<Figure size 772x360 with 2 Axes>"
      ]
     },
     "metadata": {
      "needs_background": "light"
     },
     "output_type": "display_data"
    }
   ],
   "source": [
    "## Relplot- numerical variables\n",
    "plt.figure(figsize=(10,8))\n",
    "sns.relplot(x='total_bill', y='tip', hue='smoker', col='time',data=tips)"
   ]
  },
  {
   "cell_type": "code",
   "execution_count": 41,
   "metadata": {},
   "outputs": [
    {
     "data": {
      "text/plain": [
       "<AxesSubplot:xlabel='day', ylabel='total_bill'>"
      ]
     },
     "execution_count": 41,
     "metadata": {},
     "output_type": "execute_result"
    },
    {
     "data": {
      "image/png": "[encoded data removed]",
      "text/plain": [
       "<Figure size 432x288 with 1 Axes>"
      ]
     },
     "metadata": {
      "needs_background": "light"
     },
     "output_type": "display_data"
    }
   ],
   "source": [
    "### swarm plot\n",
    "\n",
    "sns.swarmplot(x='day', y='total_bill', data=tips)"
   ]
  },
  {
   "cell_type": "code",
   "execution_count": 42,
   "metadata": {},
   "outputs": [
    {
     "data": {
      "text/plain": [
       "<seaborn.axisgrid.FacetGrid at 0x23ecc062b80>"
      ]
     },
     "execution_count": 42,
     "metadata": {},
     "output_type": "execute_result"
    },
    {
     "data": {
      "image/png": "[encoded data removed]",
      "text/plain": [
       "<Figure size 360x360 with 1 Axes>"
      ]
     },
     "metadata": {
      "needs_background": "light"
     },
     "output_type": "display_data"
    }
   ],
   "source": [
    "sns.lmplot(x='total_bill', y='tip', data=tips)"
   ]
  },
  {
   "cell_type": "code",
   "execution_count": 49,
   "metadata": {},
   "outputs": [],
   "source": [
    "### pip install plotly \n",
    "#### pip install cufflinks\n",
    "\n",
    "import cufflinks as cf\n",
    "from plotly.offline import download_plotlyjs, init_notebook_mode, plot, iplot"
   ]
  },
  {
   "cell_type": "code",
   "execution_count": 50,
   "metadata": {},
   "outputs": [
    {
     "data": {
      "text/html": [
       "        <script type=\"text/javascript\">\n",
       "        window.PlotlyConfig = {MathJaxConfig: 'local'};\n",
       "        if (window.MathJax) {MathJax.Hub.Config({SVG: {font: \"STIX-Web\"}});}\n",
       "        if (typeof require !== 'undefined') {\n",
       "        require.undef(\"plotly\");\n",
       "        requirejs.config({\n",
       "            paths: {\n",
       "                'plotly': ['https://cdn.plot.ly/plotly-latest.min']\n",
       "            }\n",
       "        });\n",
       "        require(['plotly'], function(Plotly) {\n",
       "            window._Plotly = Plotly;\n",
       "        });\n",
       "        }\n",
       "        </script>\n",
       "        "
      ]
     },
     "metadata": {},
     "output_type": "display_data"
    }
   ],
   "source": [
    "init_notebook_mode(connected=True)"
   ]
  },
  {
   "cell_type": "code",
   "execution_count": 51,
   "metadata": {},
   "outputs": [
    {
     "data": {
      "text/html": [
       "        <script type=\"text/javascript\">\n",
       "        window.PlotlyConfig = {MathJaxConfig: 'local'};\n",
       "        if (window.MathJax) {MathJax.Hub.Config({SVG: {font: \"STIX-Web\"}});}\n",
       "        if (typeof require !== 'undefined') {\n",
       "        require.undef(\"plotly\");\n",
       "        requirejs.config({\n",
       "            paths: {\n",
       "                'plotly': ['https://cdn.plot.ly/plotly-latest.min']\n",
       "            }\n",
       "        });\n",
       "        require(['plotly'], function(Plotly) {\n",
       "            window._Plotly = Plotly;\n",
       "        });\n",
       "        }\n",
       "        </script>\n",
       "        "
      ]
     },
     "metadata": {},
     "output_type": "display_data"
    }
   ],
   "source": [
    "cf.go_offline()"
   ]
  },
  {
   "cell_type": "code",
   "execution_count": 52,
   "metadata": {},
   "outputs": [],
   "source": [
    "df1=pd.DataFrame(np.random.rand(500,4), columns=['a','b', 'c', 'd'])"
   ]
  },
  {
   "cell_type": "code",
   "execution_count": 53,
   "metadata": {},
   "outputs": [
    {
     "data": {
      "text/html": [
       "<div>\n",
       "<style scoped>\n",
       "    .dataframe tbody tr th:only-of-type {\n",
       "        vertical-align: middle;\n",
       "    }\n",
       "\n",
       "    .dataframe tbody tr th {\n",
       "        vertical-align: top;\n",
       "    }\n",
       "\n",
       "    .dataframe thead th {\n",
       "        text-align: right;\n",
       "    }\n",
       "</style>\n",
       "<table border=\"1\" class=\"dataframe\">\n",
       "  <thead>\n",
       "    <tr style=\"text-align: right;\">\n",
       "      <th></th>\n",
       "      <th>a</th>\n",
       "      <th>b</th>\n",
       "      <th>c</th>\n",
       "      <th>d</th>\n",
       "    </tr>\n",
       "  </thead>\n",
       "  <tbody>\n",
       "    <tr>\n",
       "      <th>0</th>\n",
       "      <td>0.306479</td>\n",
       "      <td>0.378428</td>\n",
       "      <td>0.504696</td>\n",
       "      <td>0.389681</td>\n",
       "    </tr>\n",
       "    <tr>\n",
       "      <th>1</th>\n",
       "      <td>0.277417</td>\n",
       "      <td>0.687067</td>\n",
       "      <td>0.656595</td>\n",
       "      <td>0.601677</td>\n",
       "    </tr>\n",
       "    <tr>\n",
       "      <th>2</th>\n",
       "      <td>0.555771</td>\n",
       "      <td>0.701288</td>\n",
       "      <td>0.423999</td>\n",
       "      <td>0.238411</td>\n",
       "    </tr>\n",
       "    <tr>\n",
       "      <th>3</th>\n",
       "      <td>0.809209</td>\n",
       "      <td>0.843559</td>\n",
       "      <td>0.959696</td>\n",
       "      <td>0.198841</td>\n",
       "    </tr>\n",
       "    <tr>\n",
       "      <th>4</th>\n",
       "      <td>0.952605</td>\n",
       "      <td>0.823273</td>\n",
       "      <td>0.480775</td>\n",
       "      <td>0.975284</td>\n",
       "    </tr>\n",
       "  </tbody>\n",
       "</table>\n",
       "</div>"
      ],
      "text/plain": [
       "          a         b         c         d\n",
       "0  0.306479  0.378428  0.504696  0.389681\n",
       "1  0.277417  0.687067  0.656595  0.601677\n",
       "2  0.555771  0.701288  0.423999  0.238411\n",
       "3  0.809209  0.843559  0.959696  0.198841\n",
       "4  0.952605  0.823273  0.480775  0.975284"
      ]
     },
     "execution_count": 53,
     "metadata": {},
     "output_type": "execute_result"
    }
   ],
   "source": [
    "df1.head()"
   ]
  },
  {
   "cell_type": "code",
   "execution_count": 54,
   "metadata": {},
   "outputs": [],
   "source": [
    "df2=pd.DataFrame({'x': ['p', 'q','r'],\n",
    "                  'y': [1,2,3]})"
   ]
  },
  {
   "cell_type": "code",
   "execution_count": 55,
   "metadata": {},
   "outputs": [
    {
     "data": {
      "text/html": [
       "<div>\n",
       "<style scoped>\n",
       "    .dataframe tbody tr th:only-of-type {\n",
       "        vertical-align: middle;\n",
       "    }\n",
       "\n",
       "    .dataframe tbody tr th {\n",
       "        vertical-align: top;\n",
       "    }\n",
       "\n",
       "    .dataframe thead th {\n",
       "        text-align: right;\n",
       "    }\n",
       "</style>\n",
       "<table border=\"1\" class=\"dataframe\">\n",
       "  <thead>\n",
       "    <tr style=\"text-align: right;\">\n",
       "      <th></th>\n",
       "      <th>x</th>\n",
       "      <th>y</th>\n",
       "    </tr>\n",
       "  </thead>\n",
       "  <tbody>\n",
       "    <tr>\n",
       "      <th>0</th>\n",
       "      <td>p</td>\n",
       "      <td>1</td>\n",
       "    </tr>\n",
       "    <tr>\n",
       "      <th>1</th>\n",
       "      <td>q</td>\n",
       "      <td>2</td>\n",
       "    </tr>\n",
       "    <tr>\n",
       "      <th>2</th>\n",
       "      <td>r</td>\n",
       "      <td>3</td>\n",
       "    </tr>\n",
       "  </tbody>\n",
       "</table>\n",
       "</div>"
      ],
      "text/plain": [
       "   x  y\n",
       "0  p  1\n",
       "1  q  2\n",
       "2  r  3"
      ]
     },
     "execution_count": 55,
     "metadata": {},
     "output_type": "execute_result"
    }
   ],
   "source": [
    "df2"
   ]
  },
  {
   "cell_type": "code",
   "execution_count": 58,
   "metadata": {},
   "outputs": [
    {
     "data": {
      "application/vnd.plotly.v1+json": {
       "config": {
        "linkText": "Export to plot.ly",
        "plotlyServerURL": "https://plot.ly",
        "showLink": true
       },
       "data": [
        {
         "line": {
          "color": "rgba(0, 128, 240, 1.0)",
          "dash": "solid",
          "shape": "linear",
          "width": 1.3
         },
         "marker": {
          "size": 12,
          "symbol": "circle"
         },
         "mode": "markers",
         "name": "d",
         "text": "",
         "type": "scatter",
         "x": [
          0.3064788168016591,
          0.2774170234998602,
          0.5557706279753811,
          0.8092089250544994,
          0.952604741599049,
          0.34855987727335613,
          0.026130262652994563,
          0.33550549398196583,
          0.0023849405364854137,
          0.9979694333586758,
          0.6697328578959016,
          0.2615128909754272,
          0.4284969034241872,
          0.5337696016486151,
          0.6339835804067,
          0.20981483584866922,
          0.5544272524846942,
          0.4376628696461201,
          0.5289365510999644,
          0.01682377041682459,
          0.15284378899714535,
          0.8821289577861465,
          0.9389719492407574,
          0.2054895540267716,
          0.7135202880431795,
          0.7321362257279919,
          0.8749463685831604,
          0.45081570855889685,
          0.4248159598425487,
          0.14103264624603917,
          0.2690533749934134,
          0.3113085931356592,
          0.7826841281388869,
          0.981802615047023,
          0.8349164321642933,
          0.8964187131181303,
          0.47346476672337445,
          0.1518911167821816,
          0.8770444529567529,
          0.614189348894898,
          0.28166798892103095,
          0.715742702771851,
          0.8029527598895356,
          0.9365851045147381,
          0.5693947484838289,
          0.19596732511058246,
          0.7319805322890214,
          0.3732869001538365,
          0.05687924900525165,
          0.17575672792420016,
          0.453279934278087,
          0.8895143481531342,
          0.8826843134943514,
          0.3252581760189637,
          0.7202432133763603,
          0.6651206278264198,
          0.9392302714655232,
          0.8731696699696143,
          0.5674898533398796,
          0.3789835634029457,
          0.9035005733340052,
          0.5207444226038157,
          0.6471677060508368,
          0.21485001609789978,
          0.5512486687480036,
          0.4501600701479044,
          0.14337642107828996,
          0.09941775505548678,
          0.9993703501007617,
          0.5368230077638506,
          0.6769248069648821,
          0.6466984449434228,
          0.49882985667078783,
          0.3485184204081535,
          0.7569804720762254,
          0.09917623878398596,
          0.607975802121348,
          0.09167264910496664,
          0.48441394879637334,
          0.3387328862576201,
          0.6744756957783359,
          0.29586046048578374,
          0.38674554211585754,
          0.7514668943982338,
          0.11965481023105562,
          0.5018012531688718,
          0.8036146323563258,
          0.10191153430199773,
          0.7887869448265602,
          0.7123942523891824,
          0.9499977046565815,
          0.7899203513776947,
          0.43587834478958454,
          0.7761936668023578,
          0.9224753949068517,
          0.9785181109715341,
          0.49464028150684725,
          0.893050848988973,
          0.3724779890088483,
          0.01413135263776688,
          0.9629750011758393,
          0.7640063253251924,
          0.1886140696342855,
          0.7287069414337524,
          0.7031596796696896,
          0.9434932484924041,
          0.11199110403585366,
          0.04857469070469256,
          0.9176354493203208,
          0.15001220326724107,
          0.04401699618593036,
          0.2907710736088497,
          0.2308523643359217,
          0.690482838431078,
          0.9500688837787005,
          0.4558471847883774,
          0.6886218560749403,
          0.7171091736200109,
          0.8727119722656921,
          0.39476826209279403,
          0.22276361475650774,
          0.7271210226320831,
          0.2004429869072728,
          0.28505736681268357,
          0.058075165415397256,
          0.08450216071840633,
          0.5036010453162814,
          0.6202437555886204,
          0.8815917454331385,
          0.6383521279162563,
          0.15203882641341315,
          0.39915029543497504,
          0.7011148898682465,
          0.06968872576072516,
          0.08503091553056963,
          0.21180605343255465,
          0.9560146962045544,
          0.7486475889909652,
          0.8228751054417954,
          0.079434135901581,
          0.5144395348454428,
          0.08614437826176458,
          0.99141559174368,
          0.6364556510921128,
          0.0013779526904426076,
          0.24393587689030993,
          0.2997566575756414,
          0.774407147225109,
          0.9964707733214092,
          0.04668108425338058,
          0.6068260848492711,
          0.1830093234155954,
          0.7020540231486604,
          0.9046816290010334,
          0.5317352464722712,
          0.992947911706319,
          0.35505822356783234,
          0.8097695830605698,
          0.6641023447121631,
          0.6713036914886805,
          0.2703301895937118,
          0.541105796920765,
          0.3352564652166572,
          0.29088385653066307,
          0.60721967220201,
          0.018466138230353146,
          0.44196872667612297,
          0.7128712346968414,
          0.33568518992986995,
          0.7998250602524438,
          0.14081347063259853,
          0.8019336859359749,
          0.34036560247879366,
          0.7418202335705771,
          0.7548737219818882,
          0.6974289358717094,
          0.18368003773172958,
          0.5319909104405229,
          0.0572090203006006,
          0.8723978267370338,
          0.9643366980391344,
          0.3885542065388097,
          0.8786491267557994,
          0.07356609572806372,
          0.08670378379804577,
          0.38098850185338184,
          0.554327570616008,
          0.6841467119577819,
          0.5139992916570553,
          0.9326417000390486,
          0.9242166540700876,
          0.7980746931835301,
          0.1676195162632671,
          0.8837296793013999,
          0.6011138563945565,
          0.6676505707494922,
          0.02469135848278259,
          0.2584516952291458,
          0.06452670654954407,
          0.1451729388373102,
          0.1769099999221393,
          0.808463664804445,
          0.38908998680844364,
          0.23975395974505054,
          0.8017689922794748,
          0.5745383525178179,
          0.34912168754705497,
          0.8711856154502307,
          0.6692031369599727,
          0.07362703389493908,
          0.8575628320377972,
          0.8551360218535055,
          0.5479428044279245,
          0.5252021439160995,
          0.10145305089568724,
          0.09636008325989132,
          0.2639978035302374,
          0.21556751316724154,
          0.5536131811257295,
          0.32976468567676964,
          0.07350848911099994,
          0.7092580938487774,
          0.2323242856949823,
          0.17529165274719394,
          0.6119368234890248,
          0.8644084917192159,
          0.12023045858070247,
          0.19871356672926255,
          0.6823901314299364,
          0.4235956335004648,
          0.6432247257017671,
          0.8511856684869076,
          0.9715345985209064,
          0.9600017134303244,
          0.37384422641149206,
          0.338333723056242,
          0.8649271831637898,
          0.2937645977592399,
          0.2831210200282088,
          0.7091327624498599,
          0.5996656203872033,
          0.8831174070571561,
          0.39470190204582545,
          0.9619810784917752,
          0.10861224941551506,
          0.8878748757817182,
          0.6856128728390959,
          0.12636859371002518,
          0.605708562945765,
          0.5891236768530903,
          0.7213000450347291,
          0.8285012409036224,
          0.06776043616047334,
          0.19717395614984357,
          0.4753160816384462,
          0.9470185629743382,
          0.914822182974793,
          0.2369332969393596,
          0.16318035387207352,
          0.8454018353755258,
          0.22100716801057285,
          0.7820912092163438,
          0.9523972339143502,
          0.9874310484721038,
          0.805315183971863,
          0.6387510954688298,
          0.73153114286172,
          0.657689524259831,
          0.8476786913003413,
          0.16578232685133143,
          0.020295304710816753,
          0.37212651289776133,
          0.7095033983219992,
          0.7734516301346205,
          0.019792020538705102,
          0.19417947877181707,
          0.42253923680466254,
          0.892776204670384,
          0.1684185590211592,
          0.6622949984219365,
          0.2503662512403878,
          0.9933369918648854,
          0.20308935908948622,
          0.18033443832089935,
          0.23182446263377243,
          0.7176154615760546,
          0.3555159399655774,
          0.5324142595495229,
          0.31158715105683366,
          0.20276401233558616,
          0.7261847992737316,
          0.3699094402653783,
          0.07461015758044542,
          0.7569295913135357,
          0.39047506401342547,
          0.37974805863455807,
          0.3134892638299559,
          0.09271405555350398,
          0.744624669935465,
          0.7684639487886813,
          0.19975418454413119,
          0.12513884395796238,
          0.7484870344124719,
          0.5434852872763668,
          0.6189066337958402,
          0.9439537841548534,
          0.7777275520309884,
          0.806000865356415,
          0.883339214870903,
          0.8753778845470342,
          0.6356526486952608,
          0.919810760485115,
          0.8456764100712708,
          0.620410793117682,
          0.2652384876710101,
          0.7969365938633743,
          0.02137987130761576,
          0.19264024583053418,
          0.2649386202463061,
          0.12740185745818633,
          0.5781009100817355,
          0.20027851149758846,
          0.4186349312901525,
          0.5261892006616611,
          0.5944107765474641,
          0.998187292756693,
          0.5563322482529964,
          0.8963153495595724,
          0.0009307180441107121,
          0.7761147852004939,
          0.784755866296616,
          0.16588317367861904,
          0.6215015739564373,
          0.7292470351714685,
          0.09498651761660071,
          0.13481972125850883,
          0.3709515845216512,
          0.2779193395538957,
          0.23888791237242335,
          0.06809545954410445,
          0.1341313170459515,
          0.6014848356938088,
          0.05264920271451512,
          0.11726694440703878,
          0.7461214986543615,
          0.21326412177040566,
          0.9016624401270573,
          0.04841836371516273,
          0.8442309522837479,
          0.03557750949290761,
          0.9383014485699411,
          0.6341663275747665,
          0.9674336694612349,
          0.26086785050274874,
          0.30540937829396897,
          0.3316766005632137,
          0.8116751009898961,
          0.8155474326489149,
          0.9024956735328499,
          0.3152947998814971,
          0.31939900304110724,
          0.8381666249537155,
          0.8692269025352407,
          0.4109271641165214,
          0.21781519623781553,
          0.2035716050055144,
          0.4882493361725583,
          0.28735164326000273,
          0.5456625999608536,
          0.1706213650618582,
          0.015715900919217485,
          0.47004484250379597,
          0.897080100171877,
          0.7690720807707596,
          0.44568963654809124,
          0.9825800994942644,
          0.8768027946382951,
          0.3020612128976571,
          0.7344310577517016,
          0.23877535671726569,
          0.12321577183767307,
          0.017562139049896563,
          0.6954607021423196,
          0.30366056400792807,
          0.7153930833568588,
          0.09350629478548556,
          0.12707100237136693,
          0.5157939927290959,
          0.643006987088474,
          0.36845438884574844,
          0.04078004170178884,
          0.8874911691076495,
          0.0155692880279098,
          0.741328597958119,
          0.9360940704771175,
          0.28848240499097877,
          0.8622763128616008,
          0.36998683076036365,
          0.20196896608021364,
          0.9462661810096469,
          0.8324897650669026,
          0.43660381060085174,
          0.7716796789706577,
          0.9770235605974316,
          0.6004337603244323,
          0.21518239212739343,
          0.8820569108183851,
          0.6279954302485796,
          0.4446239399176216,
          0.29823959720667415,
          0.7001973358935065,
          0.13961973413610296,
          0.262298130433009,
          0.44811332902621037,
          0.04067981719418379,
          0.35699849514741544,
          0.024140204430177947,
          0.413625747943726,
          0.9426868569940745,
          0.8443368571054861,
          0.7499229929529748,
          0.7519108774764995,
          0.4430603724625176,
          0.491303668804398,
          0.7459451252114322,
          0.08948652667066515,
          0.5791545896333244,
          0.027260345505210726,
          0.9184931991293015,
          0.26829132285809887,
          0.13624165461891624,
          0.8860956432393491,
          0.3632501775685155,
          0.6839983469182547,
          0.38113801581581996,
          0.36766224879474174,
          0.5769687941977872,
          0.46623963086424636,
          0.6822542358939895,
          0.29983285029610574,
          0.24029325914178346,
          0.9656164599906808,
          0.8172489557024772,
          0.5023921474060127,
          0.2310225933269361,
          0.725828230195959,
          0.09167028932605514,
          0.4935934940212301,
          0.7712198409962557,
          0.5310027166047128,
          0.18399386239103133,
          0.5653314483320067,
          0.2094935380924715,
          0.07331432816715489,
          0.21325433484137568,
          0.9949703342880702,
          0.8826769709265118,
          0.7647291725654789,
          0.1780769470426269,
          0.139585865746925,
          0.4561176067078029,
          0.10096458947786369,
          0.979382111500265,
          0.46949476284488234,
          0.680031567171001,
          0.5467008462823473,
          0.05497208831092548,
          0.4448339900956114,
          0.44102891302049274,
          0.3685515867489787,
          0.6895374558664848,
          0.35102814494578183,
          0.26768336555789574,
          0.330775235895749,
          0.41423611778182956,
          0.1482285929628886,
          0.31324984520881083,
          0.5068828340455704,
          0.9153057943580991,
          0.8751448259840444,
          0.3933346656012907,
          0.17036989705739702,
          0.8572449145396289,
          0.2641574489813745,
          0.8997810844538439,
          0.3455418821628501,
          0.15390791532167225,
          0.7656458340412612,
          0.959831912249859,
          0.4418411862619116,
          0.15116136944299707,
          0.36406731841423945,
          0.1555955449241565,
          0.4445459755801635,
          0.40202219889947644,
          0.3913370467738819,
          0.0457186145419648,
          0.6904792889501941,
          0.07606382963678782,
          0.3769091201536693
         ],
         "y": [
          0.3896806062312035,
          0.6016773450890376,
          0.23841087993121146,
          0.19884065225342118,
          0.9752838005560872,
          0.4699227043408063,
          0.9465154263304705,
          0.5534793215065338,
          0.7909253329772893,
          0.1361588950947712,
          0.8183301351464763,
          0.07478510759432433,
          0.3507015490078286,
          0.9799639868697241,
          0.5303164189087877,
          0.4282326925533654,
          0.6052104948254796,
          0.857505785487013,
          0.3013470637708028,
          0.04509664456176432,
          0.38940009942745524,
          0.9330982238795964,
          0.3325498915540256,
          0.03273466407182202,
          0.3722479666153362,
          0.7657818930965458,
          0.3424403833853863,
          0.8387779070410587,
          0.7308760703974471,
          0.969869415758757,
          0.19732400280408158,
          0.1454898254867537,
          0.7926549063051064,
          0.38204061114565746,
          0.8786920649602199,
          0.2999164393491691,
          0.6465378023346116,
          0.9988702490679888,
          0.28448211207930996,
          0.4762815715251052,
          0.7426600306014506,
          0.3018458569486062,
          0.2380219193508647,
          0.32380701602653306,
          0.17155620639223135,
          0.6703124734035301,
          0.5186545154968556,
          0.3445325911825592,
          0.44388035634002,
          0.4024415371143064,
          0.10899555900415692,
          0.4625373048742518,
          0.07807785473176565,
          0.7565688181279969,
          0.1665397466803894,
          0.8120953537177051,
          0.42079903284323317,
          0.5303817477683147,
          0.864359421439866,
          0.839922684411149,
          0.662383053785956,
          0.08061001091717013,
          0.7147986809371482,
          0.30313576684584054,
          0.659277587169612,
          0.3591434957250961,
          0.6447616958075361,
          0.7114358328785163,
          0.8416043148295363,
          0.07679076931608086,
          0.7915837925440244,
          0.2850298062968837,
          0.7824191632020102,
          0.14198963927011843,
          0.22140049329370537,
          0.579515460168472,
          0.16181371320046545,
          0.5883757899166635,
          0.02604308918125109,
          0.26090301922017345,
          0.5805974960800105,
          0.7232294975840604,
          0.24373226166613238,
          0.9617387800662803,
          0.551570123295435,
          0.983748734732975,
          0.4132726481359237,
          0.6229251479477771,
          0.5376465556191714,
          0.9789285551685029,
          0.1834064781476592,
          0.6439832361233351,
          0.6363983761321924,
          0.6464798356756146,
          0.6574417578184225,
          0.2065257228736168,
          0.42153616539284555,
          0.21317008492642986,
          0.06760195797686785,
          0.8622181286928522,
          0.6295227335264666,
          0.5774924559003078,
          0.5933140138321926,
          0.28568082037252174,
          0.8705670599350567,
          0.7441604389927808,
          0.3430458530263313,
          0.21092218083001357,
          0.0399825978947741,
          0.707285804887193,
          0.5861501401596703,
          0.05740346710264077,
          0.3806226108983013,
          0.2832601312876608,
          0.9125761875011493,
          0.9816052623686817,
          0.7637461146602388,
          0.605883037604723,
          0.29741475595548106,
          0.44170441615244727,
          0.07561141681344008,
          0.8524962389676651,
          0.24875564713214637,
          0.5141128099152502,
          0.787231688125072,
          0.10250695898716633,
          0.13392099728906282,
          0.10563817120608365,
          0.9865468909726857,
          0.8708434229148565,
          0.45921016824620275,
          0.6144922514531,
          0.17981937467803732,
          0.14327446901148555,
          0.33033133686704963,
          0.40067970801217434,
          0.9856745153578925,
          0.7709257866880632,
          0.9882147582292691,
          0.27984622324928676,
          0.37723229185883855,
          0.3170486176103291,
          0.4605156874248826,
          0.3097430522138941,
          0.30077466802128927,
          0.8567468224797504,
          0.708334020253077,
          0.9428669649216245,
          0.525939071917806,
          0.3853712605748676,
          0.5905948498586845,
          0.2190460526968001,
          0.021021610653421785,
          0.5790599116523437,
          0.12229254387471544,
          0.711203920487389,
          0.016353822334763235,
          0.7811099728152785,
          0.8007423501133419,
          0.6369470939127811,
          0.39077208561409604,
          0.16845258251840223,
          0.9597773566002687,
          0.42198916594623714,
          0.750976573414352,
          0.7146284264665734,
          0.8998586992510224,
          0.9099272744688008,
          0.08214180659973547,
          0.7747582440246313,
          0.6900825059892425,
          0.2009293583340248,
          0.3439190090523627,
          0.3342791478516898,
          0.03880035987606811,
          0.9332287443945493,
          0.02159214978775348,
          0.10670679710192388,
          0.23432213234149812,
          0.5652072237156482,
          0.2619722483168304,
          0.8795358537302509,
          0.39304658140529214,
          0.5350364052901893,
          0.35649710330359086,
          0.5965194666441007,
          0.03752119934616038,
          0.6372213199083901,
          0.46921844997267304,
          0.9651706453463114,
          0.2620069012677919,
          0.9488927898420016,
          0.13288575126959346,
          0.4714780363390383,
          0.760923292490754,
          0.09262856946685116,
          0.5999394936255587,
          0.09957612523398851,
          0.6659685279418494,
          0.763342204115497,
          0.08417801988653517,
          0.10464280851086927,
          0.04226516774052358,
          0.45194022824688285,
          0.5513342440222344,
          0.08636258312093781,
          0.9908900000853476,
          0.7142172479643235,
          0.930318362296198,
          0.5762254688397944,
          0.09730349508965774,
          0.38561163501478013,
          0.6216232366920146,
          0.6208462988997753,
          0.7603052248500987,
          0.5720998590508991,
          0.9210900769368625,
          0.20126717384125425,
          0.30953681747317385,
          0.09049096867817807,
          0.33082178583527555,
          0.2668020277372688,
          0.3257807484693749,
          0.3760815453848241,
          0.2594751307151123,
          0.160977759352688,
          0.8875191353799454,
          0.27834661542022776,
          0.8593056559414292,
          0.22238726092060257,
          0.20943356204005037,
          0.3893062929367941,
          0.7053746653165798,
          0.7645526590803833,
          0.6341889292739372,
          0.5466000794539244,
          0.8487203529974586,
          0.283534695561526,
          0.5099062680234155,
          0.11932531017738868,
          0.014459678388518027,
          0.984262846494994,
          0.9495251721579274,
          0.01016857771646229,
          0.7637886461311553,
          0.31549263071718436,
          0.04380051650001804,
          0.095582531857208,
          0.7999780103031303,
          0.7332229823529837,
          0.9009246898105194,
          0.02216954550271233,
          0.7662310453841386,
          0.20865269104050432,
          0.34812597329902417,
          0.7203334121625756,
          0.2605260768770358,
          0.011986399905286604,
          0.36257575967406697,
          0.013680990139583904,
          0.07960805176329311,
          0.11090162622631672,
          0.9037649780716043,
          0.6899428644527856,
          0.7378918324297835,
          0.7852497382535442,
          0.9471285325999373,
          0.25991845449490303,
          0.36848581923532153,
          0.4080870272453343,
          0.8063808504757065,
          0.039851563123171396,
          0.028031226090266093,
          0.2308224260507853,
          0.5392760502322848,
          0.5676618976008633,
          0.6300420856202285,
          0.9179177915944826,
          0.05354299963068565,
          0.429976873353071,
          0.7756428680050454,
          0.2979254565338362,
          0.8422704665958245,
          0.0026749034720306986,
          0.8944178577239852,
          0.6231184791134408,
          0.8847364169581825,
          0.5613152540926853,
          0.20526539081887252,
          0.5879671800042331,
          0.14843590615152713,
          0.11416750655278729,
          0.6313831090058694,
          0.1145950315565023,
          0.24462054522762433,
          0.8518445202636524,
          0.22435370915753905,
          0.4236845131290149,
          0.30812169423905866,
          0.3886760419115106,
          0.7697046897159255,
          0.7216594573164137,
          0.4223945756846318,
          0.49737268758905284,
          0.7600165080617742,
          0.8879759877261333,
          0.8434014130100358,
          0.0659249994189467,
          0.17381280706535007,
          0.7181548093561825,
          0.9375500893156357,
          0.7365917618883695,
          0.8446664847882317,
          0.8199868505682683,
          0.6864922315760374,
          0.9917764468700435,
          0.2555780226420926,
          0.6743086319477759,
          0.08774563023613735,
          0.8353987462606051,
          0.8227028681892173,
          0.6374756038428738,
          0.13544512999993374,
          0.5099570726051287,
          0.9927244930063389,
          0.8264788565824632,
          0.446058395909394,
          0.9704400399047659,
          0.8996604843667277,
          0.3980833837568942,
          0.24213642493154608,
          0.2929469462613734,
          0.10069492901389743,
          0.7924267436481935,
          0.84569708623525,
          0.19934328624321118,
          0.15597624386888653,
          0.4813485332743246,
          0.856072184022137,
          0.833264676807547,
          0.07797679616225672,
          0.4472243189098136,
          0.7400084434767547,
          0.09425216984826268,
          0.5683851421159491,
          0.3082162360400107,
          0.12068926974507077,
          0.09358800776767928,
          0.3606476474569428,
          0.5182429743125723,
          0.6435602541450182,
          0.5770878239987918,
          0.1299737997796444,
          0.9651236004877621,
          0.4821253018303838,
          0.42865507745065967,
          0.6480936062053289,
          0.8303289202090273,
          0.5223607376149173,
          0.5494571303859979,
          0.5231492032377749,
          0.9517694742967593,
          0.9746536062934442,
          0.3329248883574796,
          0.2789147972693682,
          0.023807160926428206,
          0.9713320564334892,
          0.5762263071259484,
          0.0097795905184751,
          0.31790863829569327,
          0.4664063564086458,
          0.15113789428860935,
          0.8645602883048868,
          0.8482487072973729,
          0.35463356131818735,
          0.666138637707029,
          0.21540421430774348,
          0.46940347112040015,
          0.22554135182665513,
          0.7049057043134114,
          0.005138749043079649,
          0.09767219164944907,
          0.8823843280722807,
          0.29723037267848995,
          0.6020108340266698,
          0.039781048737196456,
          0.1287829807488592,
          0.35303288808519484,
          0.7302179330046081,
          0.30343316837963874,
          0.12434861730566105,
          0.3868058318822073,
          0.597469606776768,
          0.8635931503061985,
          0.02791975844916006,
          0.5801143928343382,
          0.18855448636847516,
          0.9976188941698232,
          0.12684910259399174,
          0.7345521540649473,
          0.2317137271293256,
          0.3686057108898184,
          0.14423171027175719,
          0.6148558897879186,
          0.6034114386426914,
          0.4819347137928178,
          0.2630814129490425,
          0.28682228212855254,
          0.9073983961924574,
          0.6246957174751354,
          0.7081467017119403,
          0.35518145542379786,
          0.12006951797043797,
          0.2246558779587251,
          0.5708371532806684,
          0.544837102961322,
          0.9595006771945793,
          0.8867497919202411,
          0.42166903309856396,
          0.6679411810798062,
          0.16317283999734722,
          0.8419620019744684,
          0.197535521873749,
          0.4642433608940688,
          0.42041804348968415,
          0.08242982930270715,
          0.8593247770345115,
          0.08690057345798907,
          0.054071273281276366,
          0.38397260172750114,
          0.07685212503336802,
          0.49985246754673285,
          0.262934319724348,
          0.8707054003075224,
          0.6368742242225612,
          0.4016405056387372,
          0.752525195653539,
          0.16931602356590747,
          0.10945923928544787,
          0.35260132456465876,
          0.5134844924849865,
          0.2961023167860115,
          0.10930148852527755,
          0.10927026630140613,
          0.10545246375772777,
          0.8503284674020851,
          0.48091639706018874,
          0.43361674450205245,
          0.25571205110677864,
          0.6772262180034926,
          0.6018640616435598,
          0.5635170534637641,
          0.3161588822224891,
          0.9062447383408684,
          0.02372240445199858,
          0.847908176491208,
          0.6585591279050172,
          0.9528734953324348,
          0.10625107112339116,
          0.6063545527094294,
          0.6976380548909048,
          0.34265485878182467,
          0.8209407088945054,
          0.7842747432415021,
          0.029838360600783043,
          0.015539436532853501,
          0.031065911744894592,
          0.11594952305191819,
          0.8765489695735866,
          0.2814924700372986,
          0.8486917999956317,
          0.8009981808987003,
          0.8923354613085195,
          0.3313009972599721,
          0.080285738491776,
          0.052766620606434,
          0.5401380949708396,
          0.5395243287444476,
          0.6122596525113646,
          0.09734916054242826,
          0.1921865149228168,
          0.1799915526983079,
          0.8836109253635016,
          0.9021622692193307,
          0.3463091544906075,
          0.5718415944762423,
          0.6636214819052618,
          0.04124722642659684,
          0.5597372084916926,
          0.9504290122685339,
          0.5235073846317623,
          0.32394279626856715,
          0.4757368830563894,
          0.46904434672469475,
          0.17740900445772534,
          0.13478250981347484,
          0.35404577268248294,
          0.7471265918811937,
          0.13605616685128885,
          0.5158036112072863
         ]
        }
       ],
       "layout": {
        "legend": {
         "bgcolor": "#F2F3F7",
         "font": {
          "color": "#505050"
         }
        },
        "paper_bgcolor": "#F2F3F7",
        "plot_bgcolor": "#F2F3F7",
        "template": {
         "data": {
          "bar": [
           {
            "error_x": {
             "color": "#2a3f5f"
            },
            "error_y": {
             "color": "#2a3f5f"
            },
            "marker": {
             "line": {
              "color": "#E5ECF6",
              "width": 0.5
             }
            },
            "type": "bar"
           }
          ],
          "barpolar": [
           {
            "marker": {
             "line": {
              "color": "#E5ECF6",
              "width": 0.5
             }
            },
            "type": "barpolar"
           }
          ],
          "carpet": [
           {
            "aaxis": {
             "endlinecolor": "#2a3f5f",
             "gridcolor": "white",
             "linecolor": "white",
             "minorgridcolor": "white",
             "startlinecolor": "#2a3f5f"
            },
            "baxis": {
             "endlinecolor": "#2a3f5f",
             "gridcolor": "white",
             "linecolor": "white",
             "minorgridcolor": "white",
             "startlinecolor": "#2a3f5f"
            },
            "type": "carpet"
           }
          ],
          "choropleth": [
           {
            "colorbar": {
             "outlinewidth": 0,
             "ticks": ""
            },
            "type": "choropleth"
           }
          ],
          "contour": [
           {
            "colorbar": {
             "outlinewidth": 0,
             "ticks": ""
            },
            "colorscale": [
             [
              0,
              "#0d0887"
             ],
             [
              0.1111111111111111,
              "#46039f"
             ],
             [
              0.2222222222222222,
              "#7201a8"
             ],
             [
              0.3333333333333333,
              "#9c179e"
             ],
             [
              0.4444444444444444,
              "#bd3786"
             ],
             [
              0.5555555555555556,
              "#d8576b"
             ],
             [
              0.6666666666666666,
              "#ed7953"
             ],
             [
              0.7777777777777778,
              "#fb9f3a"
             ],
             [
              0.8888888888888888,
              "#fdca26"
             ],
             [
              1,
              "#f0f921"
             ]
            ],
            "type": "contour"
           }
          ],
          "contourcarpet": [
           {
            "colorbar": {
             "outlinewidth": 0,
             "ticks": ""
            },
            "type": "contourcarpet"
           }
          ],
          "heatmap": [
           {
            "colorbar": {
             "outlinewidth": 0,
             "ticks": ""
            },
            "colorscale": [
             [
              0,
              "#0d0887"
             ],
             [
              0.1111111111111111,
              "#46039f"
             ],
             [
              0.2222222222222222,
              "#7201a8"
             ],
             [
              0.3333333333333333,
              "#9c179e"
             ],
             [
              0.4444444444444444,
              "#bd3786"
             ],
             [
              0.5555555555555556,
              "#d8576b"
             ],
             [
              0.6666666666666666,
              "#ed7953"
             ],
             [
              0.7777777777777778,
              "#fb9f3a"
             ],
             [
              0.8888888888888888,
              "#fdca26"
             ],
             [
              1,
              "#f0f921"
             ]
            ],
            "type": "heatmap"
           }
          ],
          "heatmapgl": [
           {
            "colorbar": {
             "outlinewidth": 0,
             "ticks": ""
            },
            "colorscale": [
             [
              0,
              "#0d0887"
             ],
             [
              0.1111111111111111,
              "#46039f"
             ],
             [
              0.2222222222222222,
              "#7201a8"
             ],
             [
              0.3333333333333333,
              "#9c179e"
             ],
             [
              0.4444444444444444,
              "#bd3786"
             ],
             [
              0.5555555555555556,
              "#d8576b"
             ],
             [
              0.6666666666666666,
              "#ed7953"
             ],
             [
              0.7777777777777778,
              "#fb9f3a"
             ],
             [
              0.8888888888888888,
              "#fdca26"
             ],
             [
              1,
              "#f0f921"
             ]
            ],
            "type": "heatmapgl"
           }
          ],
          "histogram": [
           {
            "marker": {
             "colorbar": {
              "outlinewidth": 0,
              "ticks": ""
             }
            },
            "type": "histogram"
           }
          ],
          "histogram2d": [
           {
            "colorbar": {
             "outlinewidth": 0,
             "ticks": ""
            },
            "colorscale": [
             [
              0,
              "#0d0887"
             ],
             [
              0.1111111111111111,
              "#46039f"
             ],
             [
              0.2222222222222222,
              "#7201a8"
             ],
             [
              0.3333333333333333,
              "#9c179e"
             ],
             [
              0.4444444444444444,
              "#bd3786"
             ],
             [
              0.5555555555555556,
              "#d8576b"
             ],
             [
              0.6666666666666666,
              "#ed7953"
             ],
             [
              0.7777777777777778,
              "#fb9f3a"
             ],
             [
              0.8888888888888888,
              "#fdca26"
             ],
             [
              1,
              "#f0f921"
             ]
            ],
            "type": "histogram2d"
           }
          ],
          "histogram2dcontour": [
           {
            "colorbar": {
             "outlinewidth": 0,
             "ticks": ""
            },
            "colorscale": [
             [
              0,
              "#0d0887"
             ],
             [
              0.1111111111111111,
              "#46039f"
             ],
             [
              0.2222222222222222,
              "#7201a8"
             ],
             [
              0.3333333333333333,
              "#9c179e"
             ],
             [
              0.4444444444444444,
              "#bd3786"
             ],
             [
              0.5555555555555556,
              "#d8576b"
             ],
             [
              0.6666666666666666,
              "#ed7953"
             ],
             [
              0.7777777777777778,
              "#fb9f3a"
             ],
             [
              0.8888888888888888,
              "#fdca26"
             ],
             [
              1,
              "#f0f921"
             ]
            ],
            "type": "histogram2dcontour"
           }
          ],
          "mesh3d": [
           {
            "colorbar": {
             "outlinewidth": 0,
             "ticks": ""
            },
            "type": "mesh3d"
           }
          ],
          "parcoords": [
           {
            "line": {
             "colorbar": {
              "outlinewidth": 0,
              "ticks": ""
             }
            },
            "type": "parcoords"
           }
          ],
          "pie": [
           {
            "automargin": true,
            "type": "pie"
           }
          ],
          "scatter": [
           {
            "marker": {
             "colorbar": {
              "outlinewidth": 0,
              "ticks": ""
             }
            },
            "type": "scatter"
           }
          ],
          "scatter3d": [
           {
            "line": {
             "colorbar": {
              "outlinewidth": 0,
              "ticks": ""
             }
            },
            "marker": {
             "colorbar": {
              "outlinewidth": 0,
              "ticks": ""
             }
            },
            "type": "scatter3d"
           }
          ],
          "scattercarpet": [
           {
            "marker": {
             "colorbar": {
              "outlinewidth": 0,
              "ticks": ""
             }
            },
            "type": "scattercarpet"
           }
          ],
          "scattergeo": [
           {
            "marker": {
             "colorbar": {
              "outlinewidth": 0,
              "ticks": ""
             }
            },
            "type": "scattergeo"
           }
          ],
          "scattergl": [
           {
            "marker": {
             "colorbar": {
              "outlinewidth": 0,
              "ticks": ""
             }
            },
            "type": "scattergl"
           }
          ],
          "scattermapbox": [
           {
            "marker": {
             "colorbar": {
              "outlinewidth": 0,
              "ticks": ""
             }
            },
            "type": "scattermapbox"
           }
          ],
          "scatterpolar": [
           {
            "marker": {
             "colorbar": {
              "outlinewidth": 0,
              "ticks": ""
             }
            },
            "type": "scatterpolar"
           }
          ],
          "scatterpolargl": [
           {
            "marker": {
             "colorbar": {
              "outlinewidth": 0,
              "ticks": ""
             }
            },
            "type": "scatterpolargl"
           }
          ],
          "scatterternary": [
           {
            "marker": {
             "colorbar": {
              "outlinewidth": 0,
              "ticks": ""
             }
            },
            "type": "scatterternary"
           }
          ],
          "surface": [
           {
            "colorbar": {
             "outlinewidth": 0,
             "ticks": ""
            },
            "colorscale": [
             [
              0,
              "#0d0887"
             ],
             [
              0.1111111111111111,
              "#46039f"
             ],
             [
              0.2222222222222222,
              "#7201a8"
             ],
             [
              0.3333333333333333,
              "#9c179e"
             ],
             [
              0.4444444444444444,
              "#bd3786"
             ],
             [
              0.5555555555555556,
              "#d8576b"
             ],
             [
              0.6666666666666666,
              "#ed7953"
             ],
             [
              0.7777777777777778,
              "#fb9f3a"
             ],
             [
              0.8888888888888888,
              "#fdca26"
             ],
             [
              1,
              "#f0f921"
             ]
            ],
            "type": "surface"
           }
          ],
          "table": [
           {
            "cells": {
             "fill": {
              "color": "#EBF0F8"
             },
             "line": {
              "color": "white"
             }
            },
            "header": {
             "fill": {
              "color": "#C8D4E3"
             },
             "line": {
              "color": "white"
             }
            },
            "type": "table"
           }
          ]
         },
         "layout": {
          "annotationdefaults": {
           "arrowcolor": "#2a3f5f",
           "arrowhead": 0,
           "arrowwidth": 1
          },
          "coloraxis": {
           "colorbar": {
            "outlinewidth": 0,
            "ticks": ""
           }
          },
          "colorscale": {
           "diverging": [
            [
             0,
             "#8e0152"
            ],
            [
             0.1,
             "#c51b7d"
            ],
            [
             0.2,
             "#de77ae"
            ],
            [
             0.3,
             "#f1b6da"
            ],
            [
             0.4,
             "#fde0ef"
            ],
            [
             0.5,
             "#f7f7f7"
            ],
            [
             0.6,
             "#e6f5d0"
            ],
            [
             0.7,
             "#b8e186"
            ],
            [
             0.8,
             "#7fbc41"
            ],
            [
             0.9,
             "#4d9221"
            ],
            [
             1,
             "#276419"
            ]
           ],
           "sequential": [
            [
             0,
             "#0d0887"
            ],
            [
             0.1111111111111111,
             "#46039f"
            ],
            [
             0.2222222222222222,
             "#7201a8"
            ],
            [
             0.3333333333333333,
             "#9c179e"
            ],
            [
             0.4444444444444444,
             "#bd3786"
            ],
            [
             0.5555555555555556,
             "#d8576b"
            ],
            [
             0.6666666666666666,
             "#ed7953"
            ],
            [
             0.7777777777777778,
             "#fb9f3a"
            ],
            [
             0.8888888888888888,
             "#fdca26"
            ],
            [
             1,
             "#f0f921"
            ]
           ],
           "sequentialminus": [
            [
             0,
             "#0d0887"
            ],
            [
             0.1111111111111111,
             "#46039f"
            ],
            [
             0.2222222222222222,
             "#7201a8"
            ],
            [
             0.3333333333333333,
             "#9c179e"
            ],
            [
             0.4444444444444444,
             "#bd3786"
            ],
            [
             0.5555555555555556,
             "#d8576b"
            ],
            [
             0.6666666666666666,
             "#ed7953"
            ],
            [
             0.7777777777777778,
             "#fb9f3a"
            ],
            [
             0.8888888888888888,
             "#fdca26"
            ],
            [
             1,
             "#f0f921"
            ]
           ]
          },
          "colorway": [
           "#636efa",
           "#EF553B",
           "#00cc96",
           "#ab63fa",
           "#FFA15A",
           "#19d3f3",
           "#FF6692",
           "#B6E880",
           "#FF97FF",
           "#FECB52"
          ],
          "font": {
           "color": "#2a3f5f"
          },
          "geo": {
           "bgcolor": "white",
           "lakecolor": "white",
           "landcolor": "#E5ECF6",
           "showlakes": true,
           "showland": true,
           "subunitcolor": "white"
          },
          "hoverlabel": {
           "align": "left"
          },
          "hovermode": "closest",
          "mapbox": {
           "style": "light"
          },
          "paper_bgcolor": "white",
          "plot_bgcolor": "#E5ECF6",
          "polar": {
           "angularaxis": {
            "gridcolor": "white",
            "linecolor": "white",
            "ticks": ""
           },
           "bgcolor": "#E5ECF6",
           "radialaxis": {
            "gridcolor": "white",
            "linecolor": "white",
            "ticks": ""
           }
          },
          "scene": {
           "xaxis": {
            "backgroundcolor": "#E5ECF6",
            "gridcolor": "white",
            "gridwidth": 2,
            "linecolor": "white",
            "showbackground": true,
            "ticks": "",
            "zerolinecolor": "white"
           },
           "yaxis": {
            "backgroundcolor": "#E5ECF6",
            "gridcolor": "white",
            "gridwidth": 2,
            "linecolor": "white",
            "showbackground": true,
            "ticks": "",
            "zerolinecolor": "white"
           },
           "zaxis": {
            "backgroundcolor": "#E5ECF6",
            "gridcolor": "white",
            "gridwidth": 2,
            "linecolor": "white",
            "showbackground": true,
            "ticks": "",
            "zerolinecolor": "white"
           }
          },
          "shapedefaults": {
           "line": {
            "color": "#2a3f5f"
           }
          },
          "ternary": {
           "aaxis": {
            "gridcolor": "white",
            "linecolor": "white",
            "ticks": ""
           },
           "baxis": {
            "gridcolor": "white",
            "linecolor": "white",
            "ticks": ""
           },
           "bgcolor": "#E5ECF6",
           "caxis": {
            "gridcolor": "white",
            "linecolor": "white",
            "ticks": ""
           }
          },
          "title": {
           "x": 0.05
          },
          "xaxis": {
           "automargin": true,
           "gridcolor": "white",
           "linecolor": "white",
           "ticks": "",
           "title": {
            "standoff": 15
           },
           "zerolinecolor": "white",
           "zerolinewidth": 2
          },
          "yaxis": {
           "automargin": true,
           "gridcolor": "white",
           "linecolor": "white",
           "ticks": "",
           "title": {
            "standoff": 15
           },
           "zerolinecolor": "white",
           "zerolinewidth": 2
          }
         }
        },
        "title": {
         "font": {
          "color": "#484848"
         }
        },
        "xaxis": {
         "gridcolor": "#E1E5ED",
         "showgrid": true,
         "tickfont": {
          "color": "#505050"
         },
         "title": {
          "font": {
           "color": "#505050"
          },
          "text": ""
         },
         "zerolinecolor": "#E1E5ED"
        },
        "yaxis": {
         "gridcolor": "#E1E5ED",
         "showgrid": true,
         "tickfont": {
          "color": "#505050"
         },
         "title": {
          "font": {
           "color": "#505050"
          },
          "text": ""
         },
         "zerolinecolor": "#E1E5ED"
        }
       }
      },
      "text/html": [
       "<div>                            <div id=\"dafaca89-f299-488d-a7c3-dee31ef3aa80\" class=\"plotly-graph-div\" style=\"height:525px; width:100%;\"></div>            <script type=\"text/javascript\">                require([\"plotly\"], function(Plotly) {                    window.PLOTLYENV=window.PLOTLYENV || {};\n",
       "                    window.PLOTLYENV.BASE_URL='https://plot.ly';                                    if (document.getElementById(\"dafaca89-f299-488d-a7c3-dee31ef3aa80\")) {                    Plotly.newPlot(                        \"dafaca89-f299-488d-a7c3-dee31ef3aa80\",                        [{\"line\": {\"color\": \"rgba(0, 128, 240, 1.0)\", \"dash\": \"solid\", \"shape\": \"linear\", \"width\": 1.3}, \"marker\": {\"size\": 12, \"symbol\": \"circle\"}, \"mode\": \"markers\", \"name\": \"d\", \"text\": \"\", \"type\": \"scatter\", \"x\": [0.3064788168016591, 0.2774170234998602, 0.5557706279753811, 0.8092089250544994, 0.952604741599049, 0.34855987727335613, 0.026130262652994563, 0.33550549398196583, 0.0023849405364854137, 0.9979694333586758, 0.6697328578959016, 0.2615128909754272, 0.4284969034241872, 0.5337696016486151, 0.6339835804067, 0.20981483584866922, 0.5544272524846942, 0.4376628696461201, 0.5289365510999644, 0.01682377041682459, 0.15284378899714535, 0.8821289577861465, 0.9389719492407574, 0.2054895540267716, 0.7135202880431795, 0.7321362257279919, 0.8749463685831604, 0.45081570855889685, 0.4248159598425487, 0.14103264624603917, 0.2690533749934134, 0.3113085931356592, 0.7826841281388869, 0.981802615047023, 0.8349164321642933, 0.8964187131181303, 0.47346476672337445, 0.1518911167821816, 0.8770444529567529, 0.614189348894898, 0.28166798892103095, 0.715742702771851, 0.8029527598895356, 0.9365851045147381, 0.5693947484838289, 0.19596732511058246, 0.7319805322890214, 0.3732869001538365, 0.05687924900525165, 0.17575672792420016, 0.453279934278087, 0.8895143481531342, 0.8826843134943514, 0.3252581760189637, 0.7202432133763603, 0.6651206278264198, 0.9392302714655232, 0.8731696699696143, 0.5674898533398796, 0.3789835634029457, 0.9035005733340052, 0.5207444226038157, 0.6471677060508368, 0.21485001609789978, 0.5512486687480036, 0.4501600701479044, 0.14337642107828996, 0.09941775505548678, 0.9993703501007617, 0.5368230077638506, 0.6769248069648821, 0.6466984449434228, 0.49882985667078783, 0.3485184204081535, 0.7569804720762254, 0.09917623878398596, 0.607975802121348, 0.09167264910496664, 0.48441394879637334, 0.3387328862576201, 0.6744756957783359, 0.29586046048578374, 0.38674554211585754, 0.7514668943982338, 0.11965481023105562, 0.5018012531688718, 0.8036146323563258, 0.10191153430199773, 0.7887869448265602, 0.7123942523891824, 0.9499977046565815, 0.7899203513776947, 0.43587834478958454, 0.7761936668023578, 0.9224753949068517, 0.9785181109715341, 0.49464028150684725, 0.893050848988973, 0.3724779890088483, 0.01413135263776688, 0.9629750011758393, 0.7640063253251924, 0.1886140696342855, 0.7287069414337524, 0.7031596796696896, 0.9434932484924041, 0.11199110403585366, 0.04857469070469256, 0.9176354493203208, 0.15001220326724107, 0.04401699618593036, 0.2907710736088497, 0.2308523643359217, 0.690482838431078, 0.9500688837787005, 0.4558471847883774, 0.6886218560749403, 0.7171091736200109, 0.8727119722656921, 0.39476826209279403, 0.22276361475650774, 0.7271210226320831, 0.2004429869072728, 0.28505736681268357, 0.058075165415397256, 0.08450216071840633, 0.5036010453162814, 0.6202437555886204, 0.8815917454331385, 0.6383521279162563, 0.15203882641341315, 0.39915029543497504, 0.7011148898682465, 0.06968872576072516, 0.08503091553056963, 0.21180605343255465, 0.9560146962045544, 0.7486475889909652, 0.8228751054417954, 0.079434135901581, 0.5144395348454428, 0.08614437826176458, 0.99141559174368, 0.6364556510921128, 0.0013779526904426076, 0.24393587689030993, 0.2997566575756414, 0.774407147225109, 0.9964707733214092, 0.04668108425338058, 0.6068260848492711, 0.1830093234155954, 0.7020540231486604, 0.9046816290010334, 0.5317352464722712, 0.992947911706319, 0.35505822356783234, 0.8097695830605698, 0.6641023447121631, 0.6713036914886805, 0.2703301895937118, 0.541105796920765, 0.3352564652166572, 0.29088385653066307, 0.60721967220201, 0.018466138230353146, 0.44196872667612297, 0.7128712346968414, 0.33568518992986995, 0.7998250602524438, 0.14081347063259853, 0.8019336859359749, 0.34036560247879366, 0.7418202335705771, 0.7548737219818882, 0.6974289358717094, 0.18368003773172958, 0.5319909104405229, 0.0572090203006006, 0.8723978267370338, 0.9643366980391344, 0.3885542065388097, 0.8786491267557994, 0.07356609572806372, 0.08670378379804577, 0.38098850185338184, 0.554327570616008, 0.6841467119577819, 0.5139992916570553, 0.9326417000390486, 0.9242166540700876, 0.7980746931835301, 0.1676195162632671, 0.8837296793013999, 0.6011138563945565, 0.6676505707494922, 0.02469135848278259, 0.2584516952291458, 0.06452670654954407, 0.1451729388373102, 0.1769099999221393, 0.808463664804445, 0.38908998680844364, 0.23975395974505054, 0.8017689922794748, 0.5745383525178179, 0.34912168754705497, 0.8711856154502307, 0.6692031369599727, 0.07362703389493908, 0.8575628320377972, 0.8551360218535055, 0.5479428044279245, 0.5252021439160995, 0.10145305089568724, 0.09636008325989132, 0.2639978035302374, 0.21556751316724154, 0.5536131811257295, 0.32976468567676964, 0.07350848911099994, 0.7092580938487774, 0.2323242856949823, 0.17529165274719394, 0.6119368234890248, 0.8644084917192159, 0.12023045858070247, 0.19871356672926255, 0.6823901314299364, 0.4235956335004648, 0.6432247257017671, 0.8511856684869076, 0.9715345985209064, 0.9600017134303244, 0.37384422641149206, 0.338333723056242, 0.8649271831637898, 0.2937645977592399, 0.2831210200282088, 0.7091327624498599, 0.5996656203872033, 0.8831174070571561, 0.39470190204582545, 0.9619810784917752, 0.10861224941551506, 0.8878748757817182, 0.6856128728390959, 0.12636859371002518, 0.605708562945765, 0.5891236768530903, 0.7213000450347291, 0.8285012409036224, 0.06776043616047334, 0.19717395614984357, 0.4753160816384462, 0.9470185629743382, 0.914822182974793, 0.2369332969393596, 0.16318035387207352, 0.8454018353755258, 0.22100716801057285, 0.7820912092163438, 0.9523972339143502, 0.9874310484721038, 0.805315183971863, 0.6387510954688298, 0.73153114286172, 0.657689524259831, 0.8476786913003413, 0.16578232685133143, 0.020295304710816753, 0.37212651289776133, 0.7095033983219992, 0.7734516301346205, 0.019792020538705102, 0.19417947877181707, 0.42253923680466254, 0.892776204670384, 0.1684185590211592, 0.6622949984219365, 0.2503662512403878, 0.9933369918648854, 0.20308935908948622, 0.18033443832089935, 0.23182446263377243, 0.7176154615760546, 0.3555159399655774, 0.5324142595495229, 0.31158715105683366, 0.20276401233558616, 0.7261847992737316, 0.3699094402653783, 0.07461015758044542, 0.7569295913135357, 0.39047506401342547, 0.37974805863455807, 0.3134892638299559, 0.09271405555350398, 0.744624669935465, 0.7684639487886813, 0.19975418454413119, 0.12513884395796238, 0.7484870344124719, 0.5434852872763668, 0.6189066337958402, 0.9439537841548534, 0.7777275520309884, 0.806000865356415, 0.883339214870903, 0.8753778845470342, 0.6356526486952608, 0.919810760485115, 0.8456764100712708, 0.620410793117682, 0.2652384876710101, 0.7969365938633743, 0.02137987130761576, 0.19264024583053418, 0.2649386202463061, 0.12740185745818633, 0.5781009100817355, 0.20027851149758846, 0.4186349312901525, 0.5261892006616611, 0.5944107765474641, 0.998187292756693, 0.5563322482529964, 0.8963153495595724, 0.0009307180441107121, 0.7761147852004939, 0.784755866296616, 0.16588317367861904, 0.6215015739564373, 0.7292470351714685, 0.09498651761660071, 0.13481972125850883, 0.3709515845216512, 0.2779193395538957, 0.23888791237242335, 0.06809545954410445, 0.1341313170459515, 0.6014848356938088, 0.05264920271451512, 0.11726694440703878, 0.7461214986543615, 0.21326412177040566, 0.9016624401270573, 0.04841836371516273, 0.8442309522837479, 0.03557750949290761, 0.9383014485699411, 0.6341663275747665, 0.9674336694612349, 0.26086785050274874, 0.30540937829396897, 0.3316766005632137, 0.8116751009898961, 0.8155474326489149, 0.9024956735328499, 0.3152947998814971, 0.31939900304110724, 0.8381666249537155, 0.8692269025352407, 0.4109271641165214, 0.21781519623781553, 0.2035716050055144, 0.4882493361725583, 0.28735164326000273, 0.5456625999608536, 0.1706213650618582, 0.015715900919217485, 0.47004484250379597, 0.897080100171877, 0.7690720807707596, 0.44568963654809124, 0.9825800994942644, 0.8768027946382951, 0.3020612128976571, 0.7344310577517016, 0.23877535671726569, 0.12321577183767307, 0.017562139049896563, 0.6954607021423196, 0.30366056400792807, 0.7153930833568588, 0.09350629478548556, 0.12707100237136693, 0.5157939927290959, 0.643006987088474, 0.36845438884574844, 0.04078004170178884, 0.8874911691076495, 0.0155692880279098, 0.741328597958119, 0.9360940704771175, 0.28848240499097877, 0.8622763128616008, 0.36998683076036365, 0.20196896608021364, 0.9462661810096469, 0.8324897650669026, 0.43660381060085174, 0.7716796789706577, 0.9770235605974316, 0.6004337603244323, 0.21518239212739343, 0.8820569108183851, 0.6279954302485796, 0.4446239399176216, 0.29823959720667415, 0.7001973358935065, 0.13961973413610296, 0.262298130433009, 0.44811332902621037, 0.04067981719418379, 0.35699849514741544, 0.024140204430177947, 0.413625747943726, 0.9426868569940745, 0.8443368571054861, 0.7499229929529748, 0.7519108774764995, 0.4430603724625176, 0.491303668804398, 0.7459451252114322, 0.08948652667066515, 0.5791545896333244, 0.027260345505210726, 0.9184931991293015, 0.26829132285809887, 0.13624165461891624, 0.8860956432393491, 0.3632501775685155, 0.6839983469182547, 0.38113801581581996, 0.36766224879474174, 0.5769687941977872, 0.46623963086424636, 0.6822542358939895, 0.29983285029610574, 0.24029325914178346, 0.9656164599906808, 0.8172489557024772, 0.5023921474060127, 0.2310225933269361, 0.725828230195959, 0.09167028932605514, 0.4935934940212301, 0.7712198409962557, 0.5310027166047128, 0.18399386239103133, 0.5653314483320067, 0.2094935380924715, 0.07331432816715489, 0.21325433484137568, 0.9949703342880702, 0.8826769709265118, 0.7647291725654789, 0.1780769470426269, 0.139585865746925, 0.4561176067078029, 0.10096458947786369, 0.979382111500265, 0.46949476284488234, 0.680031567171001, 0.5467008462823473, 0.05497208831092548, 0.4448339900956114, 0.44102891302049274, 0.3685515867489787, 0.6895374558664848, 0.35102814494578183, 0.26768336555789574, 0.330775235895749, 0.41423611778182956, 0.1482285929628886, 0.31324984520881083, 0.5068828340455704, 0.9153057943580991, 0.8751448259840444, 0.3933346656012907, 0.17036989705739702, 0.8572449145396289, 0.2641574489813745, 0.8997810844538439, 0.3455418821628501, 0.15390791532167225, 0.7656458340412612, 0.959831912249859, 0.4418411862619116, 0.15116136944299707, 0.36406731841423945, 0.1555955449241565, 0.4445459755801635, 0.40202219889947644, 0.3913370467738819, 0.0457186145419648, 0.6904792889501941, 0.07606382963678782, 0.3769091201536693], \"y\": [0.3896806062312035, 0.6016773450890376, 0.23841087993121146, 0.19884065225342118, 0.9752838005560872, 0.4699227043408063, 0.9465154263304705, 0.5534793215065338, 0.7909253329772893, 0.1361588950947712, 0.8183301351464763, 0.07478510759432433, 0.3507015490078286, 0.9799639868697241, 0.5303164189087877, 0.4282326925533654, 0.6052104948254796, 0.857505785487013, 0.3013470637708028, 0.04509664456176432, 0.38940009942745524, 0.9330982238795964, 0.3325498915540256, 0.03273466407182202, 0.3722479666153362, 0.7657818930965458, 0.3424403833853863, 0.8387779070410587, 0.7308760703974471, 0.969869415758757, 0.19732400280408158, 0.1454898254867537, 0.7926549063051064, 0.38204061114565746, 0.8786920649602199, 0.2999164393491691, 0.6465378023346116, 0.9988702490679888, 0.28448211207930996, 0.4762815715251052, 0.7426600306014506, 0.3018458569486062, 0.2380219193508647, 0.32380701602653306, 0.17155620639223135, 0.6703124734035301, 0.5186545154968556, 0.3445325911825592, 0.44388035634002, 0.4024415371143064, 0.10899555900415692, 0.4625373048742518, 0.07807785473176565, 0.7565688181279969, 0.1665397466803894, 0.8120953537177051, 0.42079903284323317, 0.5303817477683147, 0.864359421439866, 0.839922684411149, 0.662383053785956, 0.08061001091717013, 0.7147986809371482, 0.30313576684584054, 0.659277587169612, 0.3591434957250961, 0.6447616958075361, 0.7114358328785163, 0.8416043148295363, 0.07679076931608086, 0.7915837925440244, 0.2850298062968837, 0.7824191632020102, 0.14198963927011843, 0.22140049329370537, 0.579515460168472, 0.16181371320046545, 0.5883757899166635, 0.02604308918125109, 0.26090301922017345, 0.5805974960800105, 0.7232294975840604, 0.24373226166613238, 0.9617387800662803, 0.551570123295435, 0.983748734732975, 0.4132726481359237, 0.6229251479477771, 0.5376465556191714, 0.9789285551685029, 0.1834064781476592, 0.6439832361233351, 0.6363983761321924, 0.6464798356756146, 0.6574417578184225, 0.2065257228736168, 0.42153616539284555, 0.21317008492642986, 0.06760195797686785, 0.8622181286928522, 0.6295227335264666, 0.5774924559003078, 0.5933140138321926, 0.28568082037252174, 0.8705670599350567, 0.7441604389927808, 0.3430458530263313, 0.21092218083001357, 0.0399825978947741, 0.707285804887193, 0.5861501401596703, 0.05740346710264077, 0.3806226108983013, 0.2832601312876608, 0.9125761875011493, 0.9816052623686817, 0.7637461146602388, 0.605883037604723, 0.29741475595548106, 0.44170441615244727, 0.07561141681344008, 0.8524962389676651, 0.24875564713214637, 0.5141128099152502, 0.787231688125072, 0.10250695898716633, 0.13392099728906282, 0.10563817120608365, 0.9865468909726857, 0.8708434229148565, 0.45921016824620275, 0.6144922514531, 0.17981937467803732, 0.14327446901148555, 0.33033133686704963, 0.40067970801217434, 0.9856745153578925, 0.7709257866880632, 0.9882147582292691, 0.27984622324928676, 0.37723229185883855, 0.3170486176103291, 0.4605156874248826, 0.3097430522138941, 0.30077466802128927, 0.8567468224797504, 0.708334020253077, 0.9428669649216245, 0.525939071917806, 0.3853712605748676, 0.5905948498586845, 0.2190460526968001, 0.021021610653421785, 0.5790599116523437, 0.12229254387471544, 0.711203920487389, 0.016353822334763235, 0.7811099728152785, 0.8007423501133419, 0.6369470939127811, 0.39077208561409604, 0.16845258251840223, 0.9597773566002687, 0.42198916594623714, 0.750976573414352, 0.7146284264665734, 0.8998586992510224, 0.9099272744688008, 0.08214180659973547, 0.7747582440246313, 0.6900825059892425, 0.2009293583340248, 0.3439190090523627, 0.3342791478516898, 0.03880035987606811, 0.9332287443945493, 0.02159214978775348, 0.10670679710192388, 0.23432213234149812, 0.5652072237156482, 0.2619722483168304, 0.8795358537302509, 0.39304658140529214, 0.5350364052901893, 0.35649710330359086, 0.5965194666441007, 0.03752119934616038, 0.6372213199083901, 0.46921844997267304, 0.9651706453463114, 0.2620069012677919, 0.9488927898420016, 0.13288575126959346, 0.4714780363390383, 0.760923292490754, 0.09262856946685116, 0.5999394936255587, 0.09957612523398851, 0.6659685279418494, 0.763342204115497, 0.08417801988653517, 0.10464280851086927, 0.04226516774052358, 0.45194022824688285, 0.5513342440222344, 0.08636258312093781, 0.9908900000853476, 0.7142172479643235, 0.930318362296198, 0.5762254688397944, 0.09730349508965774, 0.38561163501478013, 0.6216232366920146, 0.6208462988997753, 0.7603052248500987, 0.5720998590508991, 0.9210900769368625, 0.20126717384125425, 0.30953681747317385, 0.09049096867817807, 0.33082178583527555, 0.2668020277372688, 0.3257807484693749, 0.3760815453848241, 0.2594751307151123, 0.160977759352688, 0.8875191353799454, 0.27834661542022776, 0.8593056559414292, 0.22238726092060257, 0.20943356204005037, 0.3893062929367941, 0.7053746653165798, 0.7645526590803833, 0.6341889292739372, 0.5466000794539244, 0.8487203529974586, 0.283534695561526, 0.5099062680234155, 0.11932531017738868, 0.014459678388518027, 0.984262846494994, 0.9495251721579274, 0.01016857771646229, 0.7637886461311553, 0.31549263071718436, 0.04380051650001804, 0.095582531857208, 0.7999780103031303, 0.7332229823529837, 0.9009246898105194, 0.02216954550271233, 0.7662310453841386, 0.20865269104050432, 0.34812597329902417, 0.7203334121625756, 0.2605260768770358, 0.011986399905286604, 0.36257575967406697, 0.013680990139583904, 0.07960805176329311, 0.11090162622631672, 0.9037649780716043, 0.6899428644527856, 0.7378918324297835, 0.7852497382535442, 0.9471285325999373, 0.25991845449490303, 0.36848581923532153, 0.4080870272453343, 0.8063808504757065, 0.039851563123171396, 0.028031226090266093, 0.2308224260507853, 0.5392760502322848, 0.5676618976008633, 0.6300420856202285, 0.9179177915944826, 0.05354299963068565, 0.429976873353071, 0.7756428680050454, 0.2979254565338362, 0.8422704665958245, 0.0026749034720306986, 0.8944178577239852, 0.6231184791134408, 0.8847364169581825, 0.5613152540926853, 0.20526539081887252, 0.5879671800042331, 0.14843590615152713, 0.11416750655278729, 0.6313831090058694, 0.1145950315565023, 0.24462054522762433, 0.8518445202636524, 0.22435370915753905, 0.4236845131290149, 0.30812169423905866, 0.3886760419115106, 0.7697046897159255, 0.7216594573164137, 0.4223945756846318, 0.49737268758905284, 0.7600165080617742, 0.8879759877261333, 0.8434014130100358, 0.0659249994189467, 0.17381280706535007, 0.7181548093561825, 0.9375500893156357, 0.7365917618883695, 0.8446664847882317, 0.8199868505682683, 0.6864922315760374, 0.9917764468700435, 0.2555780226420926, 0.6743086319477759, 0.08774563023613735, 0.8353987462606051, 0.8227028681892173, 0.6374756038428738, 0.13544512999993374, 0.5099570726051287, 0.9927244930063389, 0.8264788565824632, 0.446058395909394, 0.9704400399047659, 0.8996604843667277, 0.3980833837568942, 0.24213642493154608, 0.2929469462613734, 0.10069492901389743, 0.7924267436481935, 0.84569708623525, 0.19934328624321118, 0.15597624386888653, 0.4813485332743246, 0.856072184022137, 0.833264676807547, 0.07797679616225672, 0.4472243189098136, 0.7400084434767547, 0.09425216984826268, 0.5683851421159491, 0.3082162360400107, 0.12068926974507077, 0.09358800776767928, 0.3606476474569428, 0.5182429743125723, 0.6435602541450182, 0.5770878239987918, 0.1299737997796444, 0.9651236004877621, 0.4821253018303838, 0.42865507745065967, 0.6480936062053289, 0.8303289202090273, 0.5223607376149173, 0.5494571303859979, 0.5231492032377749, 0.9517694742967593, 0.9746536062934442, 0.3329248883574796, 0.2789147972693682, 0.023807160926428206, 0.9713320564334892, 0.5762263071259484, 0.0097795905184751, 0.31790863829569327, 0.4664063564086458, 0.15113789428860935, 0.8645602883048868, 0.8482487072973729, 0.35463356131818735, 0.666138637707029, 0.21540421430774348, 0.46940347112040015, 0.22554135182665513, 0.7049057043134114, 0.005138749043079649, 0.09767219164944907, 0.8823843280722807, 0.29723037267848995, 0.6020108340266698, 0.039781048737196456, 0.1287829807488592, 0.35303288808519484, 0.7302179330046081, 0.30343316837963874, 0.12434861730566105, 0.3868058318822073, 0.597469606776768, 0.8635931503061985, 0.02791975844916006, 0.5801143928343382, 0.18855448636847516, 0.9976188941698232, 0.12684910259399174, 0.7345521540649473, 0.2317137271293256, 0.3686057108898184, 0.14423171027175719, 0.6148558897879186, 0.6034114386426914, 0.4819347137928178, 0.2630814129490425, 0.28682228212855254, 0.9073983961924574, 0.6246957174751354, 0.7081467017119403, 0.35518145542379786, 0.12006951797043797, 0.2246558779587251, 0.5708371532806684, 0.544837102961322, 0.9595006771945793, 0.8867497919202411, 0.42166903309856396, 0.6679411810798062, 0.16317283999734722, 0.8419620019744684, 0.197535521873749, 0.4642433608940688, 0.42041804348968415, 0.08242982930270715, 0.8593247770345115, 0.08690057345798907, 0.054071273281276366, 0.38397260172750114, 0.07685212503336802, 0.49985246754673285, 0.262934319724348, 0.8707054003075224, 0.6368742242225612, 0.4016405056387372, 0.752525195653539, 0.16931602356590747, 0.10945923928544787, 0.35260132456465876, 0.5134844924849865, 0.2961023167860115, 0.10930148852527755, 0.10927026630140613, 0.10545246375772777, 0.8503284674020851, 0.48091639706018874, 0.43361674450205245, 0.25571205110677864, 0.6772262180034926, 0.6018640616435598, 0.5635170534637641, 0.3161588822224891, 0.9062447383408684, 0.02372240445199858, 0.847908176491208, 0.6585591279050172, 0.9528734953324348, 0.10625107112339116, 0.6063545527094294, 0.6976380548909048, 0.34265485878182467, 0.8209407088945054, 0.7842747432415021, 0.029838360600783043, 0.015539436532853501, 0.031065911744894592, 0.11594952305191819, 0.8765489695735866, 0.2814924700372986, 0.8486917999956317, 0.8009981808987003, 0.8923354613085195, 0.3313009972599721, 0.080285738491776, 0.052766620606434, 0.5401380949708396, 0.5395243287444476, 0.6122596525113646, 0.09734916054242826, 0.1921865149228168, 0.1799915526983079, 0.8836109253635016, 0.9021622692193307, 0.3463091544906075, 0.5718415944762423, 0.6636214819052618, 0.04124722642659684, 0.5597372084916926, 0.9504290122685339, 0.5235073846317623, 0.32394279626856715, 0.4757368830563894, 0.46904434672469475, 0.17740900445772534, 0.13478250981347484, 0.35404577268248294, 0.7471265918811937, 0.13605616685128885, 0.5158036112072863]}],                        {\"legend\": {\"bgcolor\": \"#F2F3F7\", \"font\": {\"color\": \"#505050\"}}, \"paper_bgcolor\": \"#F2F3F7\", \"plot_bgcolor\": \"#F2F3F7\", \"template\": {\"data\": {\"bar\": [{\"error_x\": {\"color\": \"#2a3f5f\"}, \"error_y\": {\"color\": \"#2a3f5f\"}, \"marker\": {\"line\": {\"color\": \"#E5ECF6\", \"width\": 0.5}}, \"type\": \"bar\"}], \"barpolar\": [{\"marker\": {\"line\": {\"color\": \"#E5ECF6\", \"width\": 0.5}}, \"type\": \"barpolar\"}], \"carpet\": [{\"aaxis\": {\"endlinecolor\": \"#2a3f5f\", \"gridcolor\": \"white\", \"linecolor\": \"white\", \"minorgridcolor\": \"white\", \"startlinecolor\": \"#2a3f5f\"}, \"baxis\": {\"endlinecolor\": \"#2a3f5f\", \"gridcolor\": \"white\", \"linecolor\": \"white\", \"minorgridcolor\": \"white\", \"startlinecolor\": \"#2a3f5f\"}, \"type\": \"carpet\"}], \"choropleth\": [{\"colorbar\": {\"outlinewidth\": 0, \"ticks\": \"\"}, \"type\": \"choropleth\"}], \"contour\": [{\"colorbar\": {\"outlinewidth\": 0, \"ticks\": \"\"}, \"colorscale\": [[0.0, \"#0d0887\"], [0.1111111111111111, \"#46039f\"], [0.2222222222222222, \"#7201a8\"], [0.3333333333333333, \"#9c179e\"], [0.4444444444444444, \"#bd3786\"], [0.5555555555555556, \"#d8576b\"], [0.6666666666666666, \"#ed7953\"], [0.7777777777777778, \"#fb9f3a\"], [0.8888888888888888, \"#fdca26\"], [1.0, \"#f0f921\"]], \"type\": \"contour\"}], \"contourcarpet\": [{\"colorbar\": {\"outlinewidth\": 0, \"ticks\": \"\"}, \"type\": \"contourcarpet\"}], \"heatmap\": [{\"colorbar\": {\"outlinewidth\": 0, \"ticks\": \"\"}, \"colorscale\": [[0.0, \"#0d0887\"], [0.1111111111111111, \"#46039f\"], [0.2222222222222222, \"#7201a8\"], [0.3333333333333333, \"#9c179e\"], [0.4444444444444444, \"#bd3786\"], [0.5555555555555556, \"#d8576b\"], [0.6666666666666666, \"#ed7953\"], [0.7777777777777778, \"#fb9f3a\"], [0.8888888888888888, \"#fdca26\"], [1.0, \"#f0f921\"]], \"type\": \"heatmap\"}], \"heatmapgl\": [{\"colorbar\": {\"outlinewidth\": 0, \"ticks\": \"\"}, \"colorscale\": [[0.0, \"#0d0887\"], [0.1111111111111111, \"#46039f\"], [0.2222222222222222, \"#7201a8\"], [0.3333333333333333, \"#9c179e\"], [0.4444444444444444, \"#bd3786\"], [0.5555555555555556, \"#d8576b\"], [0.6666666666666666, \"#ed7953\"], [0.7777777777777778, \"#fb9f3a\"], [0.8888888888888888, \"#fdca26\"], [1.0, \"#f0f921\"]], \"type\": \"heatmapgl\"}], \"histogram\": [{\"marker\": {\"colorbar\": {\"outlinewidth\": 0, \"ticks\": \"\"}}, \"type\": \"histogram\"}], \"histogram2d\": [{\"colorbar\": {\"outlinewidth\": 0, \"ticks\": \"\"}, \"colorscale\": [[0.0, \"#0d0887\"], [0.1111111111111111, \"#46039f\"], [0.2222222222222222, \"#7201a8\"], [0.3333333333333333, \"#9c179e\"], [0.4444444444444444, \"#bd3786\"], [0.5555555555555556, \"#d8576b\"], [0.6666666666666666, \"#ed7953\"], [0.7777777777777778, \"#fb9f3a\"], [0.8888888888888888, \"#fdca26\"], [1.0, \"#f0f921\"]], \"type\": \"histogram2d\"}], \"histogram2dcontour\": [{\"colorbar\": {\"outlinewidth\": 0, \"ticks\": \"\"}, \"colorscale\": [[0.0, \"#0d0887\"], [0.1111111111111111, \"#46039f\"], [0.2222222222222222, \"#7201a8\"], [0.3333333333333333, \"#9c179e\"], [0.4444444444444444, \"#bd3786\"], [0.5555555555555556, \"#d8576b\"], [0.6666666666666666, \"#ed7953\"], [0.7777777777777778, \"#fb9f3a\"], [0.8888888888888888, \"#fdca26\"], [1.0, \"#f0f921\"]], \"type\": \"histogram2dcontour\"}], \"mesh3d\": [{\"colorbar\": {\"outlinewidth\": 0, \"ticks\": \"\"}, \"type\": \"mesh3d\"}], \"parcoords\": [{\"line\": {\"colorbar\": {\"outlinewidth\": 0, \"ticks\": \"\"}}, \"type\": \"parcoords\"}], \"pie\": [{\"automargin\": true, \"type\": \"pie\"}], \"scatter\": [{\"marker\": {\"colorbar\": {\"outlinewidth\": 0, \"ticks\": \"\"}}, \"type\": \"scatter\"}], \"scatter3d\": [{\"line\": {\"colorbar\": {\"outlinewidth\": 0, \"ticks\": \"\"}}, \"marker\": {\"colorbar\": {\"outlinewidth\": 0, \"ticks\": \"\"}}, \"type\": \"scatter3d\"}], \"scattercarpet\": [{\"marker\": {\"colorbar\": {\"outlinewidth\": 0, \"ticks\": \"\"}}, \"type\": \"scattercarpet\"}], \"scattergeo\": [{\"marker\": {\"colorbar\": {\"outlinewidth\": 0, \"ticks\": \"\"}}, \"type\": \"scattergeo\"}], \"scattergl\": [{\"marker\": {\"colorbar\": {\"outlinewidth\": 0, \"ticks\": \"\"}}, \"type\": \"scattergl\"}], \"scattermapbox\": [{\"marker\": {\"colorbar\": {\"outlinewidth\": 0, \"ticks\": \"\"}}, \"type\": \"scattermapbox\"}], \"scatterpolar\": [{\"marker\": {\"colorbar\": {\"outlinewidth\": 0, \"ticks\": \"\"}}, \"type\": \"scatterpolar\"}], \"scatterpolargl\": [{\"marker\": {\"colorbar\": {\"outlinewidth\": 0, \"ticks\": \"\"}}, \"type\": \"scatterpolargl\"}], \"scatterternary\": [{\"marker\": {\"colorbar\": {\"outlinewidth\": 0, \"ticks\": \"\"}}, \"type\": \"scatterternary\"}], \"surface\": [{\"colorbar\": {\"outlinewidth\": 0, \"ticks\": \"\"}, \"colorscale\": [[0.0, \"#0d0887\"], [0.1111111111111111, \"#46039f\"], [0.2222222222222222, \"#7201a8\"], [0.3333333333333333, \"#9c179e\"], [0.4444444444444444, \"#bd3786\"], [0.5555555555555556, \"#d8576b\"], [0.6666666666666666, \"#ed7953\"], [0.7777777777777778, \"#fb9f3a\"], [0.8888888888888888, \"#fdca26\"], [1.0, \"#f0f921\"]], \"type\": \"surface\"}], \"table\": [{\"cells\": {\"fill\": {\"color\": \"#EBF0F8\"}, \"line\": {\"color\": \"white\"}}, \"header\": {\"fill\": {\"color\": \"#C8D4E3\"}, \"line\": {\"color\": \"white\"}}, \"type\": \"table\"}]}, \"layout\": {\"annotationdefaults\": {\"arrowcolor\": \"#2a3f5f\", \"arrowhead\": 0, \"arrowwidth\": 1}, \"coloraxis\": {\"colorbar\": {\"outlinewidth\": 0, \"ticks\": \"\"}}, \"colorscale\": {\"diverging\": [[0, \"#8e0152\"], [0.1, \"#c51b7d\"], [0.2, \"#de77ae\"], [0.3, \"#f1b6da\"], [0.4, \"#fde0ef\"], [0.5, \"#f7f7f7\"], [0.6, \"#e6f5d0\"], [0.7, \"#b8e186\"], [0.8, \"#7fbc41\"], [0.9, \"#4d9221\"], [1, \"#276419\"]], \"sequential\": [[0.0, \"#0d0887\"], [0.1111111111111111, \"#46039f\"], [0.2222222222222222, \"#7201a8\"], [0.3333333333333333, \"#9c179e\"], [0.4444444444444444, \"#bd3786\"], [0.5555555555555556, \"#d8576b\"], [0.6666666666666666, \"#ed7953\"], [0.7777777777777778, \"#fb9f3a\"], [0.8888888888888888, \"#fdca26\"], [1.0, \"#f0f921\"]], \"sequentialminus\": [[0.0, \"#0d0887\"], [0.1111111111111111, \"#46039f\"], [0.2222222222222222, \"#7201a8\"], [0.3333333333333333, \"#9c179e\"], [0.4444444444444444, \"#bd3786\"], [0.5555555555555556, \"#d8576b\"], [0.6666666666666666, \"#ed7953\"], [0.7777777777777778, \"#fb9f3a\"], [0.8888888888888888, \"#fdca26\"], [1.0, \"#f0f921\"]]}, \"colorway\": [\"#636efa\", \"#EF553B\", \"#00cc96\", \"#ab63fa\", \"#FFA15A\", \"#19d3f3\", \"#FF6692\", \"#B6E880\", \"#FF97FF\", \"#FECB52\"], \"font\": {\"color\": \"#2a3f5f\"}, \"geo\": {\"bgcolor\": \"white\", \"lakecolor\": \"white\", \"landcolor\": \"#E5ECF6\", \"showlakes\": true, \"showland\": true, \"subunitcolor\": \"white\"}, \"hoverlabel\": {\"align\": \"left\"}, \"hovermode\": \"closest\", \"mapbox\": {\"style\": \"light\"}, \"paper_bgcolor\": \"white\", \"plot_bgcolor\": \"#E5ECF6\", \"polar\": {\"angularaxis\": {\"gridcolor\": \"white\", \"linecolor\": \"white\", \"ticks\": \"\"}, \"bgcolor\": \"#E5ECF6\", \"radialaxis\": {\"gridcolor\": \"white\", \"linecolor\": \"white\", \"ticks\": \"\"}}, \"scene\": {\"xaxis\": {\"backgroundcolor\": \"#E5ECF6\", \"gridcolor\": \"white\", \"gridwidth\": 2, \"linecolor\": \"white\", \"showbackground\": true, \"ticks\": \"\", \"zerolinecolor\": \"white\"}, \"yaxis\": {\"backgroundcolor\": \"#E5ECF6\", \"gridcolor\": \"white\", \"gridwidth\": 2, \"linecolor\": \"white\", \"showbackground\": true, \"ticks\": \"\", \"zerolinecolor\": \"white\"}, \"zaxis\": {\"backgroundcolor\": \"#E5ECF6\", \"gridcolor\": \"white\", \"gridwidth\": 2, \"linecolor\": \"white\", \"showbackground\": true, \"ticks\": \"\", \"zerolinecolor\": \"white\"}}, \"shapedefaults\": {\"line\": {\"color\": \"#2a3f5f\"}}, \"ternary\": {\"aaxis\": {\"gridcolor\": \"white\", \"linecolor\": \"white\", \"ticks\": \"\"}, \"baxis\": {\"gridcolor\": \"white\", \"linecolor\": \"white\", \"ticks\": \"\"}, \"bgcolor\": \"#E5ECF6\", \"caxis\": {\"gridcolor\": \"white\", \"linecolor\": \"white\", \"ticks\": \"\"}}, \"title\": {\"x\": 0.05}, \"xaxis\": {\"automargin\": true, \"gridcolor\": \"white\", \"linecolor\": \"white\", \"ticks\": \"\", \"title\": {\"standoff\": 15}, \"zerolinecolor\": \"white\", \"zerolinewidth\": 2}, \"yaxis\": {\"automargin\": true, \"gridcolor\": \"white\", \"linecolor\": \"white\", \"ticks\": \"\", \"title\": {\"standoff\": 15}, \"zerolinecolor\": \"white\", \"zerolinewidth\": 2}}}, \"title\": {\"font\": {\"color\": \"#484848\"}}, \"xaxis\": {\"gridcolor\": \"#E1E5ED\", \"showgrid\": true, \"tickfont\": {\"color\": \"#505050\"}, \"title\": {\"font\": {\"color\": \"#505050\"}, \"text\": \"\"}, \"zerolinecolor\": \"#E1E5ED\"}, \"yaxis\": {\"gridcolor\": \"#E1E5ED\", \"showgrid\": true, \"tickfont\": {\"color\": \"#505050\"}, \"title\": {\"font\": {\"color\": \"#505050\"}, \"text\": \"\"}, \"zerolinecolor\": \"#E1E5ED\"}},                        {\"showLink\": true, \"linkText\": \"Export to plot.ly\", \"plotlyServerURL\": \"https://plot.ly\", \"responsive\": true}                    ).then(function(){\n",
       "                            \n",
       "var gd = document.getElementById('dafaca89-f299-488d-a7c3-dee31ef3aa80');\n",
       "var x = new MutationObserver(function (mutations, observer) {{\n",
       "        var display = window.getComputedStyle(gd).display;\n",
       "        if (!display || display === 'none') {{\n",
       "            console.log([gd, 'removed!']);\n",
       "            Plotly.purge(gd);\n",
       "            observer.disconnect();\n",
       "        }}\n",
       "}});\n",
       "\n",
       "// Listen for the removal of the full notebook cells\n",
       "var notebookContainer = gd.closest('#notebook-container');\n",
       "if (notebookContainer) {{\n",
       "    x.observe(notebookContainer, {childList: true});\n",
       "}}\n",
       "\n",
       "// Listen for the clearing of the current output cell\n",
       "var outputEl = gd.closest('.output');\n",
       "if (outputEl) {{\n",
       "    x.observe(outputEl, {childList: true});\n",
       "}}\n",
       "\n",
       "                        })                };                });            </script>        </div>"
      ]
     },
     "metadata": {},
     "output_type": "display_data"
    }
   ],
   "source": [
    "df1.iplot(kind='scatter', x='a', y='d', mode='markers')"
   ]
  },
  {
   "cell_type": "code",
   "execution_count": null,
   "metadata": {},
   "outputs": [],
   "source": [
    "df1.iplot"
   ]
  },
  {
   "cell_type": "code",
   "execution_count": 59,
   "metadata": {},
   "outputs": [
    {
     "data": {
      "application/vnd.plotly.v1+json": {
       "config": {
        "linkText": "Export to plot.ly",
        "plotlyServerURL": "https://plot.ly",
        "showLink": true
       },
       "data": [
        {
         "marker": {
          "color": "rgba(0, 128, 240, 0.6)",
          "line": {
           "color": "rgba(0, 128, 240, 1.0)",
           "width": 1
          }
         },
         "name": "y",
         "orientation": "v",
         "text": "",
         "type": "bar",
         "x": [
          "p",
          "q",
          "r"
         ],
         "y": [
          1,
          2,
          3
         ]
        }
       ],
       "layout": {
        "legend": {
         "bgcolor": "#F2F3F7",
         "font": {
          "color": "#505050"
         }
        },
        "paper_bgcolor": "#F2F3F7",
        "plot_bgcolor": "#F2F3F7",
        "template": {
         "data": {
          "bar": [
           {
            "error_x": {
             "color": "#2a3f5f"
            },
            "error_y": {
             "color": "#2a3f5f"
            },
            "marker": {
             "line": {
              "color": "#E5ECF6",
              "width": 0.5
             }
            },
            "type": "bar"
           }
          ],
          "barpolar": [
           {
            "marker": {
             "line": {
              "color": "#E5ECF6",
              "width": 0.5
             }
            },
            "type": "barpolar"
           }
          ],
          "carpet": [
           {
            "aaxis": {
             "endlinecolor": "#2a3f5f",
             "gridcolor": "white",
             "linecolor": "white",
             "minorgridcolor": "white",
             "startlinecolor": "#2a3f5f"
            },
            "baxis": {
             "endlinecolor": "#2a3f5f",
             "gridcolor": "white",
             "linecolor": "white",
             "minorgridcolor": "white",
             "startlinecolor": "#2a3f5f"
            },
            "type": "carpet"
           }
          ],
          "choropleth": [
           {
            "colorbar": {
             "outlinewidth": 0,
             "ticks": ""
            },
            "type": "choropleth"
           }
          ],
          "contour": [
           {
            "colorbar": {
             "outlinewidth": 0,
             "ticks": ""
            },
            "colorscale": [
             [
              0,
              "#0d0887"
             ],
             [
              0.1111111111111111,
              "#46039f"
             ],
             [
              0.2222222222222222,
              "#7201a8"
             ],
             [
              0.3333333333333333,
              "#9c179e"
             ],
             [
              0.4444444444444444,
              "#bd3786"
             ],
             [
              0.5555555555555556,
              "#d8576b"
             ],
             [
              0.6666666666666666,
              "#ed7953"
             ],
             [
              0.7777777777777778,
              "#fb9f3a"
             ],
             [
              0.8888888888888888,
              "#fdca26"
             ],
             [
              1,
              "#f0f921"
             ]
            ],
            "type": "contour"
           }
          ],
          "contourcarpet": [
           {
            "colorbar": {
             "outlinewidth": 0,
             "ticks": ""
            },
            "type": "contourcarpet"
           }
          ],
          "heatmap": [
           {
            "colorbar": {
             "outlinewidth": 0,
             "ticks": ""
            },
            "colorscale": [
             [
              0,
              "#0d0887"
             ],
             [
              0.1111111111111111,
              "#46039f"
             ],
             [
              0.2222222222222222,
              "#7201a8"
             ],
             [
              0.3333333333333333,
              "#9c179e"
             ],
             [
              0.4444444444444444,
              "#bd3786"
             ],
             [
              0.5555555555555556,
              "#d8576b"
             ],
             [
              0.6666666666666666,
              "#ed7953"
             ],
             [
              0.7777777777777778,
              "#fb9f3a"
             ],
             [
              0.8888888888888888,
              "#fdca26"
             ],
             [
              1,
              "#f0f921"
             ]
            ],
            "type": "heatmap"
           }
          ],
          "heatmapgl": [
           {
            "colorbar": {
             "outlinewidth": 0,
             "ticks": ""
            },
            "colorscale": [
             [
              0,
              "#0d0887"
             ],
             [
              0.1111111111111111,
              "#46039f"
             ],
             [
              0.2222222222222222,
              "#7201a8"
             ],
             [
              0.3333333333333333,
              "#9c179e"
             ],
             [
              0.4444444444444444,
              "#bd3786"
             ],
             [
              0.5555555555555556,
              "#d8576b"
             ],
             [
              0.6666666666666666,
              "#ed7953"
             ],
             [
              0.7777777777777778,
              "#fb9f3a"
             ],
             [
              0.8888888888888888,
              "#fdca26"
             ],
             [
              1,
              "#f0f921"
             ]
            ],
            "type": "heatmapgl"
           }
          ],
          "histogram": [
           {
            "marker": {
             "colorbar": {
              "outlinewidth": 0,
              "ticks": ""
             }
            },
            "type": "histogram"
           }
          ],
          "histogram2d": [
           {
            "colorbar": {
             "outlinewidth": 0,
             "ticks": ""
            },
            "colorscale": [
             [
              0,
              "#0d0887"
             ],
             [
              0.1111111111111111,
              "#46039f"
             ],
             [
              0.2222222222222222,
              "#7201a8"
             ],
             [
              0.3333333333333333,
              "#9c179e"
             ],
             [
              0.4444444444444444,
              "#bd3786"
             ],
             [
              0.5555555555555556,
              "#d8576b"
             ],
             [
              0.6666666666666666,
              "#ed7953"
             ],
             [
              0.7777777777777778,
              "#fb9f3a"
             ],
             [
              0.8888888888888888,
              "#fdca26"
             ],
             [
              1,
              "#f0f921"
             ]
            ],
            "type": "histogram2d"
           }
          ],
          "histogram2dcontour": [
           {
            "colorbar": {
             "outlinewidth": 0,
             "ticks": ""
            },
            "colorscale": [
             [
              0,
              "#0d0887"
             ],
             [
              0.1111111111111111,
              "#46039f"
             ],
             [
              0.2222222222222222,
              "#7201a8"
             ],
             [
              0.3333333333333333,
              "#9c179e"
             ],
             [
              0.4444444444444444,
              "#bd3786"
             ],
             [
              0.5555555555555556,
              "#d8576b"
             ],
             [
              0.6666666666666666,
              "#ed7953"
             ],
             [
              0.7777777777777778,
              "#fb9f3a"
             ],
             [
              0.8888888888888888,
              "#fdca26"
             ],
             [
              1,
              "#f0f921"
             ]
            ],
            "type": "histogram2dcontour"
           }
          ],
          "mesh3d": [
           {
            "colorbar": {
             "outlinewidth": 0,
             "ticks": ""
            },
            "type": "mesh3d"
           }
          ],
          "parcoords": [
           {
            "line": {
             "colorbar": {
              "outlinewidth": 0,
              "ticks": ""
             }
            },
            "type": "parcoords"
           }
          ],
          "pie": [
           {
            "automargin": true,
            "type": "pie"
           }
          ],
          "scatter": [
           {
            "marker": {
             "colorbar": {
              "outlinewidth": 0,
              "ticks": ""
             }
            },
            "type": "scatter"
           }
          ],
          "scatter3d": [
           {
            "line": {
             "colorbar": {
              "outlinewidth": 0,
              "ticks": ""
             }
            },
            "marker": {
             "colorbar": {
              "outlinewidth": 0,
              "ticks": ""
             }
            },
            "type": "scatter3d"
           }
          ],
          "scattercarpet": [
           {
            "marker": {
             "colorbar": {
              "outlinewidth": 0,
              "ticks": ""
             }
            },
            "type": "scattercarpet"
           }
          ],
          "scattergeo": [
           {
            "marker": {
             "colorbar": {
              "outlinewidth": 0,
              "ticks": ""
             }
            },
            "type": "scattergeo"
           }
          ],
          "scattergl": [
           {
            "marker": {
             "colorbar": {
              "outlinewidth": 0,
              "ticks": ""
             }
            },
            "type": "scattergl"
           }
          ],
          "scattermapbox": [
           {
            "marker": {
             "colorbar": {
              "outlinewidth": 0,
              "ticks": ""
             }
            },
            "type": "scattermapbox"
           }
          ],
          "scatterpolar": [
           {
            "marker": {
             "colorbar": {
              "outlinewidth": 0,
              "ticks": ""
             }
            },
            "type": "scatterpolar"
           }
          ],
          "scatterpolargl": [
           {
            "marker": {
             "colorbar": {
              "outlinewidth": 0,
              "ticks": ""
             }
            },
            "type": "scatterpolargl"
           }
          ],
          "scatterternary": [
           {
            "marker": {
             "colorbar": {
              "outlinewidth": 0,
              "ticks": ""
             }
            },
            "type": "scatterternary"
           }
          ],
          "surface": [
           {
            "colorbar": {
             "outlinewidth": 0,
             "ticks": ""
            },
            "colorscale": [
             [
              0,
              "#0d0887"
             ],
             [
              0.1111111111111111,
              "#46039f"
             ],
             [
              0.2222222222222222,
              "#7201a8"
             ],
             [
              0.3333333333333333,
              "#9c179e"
             ],
             [
              0.4444444444444444,
              "#bd3786"
             ],
             [
              0.5555555555555556,
              "#d8576b"
             ],
             [
              0.6666666666666666,
              "#ed7953"
             ],
             [
              0.7777777777777778,
              "#fb9f3a"
             ],
             [
              0.8888888888888888,
              "#fdca26"
             ],
             [
              1,
              "#f0f921"
             ]
            ],
            "type": "surface"
           }
          ],
          "table": [
           {
            "cells": {
             "fill": {
              "color": "#EBF0F8"
             },
             "line": {
              "color": "white"
             }
            },
            "header": {
             "fill": {
              "color": "#C8D4E3"
             },
             "line": {
              "color": "white"
             }
            },
            "type": "table"
           }
          ]
         },
         "layout": {
          "annotationdefaults": {
           "arrowcolor": "#2a3f5f",
           "arrowhead": 0,
           "arrowwidth": 1
          },
          "coloraxis": {
           "colorbar": {
            "outlinewidth": 0,
            "ticks": ""
           }
          },
          "colorscale": {
           "diverging": [
            [
             0,
             "#8e0152"
            ],
            [
             0.1,
             "#c51b7d"
            ],
            [
             0.2,
             "#de77ae"
            ],
            [
             0.3,
             "#f1b6da"
            ],
            [
             0.4,
             "#fde0ef"
            ],
            [
             0.5,
             "#f7f7f7"
            ],
            [
             0.6,
             "#e6f5d0"
            ],
            [
             0.7,
             "#b8e186"
            ],
            [
             0.8,
             "#7fbc41"
            ],
            [
             0.9,
             "#4d9221"
            ],
            [
             1,
             "#276419"
            ]
           ],
           "sequential": [
            [
             0,
             "#0d0887"
            ],
            [
             0.1111111111111111,
             "#46039f"
            ],
            [
             0.2222222222222222,
             "#7201a8"
            ],
            [
             0.3333333333333333,
             "#9c179e"
            ],
            [
             0.4444444444444444,
             "#bd3786"
            ],
            [
             0.5555555555555556,
             "#d8576b"
            ],
            [
             0.6666666666666666,
             "#ed7953"
            ],
            [
             0.7777777777777778,
             "#fb9f3a"
            ],
            [
             0.8888888888888888,
             "#fdca26"
            ],
            [
             1,
             "#f0f921"
            ]
           ],
           "sequentialminus": [
            [
             0,
             "#0d0887"
            ],
            [
             0.1111111111111111,
             "#46039f"
            ],
            [
             0.2222222222222222,
             "#7201a8"
            ],
            [
             0.3333333333333333,
             "#9c179e"
            ],
            [
             0.4444444444444444,
             "#bd3786"
            ],
            [
             0.5555555555555556,
             "#d8576b"
            ],
            [
             0.6666666666666666,
             "#ed7953"
            ],
            [
             0.7777777777777778,
             "#fb9f3a"
            ],
            [
             0.8888888888888888,
             "#fdca26"
            ],
            [
             1,
             "#f0f921"
            ]
           ]
          },
          "colorway": [
           "#636efa",
           "#EF553B",
           "#00cc96",
           "#ab63fa",
           "#FFA15A",
           "#19d3f3",
           "#FF6692",
           "#B6E880",
           "#FF97FF",
           "#FECB52"
          ],
          "font": {
           "color": "#2a3f5f"
          },
          "geo": {
           "bgcolor": "white",
           "lakecolor": "white",
           "landcolor": "#E5ECF6",
           "showlakes": true,
           "showland": true,
           "subunitcolor": "white"
          },
          "hoverlabel": {
           "align": "left"
          },
          "hovermode": "closest",
          "mapbox": {
           "style": "light"
          },
          "paper_bgcolor": "white",
          "plot_bgcolor": "#E5ECF6",
          "polar": {
           "angularaxis": {
            "gridcolor": "white",
            "linecolor": "white",
            "ticks": ""
           },
           "bgcolor": "#E5ECF6",
           "radialaxis": {
            "gridcolor": "white",
            "linecolor": "white",
            "ticks": ""
           }
          },
          "scene": {
           "xaxis": {
            "backgroundcolor": "#E5ECF6",
            "gridcolor": "white",
            "gridwidth": 2,
            "linecolor": "white",
            "showbackground": true,
            "ticks": "",
            "zerolinecolor": "white"
           },
           "yaxis": {
            "backgroundcolor": "#E5ECF6",
            "gridcolor": "white",
            "gridwidth": 2,
            "linecolor": "white",
            "showbackground": true,
            "ticks": "",
            "zerolinecolor": "white"
           },
           "zaxis": {
            "backgroundcolor": "#E5ECF6",
            "gridcolor": "white",
            "gridwidth": 2,
            "linecolor": "white",
            "showbackground": true,
            "ticks": "",
            "zerolinecolor": "white"
           }
          },
          "shapedefaults": {
           "line": {
            "color": "#2a3f5f"
           }
          },
          "ternary": {
           "aaxis": {
            "gridcolor": "white",
            "linecolor": "white",
            "ticks": ""
           },
           "baxis": {
            "gridcolor": "white",
            "linecolor": "white",
            "ticks": ""
           },
           "bgcolor": "#E5ECF6",
           "caxis": {
            "gridcolor": "white",
            "linecolor": "white",
            "ticks": ""
           }
          },
          "title": {
           "x": 0.05
          },
          "xaxis": {
           "automargin": true,
           "gridcolor": "white",
           "linecolor": "white",
           "ticks": "",
           "title": {
            "standoff": 15
           },
           "zerolinecolor": "white",
           "zerolinewidth": 2
          },
          "yaxis": {
           "automargin": true,
           "gridcolor": "white",
           "linecolor": "white",
           "ticks": "",
           "title": {
            "standoff": 15
           },
           "zerolinecolor": "white",
           "zerolinewidth": 2
          }
         }
        },
        "title": {
         "font": {
          "color": "#484848"
         }
        },
        "xaxis": {
         "gridcolor": "#E1E5ED",
         "showgrid": true,
         "tickfont": {
          "color": "#505050"
         },
         "title": {
          "font": {
           "color": "#505050"
          },
          "text": ""
         },
         "zerolinecolor": "#E1E5ED"
        },
        "yaxis": {
         "gridcolor": "#E1E5ED",
         "showgrid": true,
         "tickfont": {
          "color": "#505050"
         },
         "title": {
          "font": {
           "color": "#505050"
          },
          "text": ""
         },
         "zerolinecolor": "#E1E5ED"
        }
       }
      },
      "text/html": [
       "<div>                            <div id=\"f4aec384-bb6a-4466-8c74-0bebf4e03b6e\" class=\"plotly-graph-div\" style=\"height:525px; width:100%;\"></div>            <script type=\"text/javascript\">                require([\"plotly\"], function(Plotly) {                    window.PLOTLYENV=window.PLOTLYENV || {};\n",
       "                    window.PLOTLYENV.BASE_URL='https://plot.ly';                                    if (document.getElementById(\"f4aec384-bb6a-4466-8c74-0bebf4e03b6e\")) {                    Plotly.newPlot(                        \"f4aec384-bb6a-4466-8c74-0bebf4e03b6e\",                        [{\"marker\": {\"color\": \"rgba(0, 128, 240, 0.6)\", \"line\": {\"color\": \"rgba(0, 128, 240, 1.0)\", \"width\": 1}}, \"name\": \"y\", \"orientation\": \"v\", \"text\": \"\", \"type\": \"bar\", \"x\": [\"p\", \"q\", \"r\"], \"y\": [1, 2, 3]}],                        {\"legend\": {\"bgcolor\": \"#F2F3F7\", \"font\": {\"color\": \"#505050\"}}, \"paper_bgcolor\": \"#F2F3F7\", \"plot_bgcolor\": \"#F2F3F7\", \"template\": {\"data\": {\"bar\": [{\"error_x\": {\"color\": \"#2a3f5f\"}, \"error_y\": {\"color\": \"#2a3f5f\"}, \"marker\": {\"line\": {\"color\": \"#E5ECF6\", \"width\": 0.5}}, \"type\": \"bar\"}], \"barpolar\": [{\"marker\": {\"line\": {\"color\": \"#E5ECF6\", \"width\": 0.5}}, \"type\": \"barpolar\"}], \"carpet\": [{\"aaxis\": {\"endlinecolor\": \"#2a3f5f\", \"gridcolor\": \"white\", \"linecolor\": \"white\", \"minorgridcolor\": \"white\", \"startlinecolor\": \"#2a3f5f\"}, \"baxis\": {\"endlinecolor\": \"#2a3f5f\", \"gridcolor\": \"white\", \"linecolor\": \"white\", \"minorgridcolor\": \"white\", \"startlinecolor\": \"#2a3f5f\"}, \"type\": \"carpet\"}], \"choropleth\": [{\"colorbar\": {\"outlinewidth\": 0, \"ticks\": \"\"}, \"type\": \"choropleth\"}], \"contour\": [{\"colorbar\": {\"outlinewidth\": 0, \"ticks\": \"\"}, \"colorscale\": [[0.0, \"#0d0887\"], [0.1111111111111111, \"#46039f\"], [0.2222222222222222, \"#7201a8\"], [0.3333333333333333, \"#9c179e\"], [0.4444444444444444, \"#bd3786\"], [0.5555555555555556, \"#d8576b\"], [0.6666666666666666, \"#ed7953\"], [0.7777777777777778, \"#fb9f3a\"], [0.8888888888888888, \"#fdca26\"], [1.0, \"#f0f921\"]], \"type\": \"contour\"}], \"contourcarpet\": [{\"colorbar\": {\"outlinewidth\": 0, \"ticks\": \"\"}, \"type\": \"contourcarpet\"}], \"heatmap\": [{\"colorbar\": {\"outlinewidth\": 0, \"ticks\": \"\"}, \"colorscale\": [[0.0, \"#0d0887\"], [0.1111111111111111, \"#46039f\"], [0.2222222222222222, \"#7201a8\"], [0.3333333333333333, \"#9c179e\"], [0.4444444444444444, \"#bd3786\"], [0.5555555555555556, \"#d8576b\"], [0.6666666666666666, \"#ed7953\"], [0.7777777777777778, \"#fb9f3a\"], [0.8888888888888888, \"#fdca26\"], [1.0, \"#f0f921\"]], \"type\": \"heatmap\"}], \"heatmapgl\": [{\"colorbar\": {\"outlinewidth\": 0, \"ticks\": \"\"}, \"colorscale\": [[0.0, \"#0d0887\"], [0.1111111111111111, \"#46039f\"], [0.2222222222222222, \"#7201a8\"], [0.3333333333333333, \"#9c179e\"], [0.4444444444444444, \"#bd3786\"], [0.5555555555555556, \"#d8576b\"], [0.6666666666666666, \"#ed7953\"], [0.7777777777777778, \"#fb9f3a\"], [0.8888888888888888, \"#fdca26\"], [1.0, \"#f0f921\"]], \"type\": \"heatmapgl\"}], \"histogram\": [{\"marker\": {\"colorbar\": {\"outlinewidth\": 0, \"ticks\": \"\"}}, \"type\": \"histogram\"}], \"histogram2d\": [{\"colorbar\": {\"outlinewidth\": 0, \"ticks\": \"\"}, \"colorscale\": [[0.0, \"#0d0887\"], [0.1111111111111111, \"#46039f\"], [0.2222222222222222, \"#7201a8\"], [0.3333333333333333, \"#9c179e\"], [0.4444444444444444, \"#bd3786\"], [0.5555555555555556, \"#d8576b\"], [0.6666666666666666, \"#ed7953\"], [0.7777777777777778, \"#fb9f3a\"], [0.8888888888888888, \"#fdca26\"], [1.0, \"#f0f921\"]], \"type\": \"histogram2d\"}], \"histogram2dcontour\": [{\"colorbar\": {\"outlinewidth\": 0, \"ticks\": \"\"}, \"colorscale\": [[0.0, \"#0d0887\"], [0.1111111111111111, \"#46039f\"], [0.2222222222222222, \"#7201a8\"], [0.3333333333333333, \"#9c179e\"], [0.4444444444444444, \"#bd3786\"], [0.5555555555555556, \"#d8576b\"], [0.6666666666666666, \"#ed7953\"], [0.7777777777777778, \"#fb9f3a\"], [0.8888888888888888, \"#fdca26\"], [1.0, \"#f0f921\"]], \"type\": \"histogram2dcontour\"}], \"mesh3d\": [{\"colorbar\": {\"outlinewidth\": 0, \"ticks\": \"\"}, \"type\": \"mesh3d\"}], \"parcoords\": [{\"line\": {\"colorbar\": {\"outlinewidth\": 0, \"ticks\": \"\"}}, \"type\": \"parcoords\"}], \"pie\": [{\"automargin\": true, \"type\": \"pie\"}], \"scatter\": [{\"marker\": {\"colorbar\": {\"outlinewidth\": 0, \"ticks\": \"\"}}, \"type\": \"scatter\"}], \"scatter3d\": [{\"line\": {\"colorbar\": {\"outlinewidth\": 0, \"ticks\": \"\"}}, \"marker\": {\"colorbar\": {\"outlinewidth\": 0, \"ticks\": \"\"}}, \"type\": \"scatter3d\"}], \"scattercarpet\": [{\"marker\": {\"colorbar\": {\"outlinewidth\": 0, \"ticks\": \"\"}}, \"type\": \"scattercarpet\"}], \"scattergeo\": [{\"marker\": {\"colorbar\": {\"outlinewidth\": 0, \"ticks\": \"\"}}, \"type\": \"scattergeo\"}], \"scattergl\": [{\"marker\": {\"colorbar\": {\"outlinewidth\": 0, \"ticks\": \"\"}}, \"type\": \"scattergl\"}], \"scattermapbox\": [{\"marker\": {\"colorbar\": {\"outlinewidth\": 0, \"ticks\": \"\"}}, \"type\": \"scattermapbox\"}], \"scatterpolar\": [{\"marker\": {\"colorbar\": {\"outlinewidth\": 0, \"ticks\": \"\"}}, \"type\": \"scatterpolar\"}], \"scatterpolargl\": [{\"marker\": {\"colorbar\": {\"outlinewidth\": 0, \"ticks\": \"\"}}, \"type\": \"scatterpolargl\"}], \"scatterternary\": [{\"marker\": {\"colorbar\": {\"outlinewidth\": 0, \"ticks\": \"\"}}, \"type\": \"scatterternary\"}], \"surface\": [{\"colorbar\": {\"outlinewidth\": 0, \"ticks\": \"\"}, \"colorscale\": [[0.0, \"#0d0887\"], [0.1111111111111111, \"#46039f\"], [0.2222222222222222, \"#7201a8\"], [0.3333333333333333, \"#9c179e\"], [0.4444444444444444, \"#bd3786\"], [0.5555555555555556, \"#d8576b\"], [0.6666666666666666, \"#ed7953\"], [0.7777777777777778, \"#fb9f3a\"], [0.8888888888888888, \"#fdca26\"], [1.0, \"#f0f921\"]], \"type\": \"surface\"}], \"table\": [{\"cells\": {\"fill\": {\"color\": \"#EBF0F8\"}, \"line\": {\"color\": \"white\"}}, \"header\": {\"fill\": {\"color\": \"#C8D4E3\"}, \"line\": {\"color\": \"white\"}}, \"type\": \"table\"}]}, \"layout\": {\"annotationdefaults\": {\"arrowcolor\": \"#2a3f5f\", \"arrowhead\": 0, \"arrowwidth\": 1}, \"coloraxis\": {\"colorbar\": {\"outlinewidth\": 0, \"ticks\": \"\"}}, \"colorscale\": {\"diverging\": [[0, \"#8e0152\"], [0.1, \"#c51b7d\"], [0.2, \"#de77ae\"], [0.3, \"#f1b6da\"], [0.4, \"#fde0ef\"], [0.5, \"#f7f7f7\"], [0.6, \"#e6f5d0\"], [0.7, \"#b8e186\"], [0.8, \"#7fbc41\"], [0.9, \"#4d9221\"], [1, \"#276419\"]], \"sequential\": [[0.0, \"#0d0887\"], [0.1111111111111111, \"#46039f\"], [0.2222222222222222, \"#7201a8\"], [0.3333333333333333, \"#9c179e\"], [0.4444444444444444, \"#bd3786\"], [0.5555555555555556, \"#d8576b\"], [0.6666666666666666, \"#ed7953\"], [0.7777777777777778, \"#fb9f3a\"], [0.8888888888888888, \"#fdca26\"], [1.0, \"#f0f921\"]], \"sequentialminus\": [[0.0, \"#0d0887\"], [0.1111111111111111, \"#46039f\"], [0.2222222222222222, \"#7201a8\"], [0.3333333333333333, \"#9c179e\"], [0.4444444444444444, \"#bd3786\"], [0.5555555555555556, \"#d8576b\"], [0.6666666666666666, \"#ed7953\"], [0.7777777777777778, \"#fb9f3a\"], [0.8888888888888888, \"#fdca26\"], [1.0, \"#f0f921\"]]}, \"colorway\": [\"#636efa\", \"#EF553B\", \"#00cc96\", \"#ab63fa\", \"#FFA15A\", \"#19d3f3\", \"#FF6692\", \"#B6E880\", \"#FF97FF\", \"#FECB52\"], \"font\": {\"color\": \"#2a3f5f\"}, \"geo\": {\"bgcolor\": \"white\", \"lakecolor\": \"white\", \"landcolor\": \"#E5ECF6\", \"showlakes\": true, \"showland\": true, \"subunitcolor\": \"white\"}, \"hoverlabel\": {\"align\": \"left\"}, \"hovermode\": \"closest\", \"mapbox\": {\"style\": \"light\"}, \"paper_bgcolor\": \"white\", \"plot_bgcolor\": \"#E5ECF6\", \"polar\": {\"angularaxis\": {\"gridcolor\": \"white\", \"linecolor\": \"white\", \"ticks\": \"\"}, \"bgcolor\": \"#E5ECF6\", \"radialaxis\": {\"gridcolor\": \"white\", \"linecolor\": \"white\", \"ticks\": \"\"}}, \"scene\": {\"xaxis\": {\"backgroundcolor\": \"#E5ECF6\", \"gridcolor\": \"white\", \"gridwidth\": 2, \"linecolor\": \"white\", \"showbackground\": true, \"ticks\": \"\", \"zerolinecolor\": \"white\"}, \"yaxis\": {\"backgroundcolor\": \"#E5ECF6\", \"gridcolor\": \"white\", \"gridwidth\": 2, \"linecolor\": \"white\", \"showbackground\": true, \"ticks\": \"\", \"zerolinecolor\": \"white\"}, \"zaxis\": {\"backgroundcolor\": \"#E5ECF6\", \"gridcolor\": \"white\", \"gridwidth\": 2, \"linecolor\": \"white\", \"showbackground\": true, \"ticks\": \"\", \"zerolinecolor\": \"white\"}}, \"shapedefaults\": {\"line\": {\"color\": \"#2a3f5f\"}}, \"ternary\": {\"aaxis\": {\"gridcolor\": \"white\", \"linecolor\": \"white\", \"ticks\": \"\"}, \"baxis\": {\"gridcolor\": \"white\", \"linecolor\": \"white\", \"ticks\": \"\"}, \"bgcolor\": \"#E5ECF6\", \"caxis\": {\"gridcolor\": \"white\", \"linecolor\": \"white\", \"ticks\": \"\"}}, \"title\": {\"x\": 0.05}, \"xaxis\": {\"automargin\": true, \"gridcolor\": \"white\", \"linecolor\": \"white\", \"ticks\": \"\", \"title\": {\"standoff\": 15}, \"zerolinecolor\": \"white\", \"zerolinewidth\": 2}, \"yaxis\": {\"automargin\": true, \"gridcolor\": \"white\", \"linecolor\": \"white\", \"ticks\": \"\", \"title\": {\"standoff\": 15}, \"zerolinecolor\": \"white\", \"zerolinewidth\": 2}}}, \"title\": {\"font\": {\"color\": \"#484848\"}}, \"xaxis\": {\"gridcolor\": \"#E1E5ED\", \"showgrid\": true, \"tickfont\": {\"color\": \"#505050\"}, \"title\": {\"font\": {\"color\": \"#505050\"}, \"text\": \"\"}, \"zerolinecolor\": \"#E1E5ED\"}, \"yaxis\": {\"gridcolor\": \"#E1E5ED\", \"showgrid\": true, \"tickfont\": {\"color\": \"#505050\"}, \"title\": {\"font\": {\"color\": \"#505050\"}, \"text\": \"\"}, \"zerolinecolor\": \"#E1E5ED\"}},                        {\"showLink\": true, \"linkText\": \"Export to plot.ly\", \"plotlyServerURL\": \"https://plot.ly\", \"responsive\": true}                    ).then(function(){\n",
       "                            \n",
       "var gd = document.getElementById('f4aec384-bb6a-4466-8c74-0bebf4e03b6e');\n",
       "var x = new MutationObserver(function (mutations, observer) {{\n",
       "        var display = window.getComputedStyle(gd).display;\n",
       "        if (!display || display === 'none') {{\n",
       "            console.log([gd, 'removed!']);\n",
       "            Plotly.purge(gd);\n",
       "            observer.disconnect();\n",
       "        }}\n",
       "}});\n",
       "\n",
       "// Listen for the removal of the full notebook cells\n",
       "var notebookContainer = gd.closest('#notebook-container');\n",
       "if (notebookContainer) {{\n",
       "    x.observe(notebookContainer, {childList: true});\n",
       "}}\n",
       "\n",
       "// Listen for the clearing of the current output cell\n",
       "var outputEl = gd.closest('.output');\n",
       "if (outputEl) {{\n",
       "    x.observe(outputEl, {childList: true});\n",
       "}}\n",
       "\n",
       "                        })                };                });            </script>        </div>"
      ]
     },
     "metadata": {},
     "output_type": "display_data"
    }
   ],
   "source": [
    "df2.iplot(kind='bar', x='x', y='y')"
   ]
  },
  {
   "cell_type": "code",
   "execution_count": 61,
   "metadata": {},
   "outputs": [
    {
     "data": {
      "application/vnd.plotly.v1+json": {
       "config": {
        "linkText": "Export to plot.ly",
        "plotlyServerURL": "https://plot.ly",
        "showLink": true
       },
       "data": [
        {
         "colorscale": [
          [
           0,
           "rgb(0, 128, 240)"
          ],
          [
           0.16666666666666666,
           "rgb(238, 118, 0)"
          ],
          [
           0.3333333333333333,
           "rgb(48, 144, 84)"
          ],
          [
           0.5,
           "rgb(98, 98, 222)"
          ],
          [
           0.6666666666666666,
           "rgb(217, 66, 85)"
          ],
          [
           0.8333333333333334,
           "rgb(173, 252, 252)"
          ],
          [
           1,
           "rgb(70, 160, 240)"
          ]
         ],
         "type": "surface",
         "x": [
          0,
          1,
          2,
          3,
          4,
          5,
          6,
          7,
          8,
          9,
          10,
          11,
          12,
          13,
          14,
          15,
          16,
          17,
          18,
          19,
          20,
          21,
          22,
          23,
          24,
          25,
          26,
          27,
          28,
          29,
          30,
          31,
          32,
          33,
          34,
          35,
          36,
          37,
          38,
          39,
          40,
          41,
          42,
          43,
          44,
          45,
          46,
          47,
          48,
          49,
          50,
          51,
          52,
          53,
          54,
          55,
          56,
          57,
          58,
          59,
          60,
          61,
          62,
          63,
          64,
          65,
          66,
          67,
          68,
          69,
          70,
          71,
          72,
          73,
          74,
          75,
          76,
          77,
          78,
          79,
          80,
          81,
          82,
          83,
          84,
          85,
          86,
          87,
          88,
          89,
          90,
          91,
          92,
          93,
          94,
          95,
          96,
          97,
          98,
          99,
          100,
          101,
          102,
          103,
          104,
          105,
          106,
          107,
          108,
          109,
          110,
          111,
          112,
          113,
          114,
          115,
          116,
          117,
          118,
          119,
          120,
          121,
          122,
          123,
          124,
          125,
          126,
          127,
          128,
          129,
          130,
          131,
          132,
          133,
          134,
          135,
          136,
          137,
          138,
          139,
          140,
          141,
          142,
          143,
          144,
          145,
          146,
          147,
          148,
          149,
          150,
          151,
          152,
          153,
          154,
          155,
          156,
          157,
          158,
          159,
          160,
          161,
          162,
          163,
          164,
          165,
          166,
          167,
          168,
          169,
          170,
          171,
          172,
          173,
          174,
          175,
          176,
          177,
          178,
          179,
          180,
          181,
          182,
          183,
          184,
          185,
          186,
          187,
          188,
          189,
          190,
          191,
          192,
          193,
          194,
          195,
          196,
          197,
          198,
          199,
          200,
          201,
          202,
          203,
          204,
          205,
          206,
          207,
          208,
          209,
          210,
          211,
          212,
          213,
          214,
          215,
          216,
          217,
          218,
          219,
          220,
          221,
          222,
          223,
          224,
          225,
          226,
          227,
          228,
          229,
          230,
          231,
          232,
          233,
          234,
          235,
          236,
          237,
          238,
          239,
          240,
          241,
          242,
          243,
          244,
          245,
          246,
          247,
          248,
          249,
          250,
          251,
          252,
          253,
          254,
          255,
          256,
          257,
          258,
          259,
          260,
          261,
          262,
          263,
          264,
          265,
          266,
          267,
          268,
          269,
          270,
          271,
          272,
          273,
          274,
          275,
          276,
          277,
          278,
          279,
          280,
          281,
          282,
          283,
          284,
          285,
          286,
          287,
          288,
          289,
          290,
          291,
          292,
          293,
          294,
          295,
          296,
          297,
          298,
          299,
          300,
          301,
          302,
          303,
          304,
          305,
          306,
          307,
          308,
          309,
          310,
          311,
          312,
          313,
          314,
          315,
          316,
          317,
          318,
          319,
          320,
          321,
          322,
          323,
          324,
          325,
          326,
          327,
          328,
          329,
          330,
          331,
          332,
          333,
          334,
          335,
          336,
          337,
          338,
          339,
          340,
          341,
          342,
          343,
          344,
          345,
          346,
          347,
          348,
          349,
          350,
          351,
          352,
          353,
          354,
          355,
          356,
          357,
          358,
          359,
          360,
          361,
          362,
          363,
          364,
          365,
          366,
          367,
          368,
          369,
          370,
          371,
          372,
          373,
          374,
          375,
          376,
          377,
          378,
          379,
          380,
          381,
          382,
          383,
          384,
          385,
          386,
          387,
          388,
          389,
          390,
          391,
          392,
          393,
          394,
          395,
          396,
          397,
          398,
          399,
          400,
          401,
          402,
          403,
          404,
          405,
          406,
          407,
          408,
          409,
          410,
          411,
          412,
          413,
          414,
          415,
          416,
          417,
          418,
          419,
          420,
          421,
          422,
          423,
          424,
          425,
          426,
          427,
          428,
          429,
          430,
          431,
          432,
          433,
          434,
          435,
          436,
          437,
          438,
          439,
          440,
          441,
          442,
          443,
          444,
          445,
          446,
          447,
          448,
          449,
          450,
          451,
          452,
          453,
          454,
          455,
          456,
          457,
          458,
          459,
          460,
          461,
          462,
          463,
          464,
          465,
          466,
          467,
          468,
          469,
          470,
          471,
          472,
          473,
          474,
          475,
          476,
          477,
          478,
          479,
          480,
          481,
          482,
          483,
          484,
          485,
          486,
          487,
          488,
          489,
          490,
          491,
          492,
          493,
          494,
          495,
          496,
          497,
          498,
          499
         ],
         "y": [
          "a",
          "b",
          "c",
          "d"
         ],
         "z": [
          [
           0.3064788168016591,
           0.2774170234998602,
           0.5557706279753811,
           0.8092089250544994,
           0.952604741599049,
           0.34855987727335613,
           0.026130262652994563,
           0.33550549398196583,
           0.0023849405364854137,
           0.9979694333586758,
           0.6697328578959016,
           0.2615128909754272,
           0.4284969034241872,
           0.5337696016486151,
           0.6339835804067,
           0.20981483584866922,
           0.5544272524846942,
           0.4376628696461201,
           0.5289365510999644,
           0.01682377041682459,
           0.15284378899714535,
           0.8821289577861465,
           0.9389719492407574,
           0.2054895540267716,
           0.7135202880431795,
           0.7321362257279919,
           0.8749463685831604,
           0.45081570855889685,
           0.4248159598425487,
           0.14103264624603917,
           0.2690533749934134,
           0.3113085931356592,
           0.7826841281388869,
           0.981802615047023,
           0.8349164321642933,
           0.8964187131181303,
           0.47346476672337445,
           0.1518911167821816,
           0.8770444529567529,
           0.614189348894898,
           0.28166798892103095,
           0.715742702771851,
           0.8029527598895356,
           0.9365851045147381,
           0.5693947484838289,
           0.19596732511058246,
           0.7319805322890214,
           0.3732869001538365,
           0.05687924900525165,
           0.17575672792420016,
           0.453279934278087,
           0.8895143481531342,
           0.8826843134943514,
           0.3252581760189637,
           0.7202432133763603,
           0.6651206278264198,
           0.9392302714655232,
           0.8731696699696143,
           0.5674898533398796,
           0.3789835634029457,
           0.9035005733340052,
           0.5207444226038157,
           0.6471677060508368,
           0.21485001609789978,
           0.5512486687480036,
           0.4501600701479044,
           0.14337642107828996,
           0.09941775505548678,
           0.9993703501007617,
           0.5368230077638506,
           0.6769248069648821,
           0.6466984449434228,
           0.49882985667078783,
           0.3485184204081535,
           0.7569804720762254,
           0.09917623878398596,
           0.607975802121348,
           0.09167264910496664,
           0.48441394879637334,
           0.3387328862576201,
           0.6744756957783359,
           0.29586046048578374,
           0.38674554211585754,
           0.7514668943982338,
           0.11965481023105562,
           0.5018012531688718,
           0.8036146323563258,
           0.10191153430199773,
           0.7887869448265602,
           0.7123942523891824,
           0.9499977046565815,
           0.7899203513776947,
           0.43587834478958454,
           0.7761936668023578,
           0.9224753949068517,
           0.9785181109715341,
           0.49464028150684725,
           0.893050848988973,
           0.3724779890088483,
           0.01413135263776688,
           0.9629750011758393,
           0.7640063253251924,
           0.1886140696342855,
           0.7287069414337524,
           0.7031596796696896,
           0.9434932484924041,
           0.11199110403585366,
           0.04857469070469256,
           0.9176354493203208,
           0.15001220326724107,
           0.04401699618593036,
           0.2907710736088497,
           0.2308523643359217,
           0.690482838431078,
           0.9500688837787005,
           0.4558471847883774,
           0.6886218560749403,
           0.7171091736200109,
           0.8727119722656921,
           0.39476826209279403,
           0.22276361475650774,
           0.7271210226320831,
           0.2004429869072728,
           0.28505736681268357,
           0.058075165415397256,
           0.08450216071840633,
           0.5036010453162814,
           0.6202437555886204,
           0.8815917454331385,
           0.6383521279162563,
           0.15203882641341315,
           0.39915029543497504,
           0.7011148898682465,
           0.06968872576072516,
           0.08503091553056963,
           0.21180605343255465,
           0.9560146962045544,
           0.7486475889909652,
           0.8228751054417954,
           0.079434135901581,
           0.5144395348454428,
           0.08614437826176458,
           0.99141559174368,
           0.6364556510921128,
           0.0013779526904426076,
           0.24393587689030993,
           0.2997566575756414,
           0.774407147225109,
           0.9964707733214092,
           0.04668108425338058,
           0.6068260848492711,
           0.1830093234155954,
           0.7020540231486604,
           0.9046816290010334,
           0.5317352464722712,
           0.992947911706319,
           0.35505822356783234,
           0.8097695830605698,
           0.6641023447121631,
           0.6713036914886805,
           0.2703301895937118,
           0.541105796920765,
           0.3352564652166572,
           0.29088385653066307,
           0.60721967220201,
           0.018466138230353146,
           0.44196872667612297,
           0.7128712346968414,
           0.33568518992986995,
           0.7998250602524438,
           0.14081347063259853,
           0.8019336859359749,
           0.34036560247879366,
           0.7418202335705771,
           0.7548737219818882,
           0.6974289358717094,
           0.18368003773172958,
           0.5319909104405229,
           0.0572090203006006,
           0.8723978267370338,
           0.9643366980391344,
           0.3885542065388097,
           0.8786491267557994,
           0.07356609572806372,
           0.08670378379804577,
           0.38098850185338184,
           0.554327570616008,
           0.6841467119577819,
           0.5139992916570553,
           0.9326417000390486,
           0.9242166540700876,
           0.7980746931835301,
           0.1676195162632671,
           0.8837296793013999,
           0.6011138563945565,
           0.6676505707494922,
           0.02469135848278259,
           0.2584516952291458,
           0.06452670654954407,
           0.1451729388373102,
           0.1769099999221393,
           0.808463664804445,
           0.38908998680844364,
           0.23975395974505054,
           0.8017689922794748,
           0.5745383525178179,
           0.34912168754705497,
           0.8711856154502307,
           0.6692031369599727,
           0.07362703389493908,
           0.8575628320377972,
           0.8551360218535055,
           0.5479428044279245,
           0.5252021439160995,
           0.10145305089568724,
           0.09636008325989132,
           0.2639978035302374,
           0.21556751316724154,
           0.5536131811257295,
           0.32976468567676964,
           0.07350848911099994,
           0.7092580938487774,
           0.2323242856949823,
           0.17529165274719394,
           0.6119368234890248,
           0.8644084917192159,
           0.12023045858070247,
           0.19871356672926255,
           0.6823901314299364,
           0.4235956335004648,
           0.6432247257017671,
           0.8511856684869076,
           0.9715345985209064,
           0.9600017134303244,
           0.37384422641149206,
           0.338333723056242,
           0.8649271831637898,
           0.2937645977592399,
           0.2831210200282088,
           0.7091327624498599,
           0.5996656203872033,
           0.8831174070571561,
           0.39470190204582545,
           0.9619810784917752,
           0.10861224941551506,
           0.8878748757817182,
           0.6856128728390959,
           0.12636859371002518,
           0.605708562945765,
           0.5891236768530903,
           0.7213000450347291,
           0.8285012409036224,
           0.06776043616047334,
           0.19717395614984357,
           0.4753160816384462,
           0.9470185629743382,
           0.914822182974793,
           0.2369332969393596,
           0.16318035387207352,
           0.8454018353755258,
           0.22100716801057285,
           0.7820912092163438,
           0.9523972339143502,
           0.9874310484721038,
           0.805315183971863,
           0.6387510954688298,
           0.73153114286172,
           0.657689524259831,
           0.8476786913003413,
           0.16578232685133143,
           0.020295304710816753,
           0.37212651289776133,
           0.7095033983219992,
           0.7734516301346205,
           0.019792020538705102,
           0.19417947877181707,
           0.42253923680466254,
           0.892776204670384,
           0.1684185590211592,
           0.6622949984219365,
           0.2503662512403878,
           0.9933369918648854,
           0.20308935908948622,
           0.18033443832089935,
           0.23182446263377243,
           0.7176154615760546,
           0.3555159399655774,
           0.5324142595495229,
           0.31158715105683366,
           0.20276401233558616,
           0.7261847992737316,
           0.3699094402653783,
           0.07461015758044542,
           0.7569295913135357,
           0.39047506401342547,
           0.37974805863455807,
           0.3134892638299559,
           0.09271405555350398,
           0.744624669935465,
           0.7684639487886813,
           0.19975418454413119,
           0.12513884395796238,
           0.7484870344124719,
           0.5434852872763668,
           0.6189066337958402,
           0.9439537841548534,
           0.7777275520309884,
           0.806000865356415,
           0.883339214870903,
           0.8753778845470342,
           0.6356526486952608,
           0.919810760485115,
           0.8456764100712708,
           0.620410793117682,
           0.2652384876710101,
           0.7969365938633743,
           0.02137987130761576,
           0.19264024583053418,
           0.2649386202463061,
           0.12740185745818633,
           0.5781009100817355,
           0.20027851149758846,
           0.4186349312901525,
           0.5261892006616611,
           0.5944107765474641,
           0.998187292756693,
           0.5563322482529964,
           0.8963153495595724,
           0.0009307180441107121,
           0.7761147852004939,
           0.784755866296616,
           0.16588317367861904,
           0.6215015739564373,
           0.7292470351714685,
           0.09498651761660071,
           0.13481972125850883,
           0.3709515845216512,
           0.2779193395538957,
           0.23888791237242335,
           0.06809545954410445,
           0.1341313170459515,
           0.6014848356938088,
           0.05264920271451512,
           0.11726694440703878,
           0.7461214986543615,
           0.21326412177040566,
           0.9016624401270573,
           0.04841836371516273,
           0.8442309522837479,
           0.03557750949290761,
           0.9383014485699411,
           0.6341663275747665,
           0.9674336694612349,
           0.26086785050274874,
           0.30540937829396897,
           0.3316766005632137,
           0.8116751009898961,
           0.8155474326489149,
           0.9024956735328499,
           0.3152947998814971,
           0.31939900304110724,
           0.8381666249537155,
           0.8692269025352407,
           0.4109271641165214,
           0.21781519623781553,
           0.2035716050055144,
           0.4882493361725583,
           0.28735164326000273,
           0.5456625999608536,
           0.1706213650618582,
           0.015715900919217485,
           0.47004484250379597,
           0.897080100171877,
           0.7690720807707596,
           0.44568963654809124,
           0.9825800994942644,
           0.8768027946382951,
           0.3020612128976571,
           0.7344310577517016,
           0.23877535671726569,
           0.12321577183767307,
           0.017562139049896563,
           0.6954607021423196,
           0.30366056400792807,
           0.7153930833568588,
           0.09350629478548556,
           0.12707100237136693,
           0.5157939927290959,
           0.643006987088474,
           0.36845438884574844,
           0.04078004170178884,
           0.8874911691076495,
           0.0155692880279098,
           0.741328597958119,
           0.9360940704771175,
           0.28848240499097877,
           0.8622763128616008,
           0.36998683076036365,
           0.20196896608021364,
           0.9462661810096469,
           0.8324897650669026,
           0.43660381060085174,
           0.7716796789706577,
           0.9770235605974316,
           0.6004337603244323,
           0.21518239212739343,
           0.8820569108183851,
           0.6279954302485796,
           0.4446239399176216,
           0.29823959720667415,
           0.7001973358935065,
           0.13961973413610296,
           0.262298130433009,
           0.44811332902621037,
           0.04067981719418379,
           0.35699849514741544,
           0.024140204430177947,
           0.413625747943726,
           0.9426868569940745,
           0.8443368571054861,
           0.7499229929529748,
           0.7519108774764995,
           0.4430603724625176,
           0.491303668804398,
           0.7459451252114322,
           0.08948652667066515,
           0.5791545896333244,
           0.027260345505210726,
           0.9184931991293015,
           0.26829132285809887,
           0.13624165461891624,
           0.8860956432393491,
           0.3632501775685155,
           0.6839983469182547,
           0.38113801581581996,
           0.36766224879474174,
           0.5769687941977872,
           0.46623963086424636,
           0.6822542358939895,
           0.29983285029610574,
           0.24029325914178346,
           0.9656164599906808,
           0.8172489557024772,
           0.5023921474060127,
           0.2310225933269361,
           0.725828230195959,
           0.09167028932605514,
           0.4935934940212301,
           0.7712198409962557,
           0.5310027166047128,
           0.18399386239103133,
           0.5653314483320067,
           0.2094935380924715,
           0.07331432816715489,
           0.21325433484137568,
           0.9949703342880702,
           0.8826769709265118,
           0.7647291725654789,
           0.1780769470426269,
           0.139585865746925,
           0.4561176067078029,
           0.10096458947786369,
           0.979382111500265,
           0.46949476284488234,
           0.680031567171001,
           0.5467008462823473,
           0.05497208831092548,
           0.4448339900956114,
           0.44102891302049274,
           0.3685515867489787,
           0.6895374558664848,
           0.35102814494578183,
           0.26768336555789574,
           0.330775235895749,
           0.41423611778182956,
           0.1482285929628886,
           0.31324984520881083,
           0.5068828340455704,
           0.9153057943580991,
           0.8751448259840444,
           0.3933346656012907,
           0.17036989705739702,
           0.8572449145396289,
           0.2641574489813745,
           0.8997810844538439,
           0.3455418821628501,
           0.15390791532167225,
           0.7656458340412612,
           0.959831912249859,
           0.4418411862619116,
           0.15116136944299707,
           0.36406731841423945,
           0.1555955449241565,
           0.4445459755801635,
           0.40202219889947644,
           0.3913370467738819,
           0.0457186145419648,
           0.6904792889501941,
           0.07606382963678782,
           0.3769091201536693
          ],
          [
           0.3784277810311125,
           0.6870673757832718,
           0.7012878616522844,
           0.8435590490726302,
           0.8232730030768872,
           0.7806410429783155,
           0.6358284426425201,
           0.58239723177842,
           0.2623515267285329,
           0.19852899406620694,
           0.27475976531510515,
           0.7983303838426354,
           0.3944188968365864,
           0.5114634241145155,
           0.13195692923658386,
           0.4276823214742833,
           0.01192049323520139,
           0.48241230085361875,
           0.8535240791429527,
           0.7369381472136635,
           0.2561732896454758,
           0.43202469312546976,
           0.3934568822500889,
           0.7386610568425852,
           0.4686538604329694,
           0.3044244038914834,
           0.3414358429954232,
           0.8795025048443591,
           0.08254750646705855,
           0.6264191037833534,
           0.24053387701533835,
           0.06695967349079979,
           0.37717471272259406,
           0.09356467398297952,
           0.7069292555100916,
           0.09441992125147469,
           0.23957067291660528,
           0.49659646931571877,
           0.03354838799072268,
           0.6148932020413211,
           0.8362149129144066,
           0.37864502116148313,
           0.9237247175415833,
           0.0481804430819317,
           0.6314642611789557,
           0.9419557069189635,
           0.20536735894912672,
           0.8882095478566323,
           0.4938291586713529,
           0.7816292069185599,
           0.5819669367212377,
           0.6881678719826818,
           0.19422115181856092,
           0.9482804846892842,
           0.9461429831684404,
           0.7017928053555582,
           0.604989741252489,
           0.944555239341562,
           0.6379496493371897,
           0.055567728640066094,
           0.47162050301951197,
           0.46642339221919693,
           0.44120366182749415,
           0.19658221715701352,
           0.6493244610723736,
           0.5389741614344595,
           0.08238950574399684,
           0.940271656003327,
           0.7087638479265553,
           0.3362975343186153,
           0.2210417099470493,
           0.9125312638935157,
           0.4816079239577624,
           0.007992949119263959,
           0.9811564557890172,
           0.26029017844869295,
           0.9326542378542927,
           0.9058558942132783,
           0.4988989154300034,
           0.5419670745503701,
           0.24869332972950475,
           0.8051102876013589,
           0.42019169199092377,
           0.2735098079332482,
           0.143559289225776,
           0.37945857097957303,
           0.5453705114206622,
           0.3560398646332299,
           0.8822790550341632,
           0.09198709104365754,
           0.7881717468228416,
           0.7078647805098891,
           0.18980007131395227,
           0.025512007856491548,
           0.7644169161622343,
           0.8466692312030216,
           0.5513782874964775,
           0.7459396426242435,
           0.40272319279611446,
           0.8607141655894816,
           0.9284706020914278,
           0.07529865054972229,
           0.23904007190337195,
           0.21626460947013804,
           0.5912654136612935,
           0.9251409448154015,
           0.9636013077675744,
           0.9711176762182512,
           0.29931051166842426,
           0.3694097603404639,
           0.9432593785525857,
           0.9888532644036531,
           0.8512432250610079,
           0.6134008742232658,
           0.3075609377977596,
           0.5486720372207028,
           0.7046240774514575,
           0.8663370159807349,
           0.8378377435128265,
           0.7925897251977972,
           0.1448317709285507,
           0.20717177430825662,
           0.9628724139900887,
           0.9488316213427604,
           0.28930112026911325,
           0.8237641351651238,
           0.14266452040185906,
           0.7256423622763752,
           0.4413784973976881,
           0.5970425529399224,
           0.26063283159636386,
           0.90252747438982,
           0.046413458119040296,
           0.9722019716344286,
           0.191239621673719,
           0.84999987848784,
           0.059887815817568524,
           0.06021265443887125,
           0.3683542334862865,
           0.9289442045388762,
           0.36006631783657417,
           0.14822575478801192,
           0.19045890698515955,
           0.8815108300258852,
           0.1961064364252697,
           0.16923700534700437,
           0.999356990684048,
           0.5748608443311949,
           0.20067025509730918,
           0.09359945969673789,
           0.9483484721952026,
           0.41756624828775,
           0.13791278562938192,
           0.36401803775094654,
           0.9198890114192588,
           0.5725108505394177,
           0.9128943417681858,
           0.7886931760964533,
           0.592709153913214,
           0.5230427023146293,
           0.07747289701806626,
           0.18409485589682406,
           0.7689025203575577,
           0.09245524869816824,
           0.7069653486573781,
           0.8568069213384657,
           0.2523727776619701,
           0.8547939287439257,
           0.01211595973155244,
           0.3093979681337896,
           0.9178684111128903,
           0.23100281792129107,
           0.1305184306766497,
           0.6846649031367427,
           0.11194957875178535,
           0.8977276345481232,
           0.8256830340431142,
           0.07274826833296222,
           0.1364829460245971,
           0.5951050902409428,
           0.9749862784228129,
           0.8086450608172904,
           0.8476267572678616,
           0.5869284838191962,
           0.39801208334026983,
           0.6824037701533548,
           0.459625336677115,
           0.6384037266181308,
           0.35831762658882815,
           0.19910866764808877,
           0.06749842295670727,
           0.6005837241904554,
           0.8356966903768813,
           0.8530806769164274,
           0.259637465323748,
           0.19381909648164297,
           0.8474613076588603,
           0.6569863366578201,
           0.9823403512106323,
           0.4411983763663845,
           0.6710383840621109,
           0.07082934626579873,
           0.22306734628741165,
           0.3277733745475553,
           0.46131636380905794,
           0.030873992756442203,
           0.13148069282523,
           0.006332284166656765,
           0.35729944139588865,
           0.0478002804462746,
           0.08097686436293716,
           0.8658507768047319,
           0.5230772068954653,
           0.11586417489831857,
           0.5997300388958324,
           0.7452708318959994,
           0.21500408024329287,
           0.39772700537947825,
           0.6535814042854716,
           0.14427533886085442,
           0.017991468725395254,
           0.2941752063118054,
           0.2425650815064927,
           0.7472047930656662,
           0.7862638332351826,
           0.8800273059409279,
           0.516138574871421,
           0.6139104455416111,
           0.7260868547083943,
           0.4200133426014262,
           0.3389812680296407,
           0.5209798145072504,
           0.0818827451182047,
           0.06317544559091359,
           0.15992133832816435,
           0.4996269246822349,
           0.8689252429592281,
           0.21415639112228402,
           0.5554893226013571,
           0.9458036554835615,
           0.5545408294308002,
           0.8812752219355042,
           0.1450894298055957,
           0.16914919320339628,
           0.41854863444169144,
           0.19948343882614616,
           0.07898942196907999,
           0.3083320194171014,
           0.2973575351268336,
           0.578259853694837,
           0.6415200530498414,
           0.012560699840307943,
           0.43135406890429506,
           0.4029190418841455,
           0.21006476837213017,
           0.9254909079267452,
           0.4005384532136076,
           0.37104048278077284,
           0.37455566637788573,
           0.7050069292834302,
           0.36420426963136565,
           0.5459217694747632,
           0.18410003824133025,
           0.02301725692984824,
           0.5221354403120997,
           0.17100239336353418,
           0.30246433207534285,
           0.3227026861943404,
           0.5395588561637157,
           0.18731627322149424,
           0.3893408712097728,
           0.29714011199819734,
           0.20545653627602078,
           0.3532377742070918,
           0.09625382944057381,
           0.8354773617412896,
           0.9928337908573959,
           0.9327290104768252,
           0.699243002710283,
           0.3412182983933456,
           0.8694844728745831,
           0.3758372456826736,
           0.16090846771245726,
           0.47841848294900624,
           0.6584233320758451,
           0.035758428483385285,
           0.6554269806876315,
           0.3473981994389522,
           0.0744107013660491,
           0.7223266657775865,
           0.894453123746882,
           0.1260902977695113,
           0.17865496839091666,
           0.6691765965687967,
           0.9178460385179602,
           0.3291287317346345,
           0.0760565891281394,
           0.15541333378353772,
           0.912658583041675,
           0.16100369380938262,
           0.35036045989015707,
           0.319335209561851,
           0.6728696792530489,
           0.23851423525070625,
           0.9328506617944985,
           0.6938570031917247,
           0.4348866918919406,
           0.8085234054626756,
           0.42203478600653743,
           0.5467823519896522,
           0.10060403013531094,
           0.05317570201266886,
           0.7187070681376959,
           0.9736017267404101,
           0.6898447223603499,
           0.34481996307226825,
           0.16504411304883226,
           0.40660474458704376,
           0.6737987253987607,
           0.5435316083734212,
           0.4222891530841326,
           0.31466489175445733,
           0.21440537840263008,
           0.5592088763938504,
           0.16941442892849856,
           0.4116052698420011,
           0.6291314082533073,
           0.05247602134149709,
           0.4508277908502364,
           0.46541182956089966,
           0.8597331885486946,
           0.2763238088353396,
           0.9988959129187309,
           0.36487113959699013,
           0.9998695455948697,
           0.2990028528186498,
           0.86220721134713,
           0.6100029302345927,
           0.09683131627206354,
           0.8960593573194668,
           0.22320081090833077,
           0.30408968763364375,
           0.2967407878562174,
           0.059412265487167604,
           0.1446739445811943,
           0.16884784600539016,
           0.44385520426946534,
           0.18676937369507352,
           0.0323190617955319,
           0.33081257607640535,
           0.1615668342884845,
           0.23171661620570505,
           0.7541541488759477,
           0.7426959587974807,
           0.7159121717126109,
           0.7635674960863176,
           0.07256946791709062,
           0.8906204863441164,
           0.579669289065711,
           0.3803802894409867,
           0.23069937795785167,
           0.13918752781490007,
           0.6282113669603191,
           0.10496901972364292,
           0.6929378188830105,
           0.5786836801664612,
           0.3319532133316352,
           0.1805726635747128,
           0.09369135128012451,
           0.9860506808004225,
           0.3802504030225289,
           0.27605537879071906,
           0.9020611163576009,
           2.8340843186702713e-06,
           0.29169424085129314,
           0.5362443215711397,
           0.6808406744229905,
           0.9911276368955906,
           0.41014163124460445,
           0.4525103055671089,
           0.040784575145693,
           0.3839276467431957,
           0.7668273767489721,
           0.9033377489809482,
           0.11043585769233777,
           0.5975402866570492,
           0.9747170060391829,
           0.2414228802371292,
           0.3154301155136434,
           0.505968368601761,
           0.47963537789100075,
           0.006802322981643516,
           0.034716782109503574,
           0.40368281875622625,
           0.8120404011742969,
           0.5810659066615347,
           0.18563441276598214,
           0.4286104462774004,
           0.47712521353212245,
           0.16754773877110518,
           0.9665400522523792,
           0.8997435828576703,
           0.5852014134842476,
           0.6293546579391575,
           0.24188552666194185,
           0.6198155319594446,
           0.941583733900393,
           0.9073199592055472,
           0.34235824216155575,
           0.912045897356738,
           0.4783601554327179,
           0.9737879080307101,
           0.20298480121730644,
           0.7202902413195373,
           0.3414571270365847,
           0.22277040022823824,
           0.6655509599901195,
           0.33602108758329363,
           0.20788520281651535,
           0.8602034248163227,
           0.403928455365802,
           0.9647248970529424,
           0.6304762379083715,
           0.7798427373320033,
           0.8492522082553461,
           0.12462929517107457,
           0.4980901872391287,
           0.7928698492971702,
           0.9582798825851178,
           0.4680141674544779,
           0.772634389266971,
           0.05995210190797462,
           0.02730641131720979,
           0.8336559105982828,
           0.3562564575954912,
           0.8342326869409815,
           0.6824520544494151,
           0.8079133831850148,
           0.45829681570464265,
           0.3193030352084314,
           0.11712281554157211,
           0.1744916059276268,
           0.4619125546312183,
           0.19788087995491,
           0.5949164857636675,
           0.8413586630476626,
           0.14074622070044251,
           0.6674528608705761,
           0.42153955531407006,
           0.6756810674599473,
           0.23142076878088802,
           0.7111140160222528,
           0.17183564034548204,
           0.5059787715230636,
           0.16455210863864633,
           0.18524106036133536,
           0.40986342745399795,
           0.29326156666686476,
           0.0010126430223214022,
           0.24214943459817861,
           0.7544071782828549,
           0.759377179743825,
           0.9155478766077434,
           0.19512460625215555,
           0.8981013023180594,
           0.5878463706259998,
           0.2479127747723875,
           0.43298993190949975,
           0.2613610225182469,
           0.6871365035399576,
           0.03109147917173638,
           0.38282840032719667,
           0.0107400080143083,
           0.31187647587839884,
           0.07446192282833097,
           0.08604736593683937,
           0.2984655521079813,
           0.5615042667336042,
           0.22427387092421436,
           0.17312141725897578,
           0.31445866446623383,
           0.241188878139868,
           0.1457350909067333,
           0.1325015297672506,
           0.9728180184019207,
           0.12144110747391812,
           0.8815973453668435,
           0.5439917747326181,
           0.60825634874917,
           0.8598456868429217,
           0.37883519422366096,
           0.018628978451817102,
           0.2180265695614445,
           0.3359712311166396,
           0.1319462102663148,
           0.3130065700525616,
           0.8897159731292464,
           0.9354350727647877,
           0.5444817079267272,
           0.29290682899228737
          ],
          [
           0.5046956858197147,
           0.6565948194015607,
           0.42399934787193094,
           0.9596963324499949,
           0.48077529348878223,
           0.3626977760675931,
           0.05192906359382943,
           0.2543800074946312,
           0.9739154863895418,
           0.43787475554259636,
           0.3585044716021142,
           0.4464922917372791,
           0.4167450892214538,
           0.07847256189424912,
           0.9127498744656757,
           0.7103793588412974,
           0.010150663291112139,
           0.439383634878765,
           0.6238434536351972,
           0.2709240625026579,
           0.042457766002650166,
           0.37697118698897314,
           0.503548934161822,
           0.44033247362571315,
           0.10939171504525669,
           0.46280255535852877,
           0.2721492628066682,
           0.8683399454852572,
           0.2715927179830363,
           0.4169097829633498,
           0.219425163808726,
           0.5899544227150237,
           0.4617958334166392,
           0.4258942524279987,
           0.2021181436751609,
           0.16242671089031824,
           0.6707328290076142,
           0.21558700436726552,
           0.7924361811599779,
           0.5574431522925931,
           0.5882652466997832,
           0.6633381414205056,
           0.1470807039282832,
           0.9945730888577409,
           0.6641669450199327,
           0.6029608010103829,
           0.6331280884460294,
           0.1542763984788027,
           0.4005334515759499,
           0.7109745450852386,
           0.6005933669400897,
           0.00604273966513269,
           0.838465414132836,
           0.5637434185269858,
           0.23616220928868448,
           0.2992417692250502,
           0.6700770485751062,
           0.35222983919155304,
           0.713025229439178,
           0.8940183426153986,
           0.7485554705887365,
           0.16455214957010356,
           0.03046336912419212,
           0.5798296783809523,
           0.5687821181947378,
           0.5937009414868996,
           0.9706377055899083,
           0.32129898283303604,
           0.435982542645466,
           0.09332982229297804,
           0.11762197470868063,
           0.6061887778009049,
           0.2838982854197579,
           0.817044537656343,
           0.08580474055972676,
           0.9648438223614693,
           0.5552433698095843,
           0.538206196684778,
           0.864376480814992,
           0.9156620017753541,
           0.9759511146274852,
           0.050310619435547266,
           0.12668073062687324,
           0.5616847210202214,
           0.06048077532574703,
           0.2496859766508387,
           0.8561486352865406,
           0.9759072182408486,
           0.5213242924679135,
           0.583079033470596,
           0.3937073112264009,
           0.7679618537646521,
           0.9235606525428844,
           0.2924484102270474,
           0.10456298625258675,
           0.7519876838615902,
           0.8144737959022997,
           0.947085615776133,
           0.4252906064408003,
           0.590900905261967,
           0.12206448095735623,
           0.3714659339102204,
           0.2702707061973295,
           0.43810789371947867,
           0.664624860719401,
           0.9185571556770706,
           0.11899843213348393,
           0.2939324950187706,
           0.35792371113858,
           0.9922227774770044,
           0.879235122738259,
           0.9217726423684433,
           0.2784086240031205,
           0.03223645308422385,
           0.25166793868035653,
           0.2400685906781601,
           0.24166996023922915,
           0.8358276957294913,
           0.19771217374873973,
           0.8992462986480365,
           0.3350822311441519,
           0.6418921676525603,
           0.07601172152132896,
           0.4556747844823167,
           0.12087184684232244,
           0.9372893369738802,
           0.5915423218093626,
           0.4280742008343458,
           0.1694756067502785,
           0.5411558164905905,
           0.5932881440119527,
           0.3880269043512735,
           0.9828519902138787,
           0.49329046780209307,
           0.6823259036466671,
           0.11712067375159452,
           0.27299065114372434,
           0.2950903736106607,
           0.03487925189054286,
           0.17756102376586724,
           0.38854303451860306,
           0.372774001241458,
           0.9009257177492138,
           0.6373954339879357,
           0.8704731892845402,
           0.633772642554214,
           0.7654565763931389,
           0.24195120624577215,
           0.70339076673487,
           0.9246157194252431,
           0.7053419080034579,
           0.48756946488440867,
           0.050733598845110306,
           0.3725540595504493,
           0.5397743609622179,
           0.615320776855626,
           0.9230655914755013,
           0.46300465213262887,
           0.9924469018906069,
           0.35946828557435184,
           0.18403210598059494,
           0.18284052163398967,
           0.8130184298067745,
           0.36687726252219477,
           0.542221996109207,
           0.6482036943791443,
           0.7533639173523152,
           0.240502672670724,
           0.16198039342327109,
           0.30249051155841467,
           0.9666936382526536,
           0.14925099574799927,
           0.7360289173667346,
           0.4335853995425941,
           0.1673869171982344,
           0.15882965732138943,
           0.2204849373313208,
           0.24608428417842143,
           0.38004595900392846,
           0.6098643882697432,
           0.2748172526352184,
           0.4656774174751911,
           0.7385529429894061,
           0.9701168660797048,
           0.28267907195721975,
           0.2196299203953752,
           0.08313056272651942,
           0.507084391048108,
           0.20160875122265254,
           0.411010713838624,
           0.020005695165353776,
           0.8992104515735951,
           0.4803446194750506,
           0.9790281464220507,
           0.995617697668825,
           0.24028740544198623,
           0.1327433857632796,
           0.44134022506699566,
           0.8986844260562868,
           0.041325469034075635,
           0.5930050479398324,
           0.2625609158049038,
           0.3059357386630923,
           0.6345327789918147,
           0.08416112624226646,
           0.3134283476223195,
           0.6835841864882275,
           0.039954644726393984,
           0.43798847493309756,
           0.019771560996220572,
           0.9085046815722547,
           0.7788068765515511,
           0.29831740309894184,
           0.28986795661920706,
           0.0790954439246715,
           0.643069040992449,
           0.40632598959686705,
           0.21339940290424442,
           0.2611190563831177,
           0.6453471340561813,
           0.7435077473571434,
           0.062352487888294394,
           0.5437565937484933,
           0.9325830134762327,
           0.5065229892388932,
           0.3001141760618832,
           0.0470808964159144,
           0.6301198508693531,
           0.6753128379324866,
           0.5265349599289185,
           0.3877360519912493,
           0.21479587237054054,
           0.3547825840481632,
           0.7347956691483916,
           0.4149870080555884,
           0.5443651487661423,
           0.4466409325556808,
           0.6605878830398332,
           0.7010131849944126,
           0.6170910631683405,
           0.8656323012989785,
           0.3239717239187916,
           0.5061973549308936,
           0.5221412294529405,
           0.31705228508224415,
           0.5218331599975117,
           0.665963548524604,
           0.7400827995459222,
           0.7277180697286665,
           0.8623628093207921,
           0.8910245459903186,
           0.9060734716292032,
           0.36567916913553433,
           0.05090370213498718,
           0.8888582041017223,
           0.2790042381706631,
           0.5283074225812971,
           0.6876928954509262,
           0.06812300682134265,
           0.4581320120017388,
           0.47825310866108306,
           0.8059990839259396,
           0.5401192832961225,
           0.36127032627901334,
           0.425880552265106,
           0.3238311699457266,
           0.6161559434187599,
           0.9819819820433194,
           0.3046489571681772,
           0.9220828958171446,
           0.1313988331118181,
           0.016443607362477075,
           0.9087192688347302,
           0.2939795755135214,
           0.19581561443472562,
           0.8698235418542284,
           0.2507274239402001,
           0.16906626295149796,
           0.2021084961159446,
           0.7543988916159523,
           0.9024481049965214,
           0.5412810721225426,
           0.8958291957943734,
           0.17828139243682628,
           0.636078775477012,
           0.8514140309782492,
           0.9188963696518624,
           0.9795420538563571,
           0.7552196151532785,
           0.726879644924293,
           0.7470977161055544,
           0.9988301189233493,
           0.20421013390853282,
           0.8412080016114063,
           0.8381416806838007,
           0.04958146043104694,
           0.9128480125788391,
           0.15174729062398618,
           0.38068580027606713,
           0.6826901265129456,
           0.17921915824190815,
           0.653501204687727,
           0.8181629026611773,
           0.7266822497022183,
           0.9188998545101447,
           0.7062749229047895,
           0.3160193837246619,
           0.7737590677391709,
           0.8389771743703069,
           0.11702854709031518,
           0.19943834553512496,
           0.6772568680886439,
           0.50390441770693,
           0.713159392482809,
           0.935606151664181,
           0.2433772410219076,
           0.09719305261449762,
           0.4432147028412319,
           0.5502175533672,
           0.4851509642092878,
           0.2116680583170235,
           0.0714298046132128,
           0.7302700334318433,
           0.8602517127641217,
           0.6274450969953284,
           0.3036192124949374,
           0.9805041840867994,
           0.5654666410478313,
           0.7322014035621501,
           0.8796372093746949,
           0.7957678386191872,
           0.30614586271626554,
           0.19225144414794326,
           0.30304503425245,
           0.03136430863681028,
           0.40093496741329937,
           0.03654187999651404,
           0.40950389549212873,
           0.4635801723755312,
           0.631680994520772,
           0.5177634720961399,
           0.4116476971367923,
           0.9313473765222385,
           0.046734189499733736,
           0.46609205279656674,
           0.4501586975953823,
           0.8874117182252819,
           0.9454455930689312,
           0.7709433532607196,
           0.2075082919218194,
           0.7134556449062521,
           0.5239283316373488,
           0.4939485941418542,
           0.7563088382049611,
           0.05290579968844056,
           0.9322541717566561,
           0.25160102881211655,
           0.802722739376553,
           0.7726903408605772,
           0.9008889182398101,
           0.4199197371679292,
           0.062196775208373634,
           0.6938477454327616,
           0.5978317888738953,
           0.461863909980734,
           0.3188602024412003,
           0.5188985724347628,
           0.334288881132904,
           0.011357740320897314,
           0.9416153899622262,
           0.582632218844415,
           0.5212158396663604,
           0.9090872287490378,
           0.10998241564754185,
           0.3109154397006897,
           0.5987902936070466,
           0.507131101207627,
           0.5838117381852578,
           0.9357772229558178,
           0.9628808222266101,
           0.8646843392284739,
           0.9163590789284698,
           0.6191187850271748,
           0.8004937279054218,
           0.4150692552064239,
           0.6460147581791221,
           0.4573253918191861,
           0.9399217202663647,
           0.9416725958829668,
           0.9131044383956718,
           0.7994177899689284,
           0.7265278735194134,
           0.5579172484782301,
           0.006940901756694928,
           0.5030444405502609,
           0.3507571203311307,
           0.6907451062716344,
           0.8315744918209378,
           0.785586642595932,
           0.27697839607127195,
           0.9565081547545897,
           0.5288647126641317,
           0.4780416144070443,
           0.8964512271625625,
           0.3096599906737135,
           0.9697378311821205,
           0.8105676002724522,
           0.6037848540187578,
           0.7718146629379697,
           0.49323883825497794,
           0.3584791790515963,
           0.889850629500419,
           0.19746650953979317,
           0.6200104223995726,
           0.2689664710061558,
           0.6483626413272437,
           0.49974087509026255,
           0.9472887620288761,
           0.844837094778531,
           0.3940743390857362,
           0.9980343098088253,
           0.6854533577330646,
           0.3795655446384749,
           0.5702658970570034,
           0.03687622496091669,
           0.3245336239247566,
           0.2682546558501787,
           0.060379259648117856,
           0.7797434003087806,
           0.10212929074441268,
           0.2915170112015363,
           0.9179937475259179,
           0.08028233436440935,
           0.9810017289017501,
           0.28725389401886847,
           0.2427504601855437,
           0.5110598470088016,
           0.724294028554124,
           0.7482595420374817,
           0.2555019847843947,
           0.09215057335287569,
           0.94052536671951,
           0.21162223807763936,
           0.5991517565071616,
           0.9333987690843847,
           0.841108135246129,
           0.1935672923933376,
           0.2793735578786538,
           0.28144735525555886,
           0.026080305411437466,
           0.9982405377963331,
           0.11650075593626497,
           0.8697776056734984,
           0.07550032673101437,
           0.906775373619508,
           0.8659670870552411,
           0.12883968184736216,
           0.8565191046462284,
           0.7688265775554409,
           0.15835839799626195,
           0.863924448893414,
           0.7186340241278546,
           0.8240506699703848,
           0.27976333981137524,
           0.5112870897373388,
           0.42213060402992886,
           0.898648175195532,
           0.17885430120580192,
           0.05777255708544726,
           0.4354363450502513,
           0.7027405546410807,
           0.7640146556463152,
           0.2288685260537643,
           0.5043604624950065,
           0.5215462429170217,
           0.41587720727945654,
           0.5723890810807604,
           0.13820307631557383,
           0.0765473581085454,
           0.5967543819643837,
           0.6208807140554977,
           0.7287586886278703,
           0.5349278607670198,
           0.9716888348664422,
           0.4877092138810829,
           0.8816762778119224,
           0.7364132675172433,
           0.6131378322981972,
           0.5742595077845294,
           0.5669952750343238,
           0.25281987010833373,
           0.09260296892736852,
           0.6063055595447842,
           0.23297310465690269,
           0.25893265526344933,
           0.8381393408800955,
           0.1902163459471996,
           0.07927771158487007,
           0.9323798586506076,
           0.6137651158593588
          ],
          [
           0.3896806062312035,
           0.6016773450890376,
           0.23841087993121146,
           0.19884065225342118,
           0.9752838005560872,
           0.4699227043408063,
           0.9465154263304705,
           0.5534793215065338,
           0.7909253329772893,
           0.1361588950947712,
           0.8183301351464763,
           0.07478510759432433,
           0.3507015490078286,
           0.9799639868697241,
           0.5303164189087877,
           0.4282326925533654,
           0.6052104948254796,
           0.857505785487013,
           0.3013470637708028,
           0.04509664456176432,
           0.38940009942745524,
           0.9330982238795964,
           0.3325498915540256,
           0.03273466407182202,
           0.3722479666153362,
           0.7657818930965458,
           0.3424403833853863,
           0.8387779070410587,
           0.7308760703974471,
           0.969869415758757,
           0.19732400280408158,
           0.1454898254867537,
           0.7926549063051064,
           0.38204061114565746,
           0.8786920649602199,
           0.2999164393491691,
           0.6465378023346116,
           0.9988702490679888,
           0.28448211207930996,
           0.4762815715251052,
           0.7426600306014506,
           0.3018458569486062,
           0.2380219193508647,
           0.32380701602653306,
           0.17155620639223135,
           0.6703124734035301,
           0.5186545154968556,
           0.3445325911825592,
           0.44388035634002,
           0.4024415371143064,
           0.10899555900415692,
           0.4625373048742518,
           0.07807785473176565,
           0.7565688181279969,
           0.1665397466803894,
           0.8120953537177051,
           0.42079903284323317,
           0.5303817477683147,
           0.864359421439866,
           0.839922684411149,
           0.662383053785956,
           0.08061001091717013,
           0.7147986809371482,
           0.30313576684584054,
           0.659277587169612,
           0.3591434957250961,
           0.6447616958075361,
           0.7114358328785163,
           0.8416043148295363,
           0.07679076931608086,
           0.7915837925440244,
           0.2850298062968837,
           0.7824191632020102,
           0.14198963927011843,
           0.22140049329370537,
           0.579515460168472,
           0.16181371320046545,
           0.5883757899166635,
           0.02604308918125109,
           0.26090301922017345,
           0.5805974960800105,
           0.7232294975840604,
           0.24373226166613238,
           0.9617387800662803,
           0.551570123295435,
           0.983748734732975,
           0.4132726481359237,
           0.6229251479477771,
           0.5376465556191714,
           0.9789285551685029,
           0.1834064781476592,
           0.6439832361233351,
           0.6363983761321924,
           0.6464798356756146,
           0.6574417578184225,
           0.2065257228736168,
           0.42153616539284555,
           0.21317008492642986,
           0.06760195797686785,
           0.8622181286928522,
           0.6295227335264666,
           0.5774924559003078,
           0.5933140138321926,
           0.28568082037252174,
           0.8705670599350567,
           0.7441604389927808,
           0.3430458530263313,
           0.21092218083001357,
           0.0399825978947741,
           0.707285804887193,
           0.5861501401596703,
           0.05740346710264077,
           0.3806226108983013,
           0.2832601312876608,
           0.9125761875011493,
           0.9816052623686817,
           0.7637461146602388,
           0.605883037604723,
           0.29741475595548106,
           0.44170441615244727,
           0.07561141681344008,
           0.8524962389676651,
           0.24875564713214637,
           0.5141128099152502,
           0.787231688125072,
           0.10250695898716633,
           0.13392099728906282,
           0.10563817120608365,
           0.9865468909726857,
           0.8708434229148565,
           0.45921016824620275,
           0.6144922514531,
           0.17981937467803732,
           0.14327446901148555,
           0.33033133686704963,
           0.40067970801217434,
           0.9856745153578925,
           0.7709257866880632,
           0.9882147582292691,
           0.27984622324928676,
           0.37723229185883855,
           0.3170486176103291,
           0.4605156874248826,
           0.3097430522138941,
           0.30077466802128927,
           0.8567468224797504,
           0.708334020253077,
           0.9428669649216245,
           0.525939071917806,
           0.3853712605748676,
           0.5905948498586845,
           0.2190460526968001,
           0.021021610653421785,
           0.5790599116523437,
           0.12229254387471544,
           0.711203920487389,
           0.016353822334763235,
           0.7811099728152785,
           0.8007423501133419,
           0.6369470939127811,
           0.39077208561409604,
           0.16845258251840223,
           0.9597773566002687,
           0.42198916594623714,
           0.750976573414352,
           0.7146284264665734,
           0.8998586992510224,
           0.9099272744688008,
           0.08214180659973547,
           0.7747582440246313,
           0.6900825059892425,
           0.2009293583340248,
           0.3439190090523627,
           0.3342791478516898,
           0.03880035987606811,
           0.9332287443945493,
           0.02159214978775348,
           0.10670679710192388,
           0.23432213234149812,
           0.5652072237156482,
           0.2619722483168304,
           0.8795358537302509,
           0.39304658140529214,
           0.5350364052901893,
           0.35649710330359086,
           0.5965194666441007,
           0.03752119934616038,
           0.6372213199083901,
           0.46921844997267304,
           0.9651706453463114,
           0.2620069012677919,
           0.9488927898420016,
           0.13288575126959346,
           0.4714780363390383,
           0.760923292490754,
           0.09262856946685116,
           0.5999394936255587,
           0.09957612523398851,
           0.6659685279418494,
           0.763342204115497,
           0.08417801988653517,
           0.10464280851086927,
           0.04226516774052358,
           0.45194022824688285,
           0.5513342440222344,
           0.08636258312093781,
           0.9908900000853476,
           0.7142172479643235,
           0.930318362296198,
           0.5762254688397944,
           0.09730349508965774,
           0.38561163501478013,
           0.6216232366920146,
           0.6208462988997753,
           0.7603052248500987,
           0.5720998590508991,
           0.9210900769368625,
           0.20126717384125425,
           0.30953681747317385,
           0.09049096867817807,
           0.33082178583527555,
           0.2668020277372688,
           0.3257807484693749,
           0.3760815453848241,
           0.2594751307151123,
           0.160977759352688,
           0.8875191353799454,
           0.27834661542022776,
           0.8593056559414292,
           0.22238726092060257,
           0.20943356204005037,
           0.3893062929367941,
           0.7053746653165798,
           0.7645526590803833,
           0.6341889292739372,
           0.5466000794539244,
           0.8487203529974586,
           0.283534695561526,
           0.5099062680234155,
           0.11932531017738868,
           0.014459678388518027,
           0.984262846494994,
           0.9495251721579274,
           0.01016857771646229,
           0.7637886461311553,
           0.31549263071718436,
           0.04380051650001804,
           0.095582531857208,
           0.7999780103031303,
           0.7332229823529837,
           0.9009246898105194,
           0.02216954550271233,
           0.7662310453841386,
           0.20865269104050432,
           0.34812597329902417,
           0.7203334121625756,
           0.2605260768770358,
           0.011986399905286604,
           0.36257575967406697,
           0.013680990139583904,
           0.07960805176329311,
           0.11090162622631672,
           0.9037649780716043,
           0.6899428644527856,
           0.7378918324297835,
           0.7852497382535442,
           0.9471285325999373,
           0.25991845449490303,
           0.36848581923532153,
           0.4080870272453343,
           0.8063808504757065,
           0.039851563123171396,
           0.028031226090266093,
           0.2308224260507853,
           0.5392760502322848,
           0.5676618976008633,
           0.6300420856202285,
           0.9179177915944826,
           0.05354299963068565,
           0.429976873353071,
           0.7756428680050454,
           0.2979254565338362,
           0.8422704665958245,
           0.0026749034720306986,
           0.8944178577239852,
           0.6231184791134408,
           0.8847364169581825,
           0.5613152540926853,
           0.20526539081887252,
           0.5879671800042331,
           0.14843590615152713,
           0.11416750655278729,
           0.6313831090058694,
           0.1145950315565023,
           0.24462054522762433,
           0.8518445202636524,
           0.22435370915753905,
           0.4236845131290149,
           0.30812169423905866,
           0.3886760419115106,
           0.7697046897159255,
           0.7216594573164137,
           0.4223945756846318,
           0.49737268758905284,
           0.7600165080617742,
           0.8879759877261333,
           0.8434014130100358,
           0.0659249994189467,
           0.17381280706535007,
           0.7181548093561825,
           0.9375500893156357,
           0.7365917618883695,
           0.8446664847882317,
           0.8199868505682683,
           0.6864922315760374,
           0.9917764468700435,
           0.2555780226420926,
           0.6743086319477759,
           0.08774563023613735,
           0.8353987462606051,
           0.8227028681892173,
           0.6374756038428738,
           0.13544512999993374,
           0.5099570726051287,
           0.9927244930063389,
           0.8264788565824632,
           0.446058395909394,
           0.9704400399047659,
           0.8996604843667277,
           0.3980833837568942,
           0.24213642493154608,
           0.2929469462613734,
           0.10069492901389743,
           0.7924267436481935,
           0.84569708623525,
           0.19934328624321118,
           0.15597624386888653,
           0.4813485332743246,
           0.856072184022137,
           0.833264676807547,
           0.07797679616225672,
           0.4472243189098136,
           0.7400084434767547,
           0.09425216984826268,
           0.5683851421159491,
           0.3082162360400107,
           0.12068926974507077,
           0.09358800776767928,
           0.3606476474569428,
           0.5182429743125723,
           0.6435602541450182,
           0.5770878239987918,
           0.1299737997796444,
           0.9651236004877621,
           0.4821253018303838,
           0.42865507745065967,
           0.6480936062053289,
           0.8303289202090273,
           0.5223607376149173,
           0.5494571303859979,
           0.5231492032377749,
           0.9517694742967593,
           0.9746536062934442,
           0.3329248883574796,
           0.2789147972693682,
           0.023807160926428206,
           0.9713320564334892,
           0.5762263071259484,
           0.0097795905184751,
           0.31790863829569327,
           0.4664063564086458,
           0.15113789428860935,
           0.8645602883048868,
           0.8482487072973729,
           0.35463356131818735,
           0.666138637707029,
           0.21540421430774348,
           0.46940347112040015,
           0.22554135182665513,
           0.7049057043134114,
           0.005138749043079649,
           0.09767219164944907,
           0.8823843280722807,
           0.29723037267848995,
           0.6020108340266698,
           0.039781048737196456,
           0.1287829807488592,
           0.35303288808519484,
           0.7302179330046081,
           0.30343316837963874,
           0.12434861730566105,
           0.3868058318822073,
           0.597469606776768,
           0.8635931503061985,
           0.02791975844916006,
           0.5801143928343382,
           0.18855448636847516,
           0.9976188941698232,
           0.12684910259399174,
           0.7345521540649473,
           0.2317137271293256,
           0.3686057108898184,
           0.14423171027175719,
           0.6148558897879186,
           0.6034114386426914,
           0.4819347137928178,
           0.2630814129490425,
           0.28682228212855254,
           0.9073983961924574,
           0.6246957174751354,
           0.7081467017119403,
           0.35518145542379786,
           0.12006951797043797,
           0.2246558779587251,
           0.5708371532806684,
           0.544837102961322,
           0.9595006771945793,
           0.8867497919202411,
           0.42166903309856396,
           0.6679411810798062,
           0.16317283999734722,
           0.8419620019744684,
           0.197535521873749,
           0.4642433608940688,
           0.42041804348968415,
           0.08242982930270715,
           0.8593247770345115,
           0.08690057345798907,
           0.054071273281276366,
           0.38397260172750114,
           0.07685212503336802,
           0.49985246754673285,
           0.262934319724348,
           0.8707054003075224,
           0.6368742242225612,
           0.4016405056387372,
           0.752525195653539,
           0.16931602356590747,
           0.10945923928544787,
           0.35260132456465876,
           0.5134844924849865,
           0.2961023167860115,
           0.10930148852527755,
           0.10927026630140613,
           0.10545246375772777,
           0.8503284674020851,
           0.48091639706018874,
           0.43361674450205245,
           0.25571205110677864,
           0.6772262180034926,
           0.6018640616435598,
           0.5635170534637641,
           0.3161588822224891,
           0.9062447383408684,
           0.02372240445199858,
           0.847908176491208,
           0.6585591279050172,
           0.9528734953324348,
           0.10625107112339116,
           0.6063545527094294,
           0.6976380548909048,
           0.34265485878182467,
           0.8209407088945054,
           0.7842747432415021,
           0.029838360600783043,
           0.015539436532853501,
           0.031065911744894592,
           0.11594952305191819,
           0.8765489695735866,
           0.2814924700372986,
           0.8486917999956317,
           0.8009981808987003,
           0.8923354613085195,
           0.3313009972599721,
           0.080285738491776,
           0.052766620606434,
           0.5401380949708396,
           0.5395243287444476,
           0.6122596525113646,
           0.09734916054242826,
           0.1921865149228168,
           0.1799915526983079,
           0.8836109253635016,
           0.9021622692193307,
           0.3463091544906075,
           0.5718415944762423,
           0.6636214819052618,
           0.04124722642659684,
           0.5597372084916926,
           0.9504290122685339,
           0.5235073846317623,
           0.32394279626856715,
           0.4757368830563894,
           0.46904434672469475,
           0.17740900445772534,
           0.13478250981347484,
           0.35404577268248294,
           0.7471265918811937,
           0.13605616685128885,
           0.5158036112072863
          ]
         ]
        }
       ],
       "layout": {
        "legend": {
         "bgcolor": "#F2F3F7",
         "font": {
          "color": "#505050"
         }
        },
        "paper_bgcolor": "#F2F3F7",
        "plot_bgcolor": "#F2F3F7",
        "template": {
         "data": {
          "bar": [
           {
            "error_x": {
             "color": "#2a3f5f"
            },
            "error_y": {
             "color": "#2a3f5f"
            },
            "marker": {
             "line": {
              "color": "#E5ECF6",
              "width": 0.5
             }
            },
            "type": "bar"
           }
          ],
          "barpolar": [
           {
            "marker": {
             "line": {
              "color": "#E5ECF6",
              "width": 0.5
             }
            },
            "type": "barpolar"
           }
          ],
          "carpet": [
           {
            "aaxis": {
             "endlinecolor": "#2a3f5f",
             "gridcolor": "white",
             "linecolor": "white",
             "minorgridcolor": "white",
             "startlinecolor": "#2a3f5f"
            },
            "baxis": {
             "endlinecolor": "#2a3f5f",
             "gridcolor": "white",
             "linecolor": "white",
             "minorgridcolor": "white",
             "startlinecolor": "#2a3f5f"
            },
            "type": "carpet"
           }
          ],
          "choropleth": [
           {
            "colorbar": {
             "outlinewidth": 0,
             "ticks": ""
            },
            "type": "choropleth"
           }
          ],
          "contour": [
           {
            "colorbar": {
             "outlinewidth": 0,
             "ticks": ""
            },
            "colorscale": [
             [
              0,
              "#0d0887"
             ],
             [
              0.1111111111111111,
              "#46039f"
             ],
             [
              0.2222222222222222,
              "#7201a8"
             ],
             [
              0.3333333333333333,
              "#9c179e"
             ],
             [
              0.4444444444444444,
              "#bd3786"
             ],
             [
              0.5555555555555556,
              "#d8576b"
             ],
             [
              0.6666666666666666,
              "#ed7953"
             ],
             [
              0.7777777777777778,
              "#fb9f3a"
             ],
             [
              0.8888888888888888,
              "#fdca26"
             ],
             [
              1,
              "#f0f921"
             ]
            ],
            "type": "contour"
           }
          ],
          "contourcarpet": [
           {
            "colorbar": {
             "outlinewidth": 0,
             "ticks": ""
            },
            "type": "contourcarpet"
           }
          ],
          "heatmap": [
           {
            "colorbar": {
             "outlinewidth": 0,
             "ticks": ""
            },
            "colorscale": [
             [
              0,
              "#0d0887"
             ],
             [
              0.1111111111111111,
              "#46039f"
             ],
             [
              0.2222222222222222,
              "#7201a8"
             ],
             [
              0.3333333333333333,
              "#9c179e"
             ],
             [
              0.4444444444444444,
              "#bd3786"
             ],
             [
              0.5555555555555556,
              "#d8576b"
             ],
             [
              0.6666666666666666,
              "#ed7953"
             ],
             [
              0.7777777777777778,
              "#fb9f3a"
             ],
             [
              0.8888888888888888,
              "#fdca26"
             ],
             [
              1,
              "#f0f921"
             ]
            ],
            "type": "heatmap"
           }
          ],
          "heatmapgl": [
           {
            "colorbar": {
             "outlinewidth": 0,
             "ticks": ""
            },
            "colorscale": [
             [
              0,
              "#0d0887"
             ],
             [
              0.1111111111111111,
              "#46039f"
             ],
             [
              0.2222222222222222,
              "#7201a8"
             ],
             [
              0.3333333333333333,
              "#9c179e"
             ],
             [
              0.4444444444444444,
              "#bd3786"
             ],
             [
              0.5555555555555556,
              "#d8576b"
             ],
             [
              0.6666666666666666,
              "#ed7953"
             ],
             [
              0.7777777777777778,
              "#fb9f3a"
             ],
             [
              0.8888888888888888,
              "#fdca26"
             ],
             [
              1,
              "#f0f921"
             ]
            ],
            "type": "heatmapgl"
           }
          ],
          "histogram": [
           {
            "marker": {
             "colorbar": {
              "outlinewidth": 0,
              "ticks": ""
             }
            },
            "type": "histogram"
           }
          ],
          "histogram2d": [
           {
            "colorbar": {
             "outlinewidth": 0,
             "ticks": ""
            },
            "colorscale": [
             [
              0,
              "#0d0887"
             ],
             [
              0.1111111111111111,
              "#46039f"
             ],
             [
              0.2222222222222222,
              "#7201a8"
             ],
             [
              0.3333333333333333,
              "#9c179e"
             ],
             [
              0.4444444444444444,
              "#bd3786"
             ],
             [
              0.5555555555555556,
              "#d8576b"
             ],
             [
              0.6666666666666666,
              "#ed7953"
             ],
             [
              0.7777777777777778,
              "#fb9f3a"
             ],
             [
              0.8888888888888888,
              "#fdca26"
             ],
             [
              1,
              "#f0f921"
             ]
            ],
            "type": "histogram2d"
           }
          ],
          "histogram2dcontour": [
           {
            "colorbar": {
             "outlinewidth": 0,
             "ticks": ""
            },
            "colorscale": [
             [
              0,
              "#0d0887"
             ],
             [
              0.1111111111111111,
              "#46039f"
             ],
             [
              0.2222222222222222,
              "#7201a8"
             ],
             [
              0.3333333333333333,
              "#9c179e"
             ],
             [
              0.4444444444444444,
              "#bd3786"
             ],
             [
              0.5555555555555556,
              "#d8576b"
             ],
             [
              0.6666666666666666,
              "#ed7953"
             ],
             [
              0.7777777777777778,
              "#fb9f3a"
             ],
             [
              0.8888888888888888,
              "#fdca26"
             ],
             [
              1,
              "#f0f921"
             ]
            ],
            "type": "histogram2dcontour"
           }
          ],
          "mesh3d": [
           {
            "colorbar": {
             "outlinewidth": 0,
             "ticks": ""
            },
            "type": "mesh3d"
           }
          ],
          "parcoords": [
           {
            "line": {
             "colorbar": {
              "outlinewidth": 0,
              "ticks": ""
             }
            },
            "type": "parcoords"
           }
          ],
          "pie": [
           {
            "automargin": true,
            "type": "pie"
           }
          ],
          "scatter": [
           {
            "marker": {
             "colorbar": {
              "outlinewidth": 0,
              "ticks": ""
             }
            },
            "type": "scatter"
           }
          ],
          "scatter3d": [
           {
            "line": {
             "colorbar": {
              "outlinewidth": 0,
              "ticks": ""
             }
            },
            "marker": {
             "colorbar": {
              "outlinewidth": 0,
              "ticks": ""
             }
            },
            "type": "scatter3d"
           }
          ],
          "scattercarpet": [
           {
            "marker": {
             "colorbar": {
              "outlinewidth": 0,
              "ticks": ""
             }
            },
            "type": "scattercarpet"
           }
          ],
          "scattergeo": [
           {
            "marker": {
             "colorbar": {
              "outlinewidth": 0,
              "ticks": ""
             }
            },
            "type": "scattergeo"
           }
          ],
          "scattergl": [
           {
            "marker": {
             "colorbar": {
              "outlinewidth": 0,
              "ticks": ""
             }
            },
            "type": "scattergl"
           }
          ],
          "scattermapbox": [
           {
            "marker": {
             "colorbar": {
              "outlinewidth": 0,
              "ticks": ""
             }
            },
            "type": "scattermapbox"
           }
          ],
          "scatterpolar": [
           {
            "marker": {
             "colorbar": {
              "outlinewidth": 0,
              "ticks": ""
             }
            },
            "type": "scatterpolar"
           }
          ],
          "scatterpolargl": [
           {
            "marker": {
             "colorbar": {
              "outlinewidth": 0,
              "ticks": ""
             }
            },
            "type": "scatterpolargl"
           }
          ],
          "scatterternary": [
           {
            "marker": {
             "colorbar": {
              "outlinewidth": 0,
              "ticks": ""
             }
            },
            "type": "scatterternary"
           }
          ],
          "surface": [
           {
            "colorbar": {
             "outlinewidth": 0,
             "ticks": ""
            },
            "colorscale": [
             [
              0,
              "#0d0887"
             ],
             [
              0.1111111111111111,
              "#46039f"
             ],
             [
              0.2222222222222222,
              "#7201a8"
             ],
             [
              0.3333333333333333,
              "#9c179e"
             ],
             [
              0.4444444444444444,
              "#bd3786"
             ],
             [
              0.5555555555555556,
              "#d8576b"
             ],
             [
              0.6666666666666666,
              "#ed7953"
             ],
             [
              0.7777777777777778,
              "#fb9f3a"
             ],
             [
              0.8888888888888888,
              "#fdca26"
             ],
             [
              1,
              "#f0f921"
             ]
            ],
            "type": "surface"
           }
          ],
          "table": [
           {
            "cells": {
             "fill": {
              "color": "#EBF0F8"
             },
             "line": {
              "color": "white"
             }
            },
            "header": {
             "fill": {
              "color": "#C8D4E3"
             },
             "line": {
              "color": "white"
             }
            },
            "type": "table"
           }
          ]
         },
         "layout": {
          "annotationdefaults": {
           "arrowcolor": "#2a3f5f",
           "arrowhead": 0,
           "arrowwidth": 1
          },
          "coloraxis": {
           "colorbar": {
            "outlinewidth": 0,
            "ticks": ""
           }
          },
          "colorscale": {
           "diverging": [
            [
             0,
             "#8e0152"
            ],
            [
             0.1,
             "#c51b7d"
            ],
            [
             0.2,
             "#de77ae"
            ],
            [
             0.3,
             "#f1b6da"
            ],
            [
             0.4,
             "#fde0ef"
            ],
            [
             0.5,
             "#f7f7f7"
            ],
            [
             0.6,
             "#e6f5d0"
            ],
            [
             0.7,
             "#b8e186"
            ],
            [
             0.8,
             "#7fbc41"
            ],
            [
             0.9,
             "#4d9221"
            ],
            [
             1,
             "#276419"
            ]
           ],
           "sequential": [
            [
             0,
             "#0d0887"
            ],
            [
             0.1111111111111111,
             "#46039f"
            ],
            [
             0.2222222222222222,
             "#7201a8"
            ],
            [
             0.3333333333333333,
             "#9c179e"
            ],
            [
             0.4444444444444444,
             "#bd3786"
            ],
            [
             0.5555555555555556,
             "#d8576b"
            ],
            [
             0.6666666666666666,
             "#ed7953"
            ],
            [
             0.7777777777777778,
             "#fb9f3a"
            ],
            [
             0.8888888888888888,
             "#fdca26"
            ],
            [
             1,
             "#f0f921"
            ]
           ],
           "sequentialminus": [
            [
             0,
             "#0d0887"
            ],
            [
             0.1111111111111111,
             "#46039f"
            ],
            [
             0.2222222222222222,
             "#7201a8"
            ],
            [
             0.3333333333333333,
             "#9c179e"
            ],
            [
             0.4444444444444444,
             "#bd3786"
            ],
            [
             0.5555555555555556,
             "#d8576b"
            ],
            [
             0.6666666666666666,
             "#ed7953"
            ],
            [
             0.7777777777777778,
             "#fb9f3a"
            ],
            [
             0.8888888888888888,
             "#fdca26"
            ],
            [
             1,
             "#f0f921"
            ]
           ]
          },
          "colorway": [
           "#636efa",
           "#EF553B",
           "#00cc96",
           "#ab63fa",
           "#FFA15A",
           "#19d3f3",
           "#FF6692",
           "#B6E880",
           "#FF97FF",
           "#FECB52"
          ],
          "font": {
           "color": "#2a3f5f"
          },
          "geo": {
           "bgcolor": "white",
           "lakecolor": "white",
           "landcolor": "#E5ECF6",
           "showlakes": true,
           "showland": true,
           "subunitcolor": "white"
          },
          "hoverlabel": {
           "align": "left"
          },
          "hovermode": "closest",
          "mapbox": {
           "style": "light"
          },
          "paper_bgcolor": "white",
          "plot_bgcolor": "#E5ECF6",
          "polar": {
           "angularaxis": {
            "gridcolor": "white",
            "linecolor": "white",
            "ticks": ""
           },
           "bgcolor": "#E5ECF6",
           "radialaxis": {
            "gridcolor": "white",
            "linecolor": "white",
            "ticks": ""
           }
          },
          "scene": {
           "xaxis": {
            "backgroundcolor": "#E5ECF6",
            "gridcolor": "white",
            "gridwidth": 2,
            "linecolor": "white",
            "showbackground": true,
            "ticks": "",
            "zerolinecolor": "white"
           },
           "yaxis": {
            "backgroundcolor": "#E5ECF6",
            "gridcolor": "white",
            "gridwidth": 2,
            "linecolor": "white",
            "showbackground": true,
            "ticks": "",
            "zerolinecolor": "white"
           },
           "zaxis": {
            "backgroundcolor": "#E5ECF6",
            "gridcolor": "white",
            "gridwidth": 2,
            "linecolor": "white",
            "showbackground": true,
            "ticks": "",
            "zerolinecolor": "white"
           }
          },
          "shapedefaults": {
           "line": {
            "color": "#2a3f5f"
           }
          },
          "ternary": {
           "aaxis": {
            "gridcolor": "white",
            "linecolor": "white",
            "ticks": ""
           },
           "baxis": {
            "gridcolor": "white",
            "linecolor": "white",
            "ticks": ""
           },
           "bgcolor": "#E5ECF6",
           "caxis": {
            "gridcolor": "white",
            "linecolor": "white",
            "ticks": ""
           }
          },
          "title": {
           "x": 0.05
          },
          "xaxis": {
           "automargin": true,
           "gridcolor": "white",
           "linecolor": "white",
           "ticks": "",
           "title": {
            "standoff": 15
           },
           "zerolinecolor": "white",
           "zerolinewidth": 2
          },
          "yaxis": {
           "automargin": true,
           "gridcolor": "white",
           "linecolor": "white",
           "ticks": "",
           "title": {
            "standoff": 15
           },
           "zerolinecolor": "white",
           "zerolinewidth": 2
          }
         }
        },
        "title": {
         "font": {
          "color": "#484848"
         }
        },
        "xaxis": {
         "gridcolor": "#E1E5ED",
         "showgrid": true,
         "tickfont": {
          "color": "#505050"
         },
         "title": {
          "font": {
           "color": "#505050"
          },
          "text": ""
         },
         "zerolinecolor": "#E1E5ED"
        },
        "yaxis": {
         "gridcolor": "#E1E5ED",
         "showgrid": true,
         "tickfont": {
          "color": "#505050"
         },
         "title": {
          "font": {
           "color": "#505050"
          },
          "text": ""
         },
         "zerolinecolor": "#E1E5ED"
        }
       }
      },
      "text/html": [
       "<div>                            <div id=\"5d4a8a39-d3c4-4a77-a45f-c0ba66581b3c\" class=\"plotly-graph-div\" style=\"height:525px; width:100%;\"></div>            <script type=\"text/javascript\">                require([\"plotly\"], function(Plotly) {                    window.PLOTLYENV=window.PLOTLYENV || {};\n",
       "                    window.PLOTLYENV.BASE_URL='https://plot.ly';                                    if (document.getElementById(\"5d4a8a39-d3c4-4a77-a45f-c0ba66581b3c\")) {                    Plotly.newPlot(                        \"5d4a8a39-d3c4-4a77-a45f-c0ba66581b3c\",                        [{\"colorscale\": [[0.0, \"rgb(0, 128, 240)\"], [0.16666666666666666, \"rgb(238, 118, 0)\"], [0.3333333333333333, \"rgb(48, 144, 84)\"], [0.5, \"rgb(98, 98, 222)\"], [0.6666666666666666, \"rgb(217, 66, 85)\"], [0.8333333333333334, \"rgb(173, 252, 252)\"], [1.0, \"rgb(70, 160, 240)\"]], \"type\": \"surface\", \"x\": [0, 1, 2, 3, 4, 5, 6, 7, 8, 9, 10, 11, 12, 13, 14, 15, 16, 17, 18, 19, 20, 21, 22, 23, 24, 25, 26, 27, 28, 29, 30, 31, 32, 33, 34, 35, 36, 37, 38, 39, 40, 41, 42, 43, 44, 45, 46, 47, 48, 49, 50, 51, 52, 53, 54, 55, 56, 57, 58, 59, 60, 61, 62, 63, 64, 65, 66, 67, 68, 69, 70, 71, 72, 73, 74, 75, 76, 77, 78, 79, 80, 81, 82, 83, 84, 85, 86, 87, 88, 89, 90, 91, 92, 93, 94, 95, 96, 97, 98, 99, 100, 101, 102, 103, 104, 105, 106, 107, 108, 109, 110, 111, 112, 113, 114, 115, 116, 117, 118, 119, 120, 121, 122, 123, 124, 125, 126, 127, 128, 129, 130, 131, 132, 133, 134, 135, 136, 137, 138, 139, 140, 141, 142, 143, 144, 145, 146, 147, 148, 149, 150, 151, 152, 153, 154, 155, 156, 157, 158, 159, 160, 161, 162, 163, 164, 165, 166, 167, 168, 169, 170, 171, 172, 173, 174, 175, 176, 177, 178, 179, 180, 181, 182, 183, 184, 185, 186, 187, 188, 189, 190, 191, 192, 193, 194, 195, 196, 197, 198, 199, 200, 201, 202, 203, 204, 205, 206, 207, 208, 209, 210, 211, 212, 213, 214, 215, 216, 217, 218, 219, 220, 221, 222, 223, 224, 225, 226, 227, 228, 229, 230, 231, 232, 233, 234, 235, 236, 237, 238, 239, 240, 241, 242, 243, 244, 245, 246, 247, 248, 249, 250, 251, 252, 253, 254, 255, 256, 257, 258, 259, 260, 261, 262, 263, 264, 265, 266, 267, 268, 269, 270, 271, 272, 273, 274, 275, 276, 277, 278, 279, 280, 281, 282, 283, 284, 285, 286, 287, 288, 289, 290, 291, 292, 293, 294, 295, 296, 297, 298, 299, 300, 301, 302, 303, 304, 305, 306, 307, 308, 309, 310, 311, 312, 313, 314, 315, 316, 317, 318, 319, 320, 321, 322, 323, 324, 325, 326, 327, 328, 329, 330, 331, 332, 333, 334, 335, 336, 337, 338, 339, 340, 341, 342, 343, 344, 345, 346, 347, 348, 349, 350, 351, 352, 353, 354, 355, 356, 357, 358, 359, 360, 361, 362, 363, 364, 365, 366, 367, 368, 369, 370, 371, 372, 373, 374, 375, 376, 377, 378, 379, 380, 381, 382, 383, 384, 385, 386, 387, 388, 389, 390, 391, 392, 393, 394, 395, 396, 397, 398, 399, 400, 401, 402, 403, 404, 405, 406, 407, 408, 409, 410, 411, 412, 413, 414, 415, 416, 417, 418, 419, 420, 421, 422, 423, 424, 425, 426, 427, 428, 429, 430, 431, 432, 433, 434, 435, 436, 437, 438, 439, 440, 441, 442, 443, 444, 445, 446, 447, 448, 449, 450, 451, 452, 453, 454, 455, 456, 457, 458, 459, 460, 461, 462, 463, 464, 465, 466, 467, 468, 469, 470, 471, 472, 473, 474, 475, 476, 477, 478, 479, 480, 481, 482, 483, 484, 485, 486, 487, 488, 489, 490, 491, 492, 493, 494, 495, 496, 497, 498, 499], \"y\": [\"a\", \"b\", \"c\", \"d\"], \"z\": [[0.3064788168016591, 0.2774170234998602, 0.5557706279753811, 0.8092089250544994, 0.952604741599049, 0.34855987727335613, 0.026130262652994563, 0.33550549398196583, 0.0023849405364854137, 0.9979694333586758, 0.6697328578959016, 0.2615128909754272, 0.4284969034241872, 0.5337696016486151, 0.6339835804067, 0.20981483584866922, 0.5544272524846942, 0.4376628696461201, 0.5289365510999644, 0.01682377041682459, 0.15284378899714535, 0.8821289577861465, 0.9389719492407574, 0.2054895540267716, 0.7135202880431795, 0.7321362257279919, 0.8749463685831604, 0.45081570855889685, 0.4248159598425487, 0.14103264624603917, 0.2690533749934134, 0.3113085931356592, 0.7826841281388869, 0.981802615047023, 0.8349164321642933, 0.8964187131181303, 0.47346476672337445, 0.1518911167821816, 0.8770444529567529, 0.614189348894898, 0.28166798892103095, 0.715742702771851, 0.8029527598895356, 0.9365851045147381, 0.5693947484838289, 0.19596732511058246, 0.7319805322890214, 0.3732869001538365, 0.05687924900525165, 0.17575672792420016, 0.453279934278087, 0.8895143481531342, 0.8826843134943514, 0.3252581760189637, 0.7202432133763603, 0.6651206278264198, 0.9392302714655232, 0.8731696699696143, 0.5674898533398796, 0.3789835634029457, 0.9035005733340052, 0.5207444226038157, 0.6471677060508368, 0.21485001609789978, 0.5512486687480036, 0.4501600701479044, 0.14337642107828996, 0.09941775505548678, 0.9993703501007617, 0.5368230077638506, 0.6769248069648821, 0.6466984449434228, 0.49882985667078783, 0.3485184204081535, 0.7569804720762254, 0.09917623878398596, 0.607975802121348, 0.09167264910496664, 0.48441394879637334, 0.3387328862576201, 0.6744756957783359, 0.29586046048578374, 0.38674554211585754, 0.7514668943982338, 0.11965481023105562, 0.5018012531688718, 0.8036146323563258, 0.10191153430199773, 0.7887869448265602, 0.7123942523891824, 0.9499977046565815, 0.7899203513776947, 0.43587834478958454, 0.7761936668023578, 0.9224753949068517, 0.9785181109715341, 0.49464028150684725, 0.893050848988973, 0.3724779890088483, 0.01413135263776688, 0.9629750011758393, 0.7640063253251924, 0.1886140696342855, 0.7287069414337524, 0.7031596796696896, 0.9434932484924041, 0.11199110403585366, 0.04857469070469256, 0.9176354493203208, 0.15001220326724107, 0.04401699618593036, 0.2907710736088497, 0.2308523643359217, 0.690482838431078, 0.9500688837787005, 0.4558471847883774, 0.6886218560749403, 0.7171091736200109, 0.8727119722656921, 0.39476826209279403, 0.22276361475650774, 0.7271210226320831, 0.2004429869072728, 0.28505736681268357, 0.058075165415397256, 0.08450216071840633, 0.5036010453162814, 0.6202437555886204, 0.8815917454331385, 0.6383521279162563, 0.15203882641341315, 0.39915029543497504, 0.7011148898682465, 0.06968872576072516, 0.08503091553056963, 0.21180605343255465, 0.9560146962045544, 0.7486475889909652, 0.8228751054417954, 0.079434135901581, 0.5144395348454428, 0.08614437826176458, 0.99141559174368, 0.6364556510921128, 0.0013779526904426076, 0.24393587689030993, 0.2997566575756414, 0.774407147225109, 0.9964707733214092, 0.04668108425338058, 0.6068260848492711, 0.1830093234155954, 0.7020540231486604, 0.9046816290010334, 0.5317352464722712, 0.992947911706319, 0.35505822356783234, 0.8097695830605698, 0.6641023447121631, 0.6713036914886805, 0.2703301895937118, 0.541105796920765, 0.3352564652166572, 0.29088385653066307, 0.60721967220201, 0.018466138230353146, 0.44196872667612297, 0.7128712346968414, 0.33568518992986995, 0.7998250602524438, 0.14081347063259853, 0.8019336859359749, 0.34036560247879366, 0.7418202335705771, 0.7548737219818882, 0.6974289358717094, 0.18368003773172958, 0.5319909104405229, 0.0572090203006006, 0.8723978267370338, 0.9643366980391344, 0.3885542065388097, 0.8786491267557994, 0.07356609572806372, 0.08670378379804577, 0.38098850185338184, 0.554327570616008, 0.6841467119577819, 0.5139992916570553, 0.9326417000390486, 0.9242166540700876, 0.7980746931835301, 0.1676195162632671, 0.8837296793013999, 0.6011138563945565, 0.6676505707494922, 0.02469135848278259, 0.2584516952291458, 0.06452670654954407, 0.1451729388373102, 0.1769099999221393, 0.808463664804445, 0.38908998680844364, 0.23975395974505054, 0.8017689922794748, 0.5745383525178179, 0.34912168754705497, 0.8711856154502307, 0.6692031369599727, 0.07362703389493908, 0.8575628320377972, 0.8551360218535055, 0.5479428044279245, 0.5252021439160995, 0.10145305089568724, 0.09636008325989132, 0.2639978035302374, 0.21556751316724154, 0.5536131811257295, 0.32976468567676964, 0.07350848911099994, 0.7092580938487774, 0.2323242856949823, 0.17529165274719394, 0.6119368234890248, 0.8644084917192159, 0.12023045858070247, 0.19871356672926255, 0.6823901314299364, 0.4235956335004648, 0.6432247257017671, 0.8511856684869076, 0.9715345985209064, 0.9600017134303244, 0.37384422641149206, 0.338333723056242, 0.8649271831637898, 0.2937645977592399, 0.2831210200282088, 0.7091327624498599, 0.5996656203872033, 0.8831174070571561, 0.39470190204582545, 0.9619810784917752, 0.10861224941551506, 0.8878748757817182, 0.6856128728390959, 0.12636859371002518, 0.605708562945765, 0.5891236768530903, 0.7213000450347291, 0.8285012409036224, 0.06776043616047334, 0.19717395614984357, 0.4753160816384462, 0.9470185629743382, 0.914822182974793, 0.2369332969393596, 0.16318035387207352, 0.8454018353755258, 0.22100716801057285, 0.7820912092163438, 0.9523972339143502, 0.9874310484721038, 0.805315183971863, 0.6387510954688298, 0.73153114286172, 0.657689524259831, 0.8476786913003413, 0.16578232685133143, 0.020295304710816753, 0.37212651289776133, 0.7095033983219992, 0.7734516301346205, 0.019792020538705102, 0.19417947877181707, 0.42253923680466254, 0.892776204670384, 0.1684185590211592, 0.6622949984219365, 0.2503662512403878, 0.9933369918648854, 0.20308935908948622, 0.18033443832089935, 0.23182446263377243, 0.7176154615760546, 0.3555159399655774, 0.5324142595495229, 0.31158715105683366, 0.20276401233558616, 0.7261847992737316, 0.3699094402653783, 0.07461015758044542, 0.7569295913135357, 0.39047506401342547, 0.37974805863455807, 0.3134892638299559, 0.09271405555350398, 0.744624669935465, 0.7684639487886813, 0.19975418454413119, 0.12513884395796238, 0.7484870344124719, 0.5434852872763668, 0.6189066337958402, 0.9439537841548534, 0.7777275520309884, 0.806000865356415, 0.883339214870903, 0.8753778845470342, 0.6356526486952608, 0.919810760485115, 0.8456764100712708, 0.620410793117682, 0.2652384876710101, 0.7969365938633743, 0.02137987130761576, 0.19264024583053418, 0.2649386202463061, 0.12740185745818633, 0.5781009100817355, 0.20027851149758846, 0.4186349312901525, 0.5261892006616611, 0.5944107765474641, 0.998187292756693, 0.5563322482529964, 0.8963153495595724, 0.0009307180441107121, 0.7761147852004939, 0.784755866296616, 0.16588317367861904, 0.6215015739564373, 0.7292470351714685, 0.09498651761660071, 0.13481972125850883, 0.3709515845216512, 0.2779193395538957, 0.23888791237242335, 0.06809545954410445, 0.1341313170459515, 0.6014848356938088, 0.05264920271451512, 0.11726694440703878, 0.7461214986543615, 0.21326412177040566, 0.9016624401270573, 0.04841836371516273, 0.8442309522837479, 0.03557750949290761, 0.9383014485699411, 0.6341663275747665, 0.9674336694612349, 0.26086785050274874, 0.30540937829396897, 0.3316766005632137, 0.8116751009898961, 0.8155474326489149, 0.9024956735328499, 0.3152947998814971, 0.31939900304110724, 0.8381666249537155, 0.8692269025352407, 0.4109271641165214, 0.21781519623781553, 0.2035716050055144, 0.4882493361725583, 0.28735164326000273, 0.5456625999608536, 0.1706213650618582, 0.015715900919217485, 0.47004484250379597, 0.897080100171877, 0.7690720807707596, 0.44568963654809124, 0.9825800994942644, 0.8768027946382951, 0.3020612128976571, 0.7344310577517016, 0.23877535671726569, 0.12321577183767307, 0.017562139049896563, 0.6954607021423196, 0.30366056400792807, 0.7153930833568588, 0.09350629478548556, 0.12707100237136693, 0.5157939927290959, 0.643006987088474, 0.36845438884574844, 0.04078004170178884, 0.8874911691076495, 0.0155692880279098, 0.741328597958119, 0.9360940704771175, 0.28848240499097877, 0.8622763128616008, 0.36998683076036365, 0.20196896608021364, 0.9462661810096469, 0.8324897650669026, 0.43660381060085174, 0.7716796789706577, 0.9770235605974316, 0.6004337603244323, 0.21518239212739343, 0.8820569108183851, 0.6279954302485796, 0.4446239399176216, 0.29823959720667415, 0.7001973358935065, 0.13961973413610296, 0.262298130433009, 0.44811332902621037, 0.04067981719418379, 0.35699849514741544, 0.024140204430177947, 0.413625747943726, 0.9426868569940745, 0.8443368571054861, 0.7499229929529748, 0.7519108774764995, 0.4430603724625176, 0.491303668804398, 0.7459451252114322, 0.08948652667066515, 0.5791545896333244, 0.027260345505210726, 0.9184931991293015, 0.26829132285809887, 0.13624165461891624, 0.8860956432393491, 0.3632501775685155, 0.6839983469182547, 0.38113801581581996, 0.36766224879474174, 0.5769687941977872, 0.46623963086424636, 0.6822542358939895, 0.29983285029610574, 0.24029325914178346, 0.9656164599906808, 0.8172489557024772, 0.5023921474060127, 0.2310225933269361, 0.725828230195959, 0.09167028932605514, 0.4935934940212301, 0.7712198409962557, 0.5310027166047128, 0.18399386239103133, 0.5653314483320067, 0.2094935380924715, 0.07331432816715489, 0.21325433484137568, 0.9949703342880702, 0.8826769709265118, 0.7647291725654789, 0.1780769470426269, 0.139585865746925, 0.4561176067078029, 0.10096458947786369, 0.979382111500265, 0.46949476284488234, 0.680031567171001, 0.5467008462823473, 0.05497208831092548, 0.4448339900956114, 0.44102891302049274, 0.3685515867489787, 0.6895374558664848, 0.35102814494578183, 0.26768336555789574, 0.330775235895749, 0.41423611778182956, 0.1482285929628886, 0.31324984520881083, 0.5068828340455704, 0.9153057943580991, 0.8751448259840444, 0.3933346656012907, 0.17036989705739702, 0.8572449145396289, 0.2641574489813745, 0.8997810844538439, 0.3455418821628501, 0.15390791532167225, 0.7656458340412612, 0.959831912249859, 0.4418411862619116, 0.15116136944299707, 0.36406731841423945, 0.1555955449241565, 0.4445459755801635, 0.40202219889947644, 0.3913370467738819, 0.0457186145419648, 0.6904792889501941, 0.07606382963678782, 0.3769091201536693], [0.3784277810311125, 0.6870673757832718, 0.7012878616522844, 0.8435590490726302, 0.8232730030768872, 0.7806410429783155, 0.6358284426425201, 0.58239723177842, 0.2623515267285329, 0.19852899406620694, 0.27475976531510515, 0.7983303838426354, 0.3944188968365864, 0.5114634241145155, 0.13195692923658386, 0.4276823214742833, 0.01192049323520139, 0.48241230085361875, 0.8535240791429527, 0.7369381472136635, 0.2561732896454758, 0.43202469312546976, 0.3934568822500889, 0.7386610568425852, 0.4686538604329694, 0.3044244038914834, 0.3414358429954232, 0.8795025048443591, 0.08254750646705855, 0.6264191037833534, 0.24053387701533835, 0.06695967349079979, 0.37717471272259406, 0.09356467398297952, 0.7069292555100916, 0.09441992125147469, 0.23957067291660528, 0.49659646931571877, 0.03354838799072268, 0.6148932020413211, 0.8362149129144066, 0.37864502116148313, 0.9237247175415833, 0.0481804430819317, 0.6314642611789557, 0.9419557069189635, 0.20536735894912672, 0.8882095478566323, 0.4938291586713529, 0.7816292069185599, 0.5819669367212377, 0.6881678719826818, 0.19422115181856092, 0.9482804846892842, 0.9461429831684404, 0.7017928053555582, 0.604989741252489, 0.944555239341562, 0.6379496493371897, 0.055567728640066094, 0.47162050301951197, 0.46642339221919693, 0.44120366182749415, 0.19658221715701352, 0.6493244610723736, 0.5389741614344595, 0.08238950574399684, 0.940271656003327, 0.7087638479265553, 0.3362975343186153, 0.2210417099470493, 0.9125312638935157, 0.4816079239577624, 0.007992949119263959, 0.9811564557890172, 0.26029017844869295, 0.9326542378542927, 0.9058558942132783, 0.4988989154300034, 0.5419670745503701, 0.24869332972950475, 0.8051102876013589, 0.42019169199092377, 0.2735098079332482, 0.143559289225776, 0.37945857097957303, 0.5453705114206622, 0.3560398646332299, 0.8822790550341632, 0.09198709104365754, 0.7881717468228416, 0.7078647805098891, 0.18980007131395227, 0.025512007856491548, 0.7644169161622343, 0.8466692312030216, 0.5513782874964775, 0.7459396426242435, 0.40272319279611446, 0.8607141655894816, 0.9284706020914278, 0.07529865054972229, 0.23904007190337195, 0.21626460947013804, 0.5912654136612935, 0.9251409448154015, 0.9636013077675744, 0.9711176762182512, 0.29931051166842426, 0.3694097603404639, 0.9432593785525857, 0.9888532644036531, 0.8512432250610079, 0.6134008742232658, 0.3075609377977596, 0.5486720372207028, 0.7046240774514575, 0.8663370159807349, 0.8378377435128265, 0.7925897251977972, 0.1448317709285507, 0.20717177430825662, 0.9628724139900887, 0.9488316213427604, 0.28930112026911325, 0.8237641351651238, 0.14266452040185906, 0.7256423622763752, 0.4413784973976881, 0.5970425529399224, 0.26063283159636386, 0.90252747438982, 0.046413458119040296, 0.9722019716344286, 0.191239621673719, 0.84999987848784, 0.059887815817568524, 0.06021265443887125, 0.3683542334862865, 0.9289442045388762, 0.36006631783657417, 0.14822575478801192, 0.19045890698515955, 0.8815108300258852, 0.1961064364252697, 0.16923700534700437, 0.999356990684048, 0.5748608443311949, 0.20067025509730918, 0.09359945969673789, 0.9483484721952026, 0.41756624828775, 0.13791278562938192, 0.36401803775094654, 0.9198890114192588, 0.5725108505394177, 0.9128943417681858, 0.7886931760964533, 0.592709153913214, 0.5230427023146293, 0.07747289701806626, 0.18409485589682406, 0.7689025203575577, 0.09245524869816824, 0.7069653486573781, 0.8568069213384657, 0.2523727776619701, 0.8547939287439257, 0.01211595973155244, 0.3093979681337896, 0.9178684111128903, 0.23100281792129107, 0.1305184306766497, 0.6846649031367427, 0.11194957875178535, 0.8977276345481232, 0.8256830340431142, 0.07274826833296222, 0.1364829460245971, 0.5951050902409428, 0.9749862784228129, 0.8086450608172904, 0.8476267572678616, 0.5869284838191962, 0.39801208334026983, 0.6824037701533548, 0.459625336677115, 0.6384037266181308, 0.35831762658882815, 0.19910866764808877, 0.06749842295670727, 0.6005837241904554, 0.8356966903768813, 0.8530806769164274, 0.259637465323748, 0.19381909648164297, 0.8474613076588603, 0.6569863366578201, 0.9823403512106323, 0.4411983763663845, 0.6710383840621109, 0.07082934626579873, 0.22306734628741165, 0.3277733745475553, 0.46131636380905794, 0.030873992756442203, 0.13148069282523, 0.006332284166656765, 0.35729944139588865, 0.0478002804462746, 0.08097686436293716, 0.8658507768047319, 0.5230772068954653, 0.11586417489831857, 0.5997300388958324, 0.7452708318959994, 0.21500408024329287, 0.39772700537947825, 0.6535814042854716, 0.14427533886085442, 0.017991468725395254, 0.2941752063118054, 0.2425650815064927, 0.7472047930656662, 0.7862638332351826, 0.8800273059409279, 0.516138574871421, 0.6139104455416111, 0.7260868547083943, 0.4200133426014262, 0.3389812680296407, 0.5209798145072504, 0.0818827451182047, 0.06317544559091359, 0.15992133832816435, 0.4996269246822349, 0.8689252429592281, 0.21415639112228402, 0.5554893226013571, 0.9458036554835615, 0.5545408294308002, 0.8812752219355042, 0.1450894298055957, 0.16914919320339628, 0.41854863444169144, 0.19948343882614616, 0.07898942196907999, 0.3083320194171014, 0.2973575351268336, 0.578259853694837, 0.6415200530498414, 0.012560699840307943, 0.43135406890429506, 0.4029190418841455, 0.21006476837213017, 0.9254909079267452, 0.4005384532136076, 0.37104048278077284, 0.37455566637788573, 0.7050069292834302, 0.36420426963136565, 0.5459217694747632, 0.18410003824133025, 0.02301725692984824, 0.5221354403120997, 0.17100239336353418, 0.30246433207534285, 0.3227026861943404, 0.5395588561637157, 0.18731627322149424, 0.3893408712097728, 0.29714011199819734, 0.20545653627602078, 0.3532377742070918, 0.09625382944057381, 0.8354773617412896, 0.9928337908573959, 0.9327290104768252, 0.699243002710283, 0.3412182983933456, 0.8694844728745831, 0.3758372456826736, 0.16090846771245726, 0.47841848294900624, 0.6584233320758451, 0.035758428483385285, 0.6554269806876315, 0.3473981994389522, 0.0744107013660491, 0.7223266657775865, 0.894453123746882, 0.1260902977695113, 0.17865496839091666, 0.6691765965687967, 0.9178460385179602, 0.3291287317346345, 0.0760565891281394, 0.15541333378353772, 0.912658583041675, 0.16100369380938262, 0.35036045989015707, 0.319335209561851, 0.6728696792530489, 0.23851423525070625, 0.9328506617944985, 0.6938570031917247, 0.4348866918919406, 0.8085234054626756, 0.42203478600653743, 0.5467823519896522, 0.10060403013531094, 0.05317570201266886, 0.7187070681376959, 0.9736017267404101, 0.6898447223603499, 0.34481996307226825, 0.16504411304883226, 0.40660474458704376, 0.6737987253987607, 0.5435316083734212, 0.4222891530841326, 0.31466489175445733, 0.21440537840263008, 0.5592088763938504, 0.16941442892849856, 0.4116052698420011, 0.6291314082533073, 0.05247602134149709, 0.4508277908502364, 0.46541182956089966, 0.8597331885486946, 0.2763238088353396, 0.9988959129187309, 0.36487113959699013, 0.9998695455948697, 0.2990028528186498, 0.86220721134713, 0.6100029302345927, 0.09683131627206354, 0.8960593573194668, 0.22320081090833077, 0.30408968763364375, 0.2967407878562174, 0.059412265487167604, 0.1446739445811943, 0.16884784600539016, 0.44385520426946534, 0.18676937369507352, 0.0323190617955319, 0.33081257607640535, 0.1615668342884845, 0.23171661620570505, 0.7541541488759477, 0.7426959587974807, 0.7159121717126109, 0.7635674960863176, 0.07256946791709062, 0.8906204863441164, 0.579669289065711, 0.3803802894409867, 0.23069937795785167, 0.13918752781490007, 0.6282113669603191, 0.10496901972364292, 0.6929378188830105, 0.5786836801664612, 0.3319532133316352, 0.1805726635747128, 0.09369135128012451, 0.9860506808004225, 0.3802504030225289, 0.27605537879071906, 0.9020611163576009, 2.8340843186702713e-06, 0.29169424085129314, 0.5362443215711397, 0.6808406744229905, 0.9911276368955906, 0.41014163124460445, 0.4525103055671089, 0.040784575145693, 0.3839276467431957, 0.7668273767489721, 0.9033377489809482, 0.11043585769233777, 0.5975402866570492, 0.9747170060391829, 0.2414228802371292, 0.3154301155136434, 0.505968368601761, 0.47963537789100075, 0.006802322981643516, 0.034716782109503574, 0.40368281875622625, 0.8120404011742969, 0.5810659066615347, 0.18563441276598214, 0.4286104462774004, 0.47712521353212245, 0.16754773877110518, 0.9665400522523792, 0.8997435828576703, 0.5852014134842476, 0.6293546579391575, 0.24188552666194185, 0.6198155319594446, 0.941583733900393, 0.9073199592055472, 0.34235824216155575, 0.912045897356738, 0.4783601554327179, 0.9737879080307101, 0.20298480121730644, 0.7202902413195373, 0.3414571270365847, 0.22277040022823824, 0.6655509599901195, 0.33602108758329363, 0.20788520281651535, 0.8602034248163227, 0.403928455365802, 0.9647248970529424, 0.6304762379083715, 0.7798427373320033, 0.8492522082553461, 0.12462929517107457, 0.4980901872391287, 0.7928698492971702, 0.9582798825851178, 0.4680141674544779, 0.772634389266971, 0.05995210190797462, 0.02730641131720979, 0.8336559105982828, 0.3562564575954912, 0.8342326869409815, 0.6824520544494151, 0.8079133831850148, 0.45829681570464265, 0.3193030352084314, 0.11712281554157211, 0.1744916059276268, 0.4619125546312183, 0.19788087995491, 0.5949164857636675, 0.8413586630476626, 0.14074622070044251, 0.6674528608705761, 0.42153955531407006, 0.6756810674599473, 0.23142076878088802, 0.7111140160222528, 0.17183564034548204, 0.5059787715230636, 0.16455210863864633, 0.18524106036133536, 0.40986342745399795, 0.29326156666686476, 0.0010126430223214022, 0.24214943459817861, 0.7544071782828549, 0.759377179743825, 0.9155478766077434, 0.19512460625215555, 0.8981013023180594, 0.5878463706259998, 0.2479127747723875, 0.43298993190949975, 0.2613610225182469, 0.6871365035399576, 0.03109147917173638, 0.38282840032719667, 0.0107400080143083, 0.31187647587839884, 0.07446192282833097, 0.08604736593683937, 0.2984655521079813, 0.5615042667336042, 0.22427387092421436, 0.17312141725897578, 0.31445866446623383, 0.241188878139868, 0.1457350909067333, 0.1325015297672506, 0.9728180184019207, 0.12144110747391812, 0.8815973453668435, 0.5439917747326181, 0.60825634874917, 0.8598456868429217, 0.37883519422366096, 0.018628978451817102, 0.2180265695614445, 0.3359712311166396, 0.1319462102663148, 0.3130065700525616, 0.8897159731292464, 0.9354350727647877, 0.5444817079267272, 0.29290682899228737], [0.5046956858197147, 0.6565948194015607, 0.42399934787193094, 0.9596963324499949, 0.48077529348878223, 0.3626977760675931, 0.05192906359382943, 0.2543800074946312, 0.9739154863895418, 0.43787475554259636, 0.3585044716021142, 0.4464922917372791, 0.4167450892214538, 0.07847256189424912, 0.9127498744656757, 0.7103793588412974, 0.010150663291112139, 0.439383634878765, 0.6238434536351972, 0.2709240625026579, 0.042457766002650166, 0.37697118698897314, 0.503548934161822, 0.44033247362571315, 0.10939171504525669, 0.46280255535852877, 0.2721492628066682, 0.8683399454852572, 0.2715927179830363, 0.4169097829633498, 0.219425163808726, 0.5899544227150237, 0.4617958334166392, 0.4258942524279987, 0.2021181436751609, 0.16242671089031824, 0.6707328290076142, 0.21558700436726552, 0.7924361811599779, 0.5574431522925931, 0.5882652466997832, 0.6633381414205056, 0.1470807039282832, 0.9945730888577409, 0.6641669450199327, 0.6029608010103829, 0.6331280884460294, 0.1542763984788027, 0.4005334515759499, 0.7109745450852386, 0.6005933669400897, 0.00604273966513269, 0.838465414132836, 0.5637434185269858, 0.23616220928868448, 0.2992417692250502, 0.6700770485751062, 0.35222983919155304, 0.713025229439178, 0.8940183426153986, 0.7485554705887365, 0.16455214957010356, 0.03046336912419212, 0.5798296783809523, 0.5687821181947378, 0.5937009414868996, 0.9706377055899083, 0.32129898283303604, 0.435982542645466, 0.09332982229297804, 0.11762197470868063, 0.6061887778009049, 0.2838982854197579, 0.817044537656343, 0.08580474055972676, 0.9648438223614693, 0.5552433698095843, 0.538206196684778, 0.864376480814992, 0.9156620017753541, 0.9759511146274852, 0.050310619435547266, 0.12668073062687324, 0.5616847210202214, 0.06048077532574703, 0.2496859766508387, 0.8561486352865406, 0.9759072182408486, 0.5213242924679135, 0.583079033470596, 0.3937073112264009, 0.7679618537646521, 0.9235606525428844, 0.2924484102270474, 0.10456298625258675, 0.7519876838615902, 0.8144737959022997, 0.947085615776133, 0.4252906064408003, 0.590900905261967, 0.12206448095735623, 0.3714659339102204, 0.2702707061973295, 0.43810789371947867, 0.664624860719401, 0.9185571556770706, 0.11899843213348393, 0.2939324950187706, 0.35792371113858, 0.9922227774770044, 0.879235122738259, 0.9217726423684433, 0.2784086240031205, 0.03223645308422385, 0.25166793868035653, 0.2400685906781601, 0.24166996023922915, 0.8358276957294913, 0.19771217374873973, 0.8992462986480365, 0.3350822311441519, 0.6418921676525603, 0.07601172152132896, 0.4556747844823167, 0.12087184684232244, 0.9372893369738802, 0.5915423218093626, 0.4280742008343458, 0.1694756067502785, 0.5411558164905905, 0.5932881440119527, 0.3880269043512735, 0.9828519902138787, 0.49329046780209307, 0.6823259036466671, 0.11712067375159452, 0.27299065114372434, 0.2950903736106607, 0.03487925189054286, 0.17756102376586724, 0.38854303451860306, 0.372774001241458, 0.9009257177492138, 0.6373954339879357, 0.8704731892845402, 0.633772642554214, 0.7654565763931389, 0.24195120624577215, 0.70339076673487, 0.9246157194252431, 0.7053419080034579, 0.48756946488440867, 0.050733598845110306, 0.3725540595504493, 0.5397743609622179, 0.615320776855626, 0.9230655914755013, 0.46300465213262887, 0.9924469018906069, 0.35946828557435184, 0.18403210598059494, 0.18284052163398967, 0.8130184298067745, 0.36687726252219477, 0.542221996109207, 0.6482036943791443, 0.7533639173523152, 0.240502672670724, 0.16198039342327109, 0.30249051155841467, 0.9666936382526536, 0.14925099574799927, 0.7360289173667346, 0.4335853995425941, 0.1673869171982344, 0.15882965732138943, 0.2204849373313208, 0.24608428417842143, 0.38004595900392846, 0.6098643882697432, 0.2748172526352184, 0.4656774174751911, 0.7385529429894061, 0.9701168660797048, 0.28267907195721975, 0.2196299203953752, 0.08313056272651942, 0.507084391048108, 0.20160875122265254, 0.411010713838624, 0.020005695165353776, 0.8992104515735951, 0.4803446194750506, 0.9790281464220507, 0.995617697668825, 0.24028740544198623, 0.1327433857632796, 0.44134022506699566, 0.8986844260562868, 0.041325469034075635, 0.5930050479398324, 0.2625609158049038, 0.3059357386630923, 0.6345327789918147, 0.08416112624226646, 0.3134283476223195, 0.6835841864882275, 0.039954644726393984, 0.43798847493309756, 0.019771560996220572, 0.9085046815722547, 0.7788068765515511, 0.29831740309894184, 0.28986795661920706, 0.0790954439246715, 0.643069040992449, 0.40632598959686705, 0.21339940290424442, 0.2611190563831177, 0.6453471340561813, 0.7435077473571434, 0.062352487888294394, 0.5437565937484933, 0.9325830134762327, 0.5065229892388932, 0.3001141760618832, 0.0470808964159144, 0.6301198508693531, 0.6753128379324866, 0.5265349599289185, 0.3877360519912493, 0.21479587237054054, 0.3547825840481632, 0.7347956691483916, 0.4149870080555884, 0.5443651487661423, 0.4466409325556808, 0.6605878830398332, 0.7010131849944126, 0.6170910631683405, 0.8656323012989785, 0.3239717239187916, 0.5061973549308936, 0.5221412294529405, 0.31705228508224415, 0.5218331599975117, 0.665963548524604, 0.7400827995459222, 0.7277180697286665, 0.8623628093207921, 0.8910245459903186, 0.9060734716292032, 0.36567916913553433, 0.05090370213498718, 0.8888582041017223, 0.2790042381706631, 0.5283074225812971, 0.6876928954509262, 0.06812300682134265, 0.4581320120017388, 0.47825310866108306, 0.8059990839259396, 0.5401192832961225, 0.36127032627901334, 0.425880552265106, 0.3238311699457266, 0.6161559434187599, 0.9819819820433194, 0.3046489571681772, 0.9220828958171446, 0.1313988331118181, 0.016443607362477075, 0.9087192688347302, 0.2939795755135214, 0.19581561443472562, 0.8698235418542284, 0.2507274239402001, 0.16906626295149796, 0.2021084961159446, 0.7543988916159523, 0.9024481049965214, 0.5412810721225426, 0.8958291957943734, 0.17828139243682628, 0.636078775477012, 0.8514140309782492, 0.9188963696518624, 0.9795420538563571, 0.7552196151532785, 0.726879644924293, 0.7470977161055544, 0.9988301189233493, 0.20421013390853282, 0.8412080016114063, 0.8381416806838007, 0.04958146043104694, 0.9128480125788391, 0.15174729062398618, 0.38068580027606713, 0.6826901265129456, 0.17921915824190815, 0.653501204687727, 0.8181629026611773, 0.7266822497022183, 0.9188998545101447, 0.7062749229047895, 0.3160193837246619, 0.7737590677391709, 0.8389771743703069, 0.11702854709031518, 0.19943834553512496, 0.6772568680886439, 0.50390441770693, 0.713159392482809, 0.935606151664181, 0.2433772410219076, 0.09719305261449762, 0.4432147028412319, 0.5502175533672, 0.4851509642092878, 0.2116680583170235, 0.0714298046132128, 0.7302700334318433, 0.8602517127641217, 0.6274450969953284, 0.3036192124949374, 0.9805041840867994, 0.5654666410478313, 0.7322014035621501, 0.8796372093746949, 0.7957678386191872, 0.30614586271626554, 0.19225144414794326, 0.30304503425245, 0.03136430863681028, 0.40093496741329937, 0.03654187999651404, 0.40950389549212873, 0.4635801723755312, 0.631680994520772, 0.5177634720961399, 0.4116476971367923, 0.9313473765222385, 0.046734189499733736, 0.46609205279656674, 0.4501586975953823, 0.8874117182252819, 0.9454455930689312, 0.7709433532607196, 0.2075082919218194, 0.7134556449062521, 0.5239283316373488, 0.4939485941418542, 0.7563088382049611, 0.05290579968844056, 0.9322541717566561, 0.25160102881211655, 0.802722739376553, 0.7726903408605772, 0.9008889182398101, 0.4199197371679292, 0.062196775208373634, 0.6938477454327616, 0.5978317888738953, 0.461863909980734, 0.3188602024412003, 0.5188985724347628, 0.334288881132904, 0.011357740320897314, 0.9416153899622262, 0.582632218844415, 0.5212158396663604, 0.9090872287490378, 0.10998241564754185, 0.3109154397006897, 0.5987902936070466, 0.507131101207627, 0.5838117381852578, 0.9357772229558178, 0.9628808222266101, 0.8646843392284739, 0.9163590789284698, 0.6191187850271748, 0.8004937279054218, 0.4150692552064239, 0.6460147581791221, 0.4573253918191861, 0.9399217202663647, 0.9416725958829668, 0.9131044383956718, 0.7994177899689284, 0.7265278735194134, 0.5579172484782301, 0.006940901756694928, 0.5030444405502609, 0.3507571203311307, 0.6907451062716344, 0.8315744918209378, 0.785586642595932, 0.27697839607127195, 0.9565081547545897, 0.5288647126641317, 0.4780416144070443, 0.8964512271625625, 0.3096599906737135, 0.9697378311821205, 0.8105676002724522, 0.6037848540187578, 0.7718146629379697, 0.49323883825497794, 0.3584791790515963, 0.889850629500419, 0.19746650953979317, 0.6200104223995726, 0.2689664710061558, 0.6483626413272437, 0.49974087509026255, 0.9472887620288761, 0.844837094778531, 0.3940743390857362, 0.9980343098088253, 0.6854533577330646, 0.3795655446384749, 0.5702658970570034, 0.03687622496091669, 0.3245336239247566, 0.2682546558501787, 0.060379259648117856, 0.7797434003087806, 0.10212929074441268, 0.2915170112015363, 0.9179937475259179, 0.08028233436440935, 0.9810017289017501, 0.28725389401886847, 0.2427504601855437, 0.5110598470088016, 0.724294028554124, 0.7482595420374817, 0.2555019847843947, 0.09215057335287569, 0.94052536671951, 0.21162223807763936, 0.5991517565071616, 0.9333987690843847, 0.841108135246129, 0.1935672923933376, 0.2793735578786538, 0.28144735525555886, 0.026080305411437466, 0.9982405377963331, 0.11650075593626497, 0.8697776056734984, 0.07550032673101437, 0.906775373619508, 0.8659670870552411, 0.12883968184736216, 0.8565191046462284, 0.7688265775554409, 0.15835839799626195, 0.863924448893414, 0.7186340241278546, 0.8240506699703848, 0.27976333981137524, 0.5112870897373388, 0.42213060402992886, 0.898648175195532, 0.17885430120580192, 0.05777255708544726, 0.4354363450502513, 0.7027405546410807, 0.7640146556463152, 0.2288685260537643, 0.5043604624950065, 0.5215462429170217, 0.41587720727945654, 0.5723890810807604, 0.13820307631557383, 0.0765473581085454, 0.5967543819643837, 0.6208807140554977, 0.7287586886278703, 0.5349278607670198, 0.9716888348664422, 0.4877092138810829, 0.8816762778119224, 0.7364132675172433, 0.6131378322981972, 0.5742595077845294, 0.5669952750343238, 0.25281987010833373, 0.09260296892736852, 0.6063055595447842, 0.23297310465690269, 0.25893265526344933, 0.8381393408800955, 0.1902163459471996, 0.07927771158487007, 0.9323798586506076, 0.6137651158593588], [0.3896806062312035, 0.6016773450890376, 0.23841087993121146, 0.19884065225342118, 0.9752838005560872, 0.4699227043408063, 0.9465154263304705, 0.5534793215065338, 0.7909253329772893, 0.1361588950947712, 0.8183301351464763, 0.07478510759432433, 0.3507015490078286, 0.9799639868697241, 0.5303164189087877, 0.4282326925533654, 0.6052104948254796, 0.857505785487013, 0.3013470637708028, 0.04509664456176432, 0.38940009942745524, 0.9330982238795964, 0.3325498915540256, 0.03273466407182202, 0.3722479666153362, 0.7657818930965458, 0.3424403833853863, 0.8387779070410587, 0.7308760703974471, 0.969869415758757, 0.19732400280408158, 0.1454898254867537, 0.7926549063051064, 0.38204061114565746, 0.8786920649602199, 0.2999164393491691, 0.6465378023346116, 0.9988702490679888, 0.28448211207930996, 0.4762815715251052, 0.7426600306014506, 0.3018458569486062, 0.2380219193508647, 0.32380701602653306, 0.17155620639223135, 0.6703124734035301, 0.5186545154968556, 0.3445325911825592, 0.44388035634002, 0.4024415371143064, 0.10899555900415692, 0.4625373048742518, 0.07807785473176565, 0.7565688181279969, 0.1665397466803894, 0.8120953537177051, 0.42079903284323317, 0.5303817477683147, 0.864359421439866, 0.839922684411149, 0.662383053785956, 0.08061001091717013, 0.7147986809371482, 0.30313576684584054, 0.659277587169612, 0.3591434957250961, 0.6447616958075361, 0.7114358328785163, 0.8416043148295363, 0.07679076931608086, 0.7915837925440244, 0.2850298062968837, 0.7824191632020102, 0.14198963927011843, 0.22140049329370537, 0.579515460168472, 0.16181371320046545, 0.5883757899166635, 0.02604308918125109, 0.26090301922017345, 0.5805974960800105, 0.7232294975840604, 0.24373226166613238, 0.9617387800662803, 0.551570123295435, 0.983748734732975, 0.4132726481359237, 0.6229251479477771, 0.5376465556191714, 0.9789285551685029, 0.1834064781476592, 0.6439832361233351, 0.6363983761321924, 0.6464798356756146, 0.6574417578184225, 0.2065257228736168, 0.42153616539284555, 0.21317008492642986, 0.06760195797686785, 0.8622181286928522, 0.6295227335264666, 0.5774924559003078, 0.5933140138321926, 0.28568082037252174, 0.8705670599350567, 0.7441604389927808, 0.3430458530263313, 0.21092218083001357, 0.0399825978947741, 0.707285804887193, 0.5861501401596703, 0.05740346710264077, 0.3806226108983013, 0.2832601312876608, 0.9125761875011493, 0.9816052623686817, 0.7637461146602388, 0.605883037604723, 0.29741475595548106, 0.44170441615244727, 0.07561141681344008, 0.8524962389676651, 0.24875564713214637, 0.5141128099152502, 0.787231688125072, 0.10250695898716633, 0.13392099728906282, 0.10563817120608365, 0.9865468909726857, 0.8708434229148565, 0.45921016824620275, 0.6144922514531, 0.17981937467803732, 0.14327446901148555, 0.33033133686704963, 0.40067970801217434, 0.9856745153578925, 0.7709257866880632, 0.9882147582292691, 0.27984622324928676, 0.37723229185883855, 0.3170486176103291, 0.4605156874248826, 0.3097430522138941, 0.30077466802128927, 0.8567468224797504, 0.708334020253077, 0.9428669649216245, 0.525939071917806, 0.3853712605748676, 0.5905948498586845, 0.2190460526968001, 0.021021610653421785, 0.5790599116523437, 0.12229254387471544, 0.711203920487389, 0.016353822334763235, 0.7811099728152785, 0.8007423501133419, 0.6369470939127811, 0.39077208561409604, 0.16845258251840223, 0.9597773566002687, 0.42198916594623714, 0.750976573414352, 0.7146284264665734, 0.8998586992510224, 0.9099272744688008, 0.08214180659973547, 0.7747582440246313, 0.6900825059892425, 0.2009293583340248, 0.3439190090523627, 0.3342791478516898, 0.03880035987606811, 0.9332287443945493, 0.02159214978775348, 0.10670679710192388, 0.23432213234149812, 0.5652072237156482, 0.2619722483168304, 0.8795358537302509, 0.39304658140529214, 0.5350364052901893, 0.35649710330359086, 0.5965194666441007, 0.03752119934616038, 0.6372213199083901, 0.46921844997267304, 0.9651706453463114, 0.2620069012677919, 0.9488927898420016, 0.13288575126959346, 0.4714780363390383, 0.760923292490754, 0.09262856946685116, 0.5999394936255587, 0.09957612523398851, 0.6659685279418494, 0.763342204115497, 0.08417801988653517, 0.10464280851086927, 0.04226516774052358, 0.45194022824688285, 0.5513342440222344, 0.08636258312093781, 0.9908900000853476, 0.7142172479643235, 0.930318362296198, 0.5762254688397944, 0.09730349508965774, 0.38561163501478013, 0.6216232366920146, 0.6208462988997753, 0.7603052248500987, 0.5720998590508991, 0.9210900769368625, 0.20126717384125425, 0.30953681747317385, 0.09049096867817807, 0.33082178583527555, 0.2668020277372688, 0.3257807484693749, 0.3760815453848241, 0.2594751307151123, 0.160977759352688, 0.8875191353799454, 0.27834661542022776, 0.8593056559414292, 0.22238726092060257, 0.20943356204005037, 0.3893062929367941, 0.7053746653165798, 0.7645526590803833, 0.6341889292739372, 0.5466000794539244, 0.8487203529974586, 0.283534695561526, 0.5099062680234155, 0.11932531017738868, 0.014459678388518027, 0.984262846494994, 0.9495251721579274, 0.01016857771646229, 0.7637886461311553, 0.31549263071718436, 0.04380051650001804, 0.095582531857208, 0.7999780103031303, 0.7332229823529837, 0.9009246898105194, 0.02216954550271233, 0.7662310453841386, 0.20865269104050432, 0.34812597329902417, 0.7203334121625756, 0.2605260768770358, 0.011986399905286604, 0.36257575967406697, 0.013680990139583904, 0.07960805176329311, 0.11090162622631672, 0.9037649780716043, 0.6899428644527856, 0.7378918324297835, 0.7852497382535442, 0.9471285325999373, 0.25991845449490303, 0.36848581923532153, 0.4080870272453343, 0.8063808504757065, 0.039851563123171396, 0.028031226090266093, 0.2308224260507853, 0.5392760502322848, 0.5676618976008633, 0.6300420856202285, 0.9179177915944826, 0.05354299963068565, 0.429976873353071, 0.7756428680050454, 0.2979254565338362, 0.8422704665958245, 0.0026749034720306986, 0.8944178577239852, 0.6231184791134408, 0.8847364169581825, 0.5613152540926853, 0.20526539081887252, 0.5879671800042331, 0.14843590615152713, 0.11416750655278729, 0.6313831090058694, 0.1145950315565023, 0.24462054522762433, 0.8518445202636524, 0.22435370915753905, 0.4236845131290149, 0.30812169423905866, 0.3886760419115106, 0.7697046897159255, 0.7216594573164137, 0.4223945756846318, 0.49737268758905284, 0.7600165080617742, 0.8879759877261333, 0.8434014130100358, 0.0659249994189467, 0.17381280706535007, 0.7181548093561825, 0.9375500893156357, 0.7365917618883695, 0.8446664847882317, 0.8199868505682683, 0.6864922315760374, 0.9917764468700435, 0.2555780226420926, 0.6743086319477759, 0.08774563023613735, 0.8353987462606051, 0.8227028681892173, 0.6374756038428738, 0.13544512999993374, 0.5099570726051287, 0.9927244930063389, 0.8264788565824632, 0.446058395909394, 0.9704400399047659, 0.8996604843667277, 0.3980833837568942, 0.24213642493154608, 0.2929469462613734, 0.10069492901389743, 0.7924267436481935, 0.84569708623525, 0.19934328624321118, 0.15597624386888653, 0.4813485332743246, 0.856072184022137, 0.833264676807547, 0.07797679616225672, 0.4472243189098136, 0.7400084434767547, 0.09425216984826268, 0.5683851421159491, 0.3082162360400107, 0.12068926974507077, 0.09358800776767928, 0.3606476474569428, 0.5182429743125723, 0.6435602541450182, 0.5770878239987918, 0.1299737997796444, 0.9651236004877621, 0.4821253018303838, 0.42865507745065967, 0.6480936062053289, 0.8303289202090273, 0.5223607376149173, 0.5494571303859979, 0.5231492032377749, 0.9517694742967593, 0.9746536062934442, 0.3329248883574796, 0.2789147972693682, 0.023807160926428206, 0.9713320564334892, 0.5762263071259484, 0.0097795905184751, 0.31790863829569327, 0.4664063564086458, 0.15113789428860935, 0.8645602883048868, 0.8482487072973729, 0.35463356131818735, 0.666138637707029, 0.21540421430774348, 0.46940347112040015, 0.22554135182665513, 0.7049057043134114, 0.005138749043079649, 0.09767219164944907, 0.8823843280722807, 0.29723037267848995, 0.6020108340266698, 0.039781048737196456, 0.1287829807488592, 0.35303288808519484, 0.7302179330046081, 0.30343316837963874, 0.12434861730566105, 0.3868058318822073, 0.597469606776768, 0.8635931503061985, 0.02791975844916006, 0.5801143928343382, 0.18855448636847516, 0.9976188941698232, 0.12684910259399174, 0.7345521540649473, 0.2317137271293256, 0.3686057108898184, 0.14423171027175719, 0.6148558897879186, 0.6034114386426914, 0.4819347137928178, 0.2630814129490425, 0.28682228212855254, 0.9073983961924574, 0.6246957174751354, 0.7081467017119403, 0.35518145542379786, 0.12006951797043797, 0.2246558779587251, 0.5708371532806684, 0.544837102961322, 0.9595006771945793, 0.8867497919202411, 0.42166903309856396, 0.6679411810798062, 0.16317283999734722, 0.8419620019744684, 0.197535521873749, 0.4642433608940688, 0.42041804348968415, 0.08242982930270715, 0.8593247770345115, 0.08690057345798907, 0.054071273281276366, 0.38397260172750114, 0.07685212503336802, 0.49985246754673285, 0.262934319724348, 0.8707054003075224, 0.6368742242225612, 0.4016405056387372, 0.752525195653539, 0.16931602356590747, 0.10945923928544787, 0.35260132456465876, 0.5134844924849865, 0.2961023167860115, 0.10930148852527755, 0.10927026630140613, 0.10545246375772777, 0.8503284674020851, 0.48091639706018874, 0.43361674450205245, 0.25571205110677864, 0.6772262180034926, 0.6018640616435598, 0.5635170534637641, 0.3161588822224891, 0.9062447383408684, 0.02372240445199858, 0.847908176491208, 0.6585591279050172, 0.9528734953324348, 0.10625107112339116, 0.6063545527094294, 0.6976380548909048, 0.34265485878182467, 0.8209407088945054, 0.7842747432415021, 0.029838360600783043, 0.015539436532853501, 0.031065911744894592, 0.11594952305191819, 0.8765489695735866, 0.2814924700372986, 0.8486917999956317, 0.8009981808987003, 0.8923354613085195, 0.3313009972599721, 0.080285738491776, 0.052766620606434, 0.5401380949708396, 0.5395243287444476, 0.6122596525113646, 0.09734916054242826, 0.1921865149228168, 0.1799915526983079, 0.8836109253635016, 0.9021622692193307, 0.3463091544906075, 0.5718415944762423, 0.6636214819052618, 0.04124722642659684, 0.5597372084916926, 0.9504290122685339, 0.5235073846317623, 0.32394279626856715, 0.4757368830563894, 0.46904434672469475, 0.17740900445772534, 0.13478250981347484, 0.35404577268248294, 0.7471265918811937, 0.13605616685128885, 0.5158036112072863]]}],                        {\"legend\": {\"bgcolor\": \"#F2F3F7\", \"font\": {\"color\": \"#505050\"}}, \"paper_bgcolor\": \"#F2F3F7\", \"plot_bgcolor\": \"#F2F3F7\", \"template\": {\"data\": {\"bar\": [{\"error_x\": {\"color\": \"#2a3f5f\"}, \"error_y\": {\"color\": \"#2a3f5f\"}, \"marker\": {\"line\": {\"color\": \"#E5ECF6\", \"width\": 0.5}}, \"type\": \"bar\"}], \"barpolar\": [{\"marker\": {\"line\": {\"color\": \"#E5ECF6\", \"width\": 0.5}}, \"type\": \"barpolar\"}], \"carpet\": [{\"aaxis\": {\"endlinecolor\": \"#2a3f5f\", \"gridcolor\": \"white\", \"linecolor\": \"white\", \"minorgridcolor\": \"white\", \"startlinecolor\": \"#2a3f5f\"}, \"baxis\": {\"endlinecolor\": \"#2a3f5f\", \"gridcolor\": \"white\", \"linecolor\": \"white\", \"minorgridcolor\": \"white\", \"startlinecolor\": \"#2a3f5f\"}, \"type\": \"carpet\"}], \"choropleth\": [{\"colorbar\": {\"outlinewidth\": 0, \"ticks\": \"\"}, \"type\": \"choropleth\"}], \"contour\": [{\"colorbar\": {\"outlinewidth\": 0, \"ticks\": \"\"}, \"colorscale\": [[0.0, \"#0d0887\"], [0.1111111111111111, \"#46039f\"], [0.2222222222222222, \"#7201a8\"], [0.3333333333333333, \"#9c179e\"], [0.4444444444444444, \"#bd3786\"], [0.5555555555555556, \"#d8576b\"], [0.6666666666666666, \"#ed7953\"], [0.7777777777777778, \"#fb9f3a\"], [0.8888888888888888, \"#fdca26\"], [1.0, \"#f0f921\"]], \"type\": \"contour\"}], \"contourcarpet\": [{\"colorbar\": {\"outlinewidth\": 0, \"ticks\": \"\"}, \"type\": \"contourcarpet\"}], \"heatmap\": [{\"colorbar\": {\"outlinewidth\": 0, \"ticks\": \"\"}, \"colorscale\": [[0.0, \"#0d0887\"], [0.1111111111111111, \"#46039f\"], [0.2222222222222222, \"#7201a8\"], [0.3333333333333333, \"#9c179e\"], [0.4444444444444444, \"#bd3786\"], [0.5555555555555556, \"#d8576b\"], [0.6666666666666666, \"#ed7953\"], [0.7777777777777778, \"#fb9f3a\"], [0.8888888888888888, \"#fdca26\"], [1.0, \"#f0f921\"]], \"type\": \"heatmap\"}], \"heatmapgl\": [{\"colorbar\": {\"outlinewidth\": 0, \"ticks\": \"\"}, \"colorscale\": [[0.0, \"#0d0887\"], [0.1111111111111111, \"#46039f\"], [0.2222222222222222, \"#7201a8\"], [0.3333333333333333, \"#9c179e\"], [0.4444444444444444, \"#bd3786\"], [0.5555555555555556, \"#d8576b\"], [0.6666666666666666, \"#ed7953\"], [0.7777777777777778, \"#fb9f3a\"], [0.8888888888888888, \"#fdca26\"], [1.0, \"#f0f921\"]], \"type\": \"heatmapgl\"}], \"histogram\": [{\"marker\": {\"colorbar\": {\"outlinewidth\": 0, \"ticks\": \"\"}}, \"type\": \"histogram\"}], \"histogram2d\": [{\"colorbar\": {\"outlinewidth\": 0, \"ticks\": \"\"}, \"colorscale\": [[0.0, \"#0d0887\"], [0.1111111111111111, \"#46039f\"], [0.2222222222222222, \"#7201a8\"], [0.3333333333333333, \"#9c179e\"], [0.4444444444444444, \"#bd3786\"], [0.5555555555555556, \"#d8576b\"], [0.6666666666666666, \"#ed7953\"], [0.7777777777777778, \"#fb9f3a\"], [0.8888888888888888, \"#fdca26\"], [1.0, \"#f0f921\"]], \"type\": \"histogram2d\"}], \"histogram2dcontour\": [{\"colorbar\": {\"outlinewidth\": 0, \"ticks\": \"\"}, \"colorscale\": [[0.0, \"#0d0887\"], [0.1111111111111111, \"#46039f\"], [0.2222222222222222, \"#7201a8\"], [0.3333333333333333, \"#9c179e\"], [0.4444444444444444, \"#bd3786\"], [0.5555555555555556, \"#d8576b\"], [0.6666666666666666, \"#ed7953\"], [0.7777777777777778, \"#fb9f3a\"], [0.8888888888888888, \"#fdca26\"], [1.0, \"#f0f921\"]], \"type\": \"histogram2dcontour\"}], \"mesh3d\": [{\"colorbar\": {\"outlinewidth\": 0, \"ticks\": \"\"}, \"type\": \"mesh3d\"}], \"parcoords\": [{\"line\": {\"colorbar\": {\"outlinewidth\": 0, \"ticks\": \"\"}}, \"type\": \"parcoords\"}], \"pie\": [{\"automargin\": true, \"type\": \"pie\"}], \"scatter\": [{\"marker\": {\"colorbar\": {\"outlinewidth\": 0, \"ticks\": \"\"}}, \"type\": \"scatter\"}], \"scatter3d\": [{\"line\": {\"colorbar\": {\"outlinewidth\": 0, \"ticks\": \"\"}}, \"marker\": {\"colorbar\": {\"outlinewidth\": 0, \"ticks\": \"\"}}, \"type\": \"scatter3d\"}], \"scattercarpet\": [{\"marker\": {\"colorbar\": {\"outlinewidth\": 0, \"ticks\": \"\"}}, \"type\": \"scattercarpet\"}], \"scattergeo\": [{\"marker\": {\"colorbar\": {\"outlinewidth\": 0, \"ticks\": \"\"}}, \"type\": \"scattergeo\"}], \"scattergl\": [{\"marker\": {\"colorbar\": {\"outlinewidth\": 0, \"ticks\": \"\"}}, \"type\": \"scattergl\"}], \"scattermapbox\": [{\"marker\": {\"colorbar\": {\"outlinewidth\": 0, \"ticks\": \"\"}}, \"type\": \"scattermapbox\"}], \"scatterpolar\": [{\"marker\": {\"colorbar\": {\"outlinewidth\": 0, \"ticks\": \"\"}}, \"type\": \"scatterpolar\"}], \"scatterpolargl\": [{\"marker\": {\"colorbar\": {\"outlinewidth\": 0, \"ticks\": \"\"}}, \"type\": \"scatterpolargl\"}], \"scatterternary\": [{\"marker\": {\"colorbar\": {\"outlinewidth\": 0, \"ticks\": \"\"}}, \"type\": \"scatterternary\"}], \"surface\": [{\"colorbar\": {\"outlinewidth\": 0, \"ticks\": \"\"}, \"colorscale\": [[0.0, \"#0d0887\"], [0.1111111111111111, \"#46039f\"], [0.2222222222222222, \"#7201a8\"], [0.3333333333333333, \"#9c179e\"], [0.4444444444444444, \"#bd3786\"], [0.5555555555555556, \"#d8576b\"], [0.6666666666666666, \"#ed7953\"], [0.7777777777777778, \"#fb9f3a\"], [0.8888888888888888, \"#fdca26\"], [1.0, \"#f0f921\"]], \"type\": \"surface\"}], \"table\": [{\"cells\": {\"fill\": {\"color\": \"#EBF0F8\"}, \"line\": {\"color\": \"white\"}}, \"header\": {\"fill\": {\"color\": \"#C8D4E3\"}, \"line\": {\"color\": \"white\"}}, \"type\": \"table\"}]}, \"layout\": {\"annotationdefaults\": {\"arrowcolor\": \"#2a3f5f\", \"arrowhead\": 0, \"arrowwidth\": 1}, \"coloraxis\": {\"colorbar\": {\"outlinewidth\": 0, \"ticks\": \"\"}}, \"colorscale\": {\"diverging\": [[0, \"#8e0152\"], [0.1, \"#c51b7d\"], [0.2, \"#de77ae\"], [0.3, \"#f1b6da\"], [0.4, \"#fde0ef\"], [0.5, \"#f7f7f7\"], [0.6, \"#e6f5d0\"], [0.7, \"#b8e186\"], [0.8, \"#7fbc41\"], [0.9, \"#4d9221\"], [1, \"#276419\"]], \"sequential\": [[0.0, \"#0d0887\"], [0.1111111111111111, \"#46039f\"], [0.2222222222222222, \"#7201a8\"], [0.3333333333333333, \"#9c179e\"], [0.4444444444444444, \"#bd3786\"], [0.5555555555555556, \"#d8576b\"], [0.6666666666666666, \"#ed7953\"], [0.7777777777777778, \"#fb9f3a\"], [0.8888888888888888, \"#fdca26\"], [1.0, \"#f0f921\"]], \"sequentialminus\": [[0.0, \"#0d0887\"], [0.1111111111111111, \"#46039f\"], [0.2222222222222222, \"#7201a8\"], [0.3333333333333333, \"#9c179e\"], [0.4444444444444444, \"#bd3786\"], [0.5555555555555556, \"#d8576b\"], [0.6666666666666666, \"#ed7953\"], [0.7777777777777778, \"#fb9f3a\"], [0.8888888888888888, \"#fdca26\"], [1.0, \"#f0f921\"]]}, \"colorway\": [\"#636efa\", \"#EF553B\", \"#00cc96\", \"#ab63fa\", \"#FFA15A\", \"#19d3f3\", \"#FF6692\", \"#B6E880\", \"#FF97FF\", \"#FECB52\"], \"font\": {\"color\": \"#2a3f5f\"}, \"geo\": {\"bgcolor\": \"white\", \"lakecolor\": \"white\", \"landcolor\": \"#E5ECF6\", \"showlakes\": true, \"showland\": true, \"subunitcolor\": \"white\"}, \"hoverlabel\": {\"align\": \"left\"}, \"hovermode\": \"closest\", \"mapbox\": {\"style\": \"light\"}, \"paper_bgcolor\": \"white\", \"plot_bgcolor\": \"#E5ECF6\", \"polar\": {\"angularaxis\": {\"gridcolor\": \"white\", \"linecolor\": \"white\", \"ticks\": \"\"}, \"bgcolor\": \"#E5ECF6\", \"radialaxis\": {\"gridcolor\": \"white\", \"linecolor\": \"white\", \"ticks\": \"\"}}, \"scene\": {\"xaxis\": {\"backgroundcolor\": \"#E5ECF6\", \"gridcolor\": \"white\", \"gridwidth\": 2, \"linecolor\": \"white\", \"showbackground\": true, \"ticks\": \"\", \"zerolinecolor\": \"white\"}, \"yaxis\": {\"backgroundcolor\": \"#E5ECF6\", \"gridcolor\": \"white\", \"gridwidth\": 2, \"linecolor\": \"white\", \"showbackground\": true, \"ticks\": \"\", \"zerolinecolor\": \"white\"}, \"zaxis\": {\"backgroundcolor\": \"#E5ECF6\", \"gridcolor\": \"white\", \"gridwidth\": 2, \"linecolor\": \"white\", \"showbackground\": true, \"ticks\": \"\", \"zerolinecolor\": \"white\"}}, \"shapedefaults\": {\"line\": {\"color\": \"#2a3f5f\"}}, \"ternary\": {\"aaxis\": {\"gridcolor\": \"white\", \"linecolor\": \"white\", \"ticks\": \"\"}, \"baxis\": {\"gridcolor\": \"white\", \"linecolor\": \"white\", \"ticks\": \"\"}, \"bgcolor\": \"#E5ECF6\", \"caxis\": {\"gridcolor\": \"white\", \"linecolor\": \"white\", \"ticks\": \"\"}}, \"title\": {\"x\": 0.05}, \"xaxis\": {\"automargin\": true, \"gridcolor\": \"white\", \"linecolor\": \"white\", \"ticks\": \"\", \"title\": {\"standoff\": 15}, \"zerolinecolor\": \"white\", \"zerolinewidth\": 2}, \"yaxis\": {\"automargin\": true, \"gridcolor\": \"white\", \"linecolor\": \"white\", \"ticks\": \"\", \"title\": {\"standoff\": 15}, \"zerolinecolor\": \"white\", \"zerolinewidth\": 2}}}, \"title\": {\"font\": {\"color\": \"#484848\"}}, \"xaxis\": {\"gridcolor\": \"#E1E5ED\", \"showgrid\": true, \"tickfont\": {\"color\": \"#505050\"}, \"title\": {\"font\": {\"color\": \"#505050\"}, \"text\": \"\"}, \"zerolinecolor\": \"#E1E5ED\"}, \"yaxis\": {\"gridcolor\": \"#E1E5ED\", \"showgrid\": true, \"tickfont\": {\"color\": \"#505050\"}, \"title\": {\"font\": {\"color\": \"#505050\"}, \"text\": \"\"}, \"zerolinecolor\": \"#E1E5ED\"}},                        {\"showLink\": true, \"linkText\": \"Export to plot.ly\", \"plotlyServerURL\": \"https://plot.ly\", \"responsive\": true}                    ).then(function(){\n",
       "                            \n",
       "var gd = document.getElementById('5d4a8a39-d3c4-4a77-a45f-c0ba66581b3c');\n",
       "var x = new MutationObserver(function (mutations, observer) {{\n",
       "        var display = window.getComputedStyle(gd).display;\n",
       "        if (!display || display === 'none') {{\n",
       "            console.log([gd, 'removed!']);\n",
       "            Plotly.purge(gd);\n",
       "            observer.disconnect();\n",
       "        }}\n",
       "}});\n",
       "\n",
       "// Listen for the removal of the full notebook cells\n",
       "var notebookContainer = gd.closest('#notebook-container');\n",
       "if (notebookContainer) {{\n",
       "    x.observe(notebookContainer, {childList: true});\n",
       "}}\n",
       "\n",
       "// Listen for the clearing of the current output cell\n",
       "var outputEl = gd.closest('.output');\n",
       "if (outputEl) {{\n",
       "    x.observe(outputEl, {childList: true});\n",
       "}}\n",
       "\n",
       "                        })                };                });            </script>        </div>"
      ]
     },
     "metadata": {},
     "output_type": "display_data"
    }
   ],
   "source": [
    "df1.iplot(kind='surface')  #### 3-D surface plot"
   ]
  },
  {
   "cell_type": "code",
   "execution_count": 67,
   "metadata": {},
   "outputs": [
    {
     "data": {
      "text/html": [
       "<div>\n",
       "<style scoped>\n",
       "    .dataframe tbody tr th:only-of-type {\n",
       "        vertical-align: middle;\n",
       "    }\n",
       "\n",
       "    .dataframe tbody tr th {\n",
       "        vertical-align: top;\n",
       "    }\n",
       "\n",
       "    .dataframe thead th {\n",
       "        text-align: right;\n",
       "    }\n",
       "</style>\n",
       "<table border=\"1\" class=\"dataframe\">\n",
       "  <thead>\n",
       "    <tr style=\"text-align: right;\">\n",
       "      <th></th>\n",
       "      <th>carat</th>\n",
       "      <th>cut</th>\n",
       "      <th>color</th>\n",
       "      <th>clarity</th>\n",
       "      <th>depth</th>\n",
       "      <th>table</th>\n",
       "      <th>price</th>\n",
       "      <th>x</th>\n",
       "      <th>y</th>\n",
       "      <th>z</th>\n",
       "    </tr>\n",
       "  </thead>\n",
       "  <tbody>\n",
       "    <tr>\n",
       "      <th>0</th>\n",
       "      <td>0.23</td>\n",
       "      <td>Ideal</td>\n",
       "      <td>E</td>\n",
       "      <td>SI2</td>\n",
       "      <td>61.5</td>\n",
       "      <td>55.0</td>\n",
       "      <td>326</td>\n",
       "      <td>3.95</td>\n",
       "      <td>3.98</td>\n",
       "      <td>2.43</td>\n",
       "    </tr>\n",
       "    <tr>\n",
       "      <th>1</th>\n",
       "      <td>0.21</td>\n",
       "      <td>Premium</td>\n",
       "      <td>E</td>\n",
       "      <td>SI1</td>\n",
       "      <td>59.8</td>\n",
       "      <td>61.0</td>\n",
       "      <td>326</td>\n",
       "      <td>3.89</td>\n",
       "      <td>3.84</td>\n",
       "      <td>2.31</td>\n",
       "    </tr>\n",
       "    <tr>\n",
       "      <th>2</th>\n",
       "      <td>0.23</td>\n",
       "      <td>Good</td>\n",
       "      <td>E</td>\n",
       "      <td>VS1</td>\n",
       "      <td>56.9</td>\n",
       "      <td>65.0</td>\n",
       "      <td>327</td>\n",
       "      <td>4.05</td>\n",
       "      <td>4.07</td>\n",
       "      <td>2.31</td>\n",
       "    </tr>\n",
       "    <tr>\n",
       "      <th>3</th>\n",
       "      <td>0.29</td>\n",
       "      <td>Premium</td>\n",
       "      <td>I</td>\n",
       "      <td>VS2</td>\n",
       "      <td>62.4</td>\n",
       "      <td>58.0</td>\n",
       "      <td>334</td>\n",
       "      <td>4.20</td>\n",
       "      <td>4.23</td>\n",
       "      <td>2.63</td>\n",
       "    </tr>\n",
       "    <tr>\n",
       "      <th>4</th>\n",
       "      <td>0.31</td>\n",
       "      <td>Good</td>\n",
       "      <td>J</td>\n",
       "      <td>SI2</td>\n",
       "      <td>63.3</td>\n",
       "      <td>58.0</td>\n",
       "      <td>335</td>\n",
       "      <td>4.34</td>\n",
       "      <td>4.35</td>\n",
       "      <td>2.75</td>\n",
       "    </tr>\n",
       "  </tbody>\n",
       "</table>\n",
       "</div>"
      ],
      "text/plain": [
       "   carat      cut color clarity  depth  table  price     x     y     z\n",
       "0   0.23    Ideal     E     SI2   61.5   55.0    326  3.95  3.98  2.43\n",
       "1   0.21  Premium     E     SI1   59.8   61.0    326  3.89  3.84  2.31\n",
       "2   0.23     Good     E     VS1   56.9   65.0    327  4.05  4.07  2.31\n",
       "3   0.29  Premium     I     VS2   62.4   58.0    334  4.20  4.23  2.63\n",
       "4   0.31     Good     J     SI2   63.3   58.0    335  4.34  4.35  2.75"
      ]
     },
     "execution_count": 67,
     "metadata": {},
     "output_type": "execute_result"
    }
   ],
   "source": [
    "df=sns.load_dataset(\"diamonds\")\n",
    "df.head()"
   ]
  },
  {
   "cell_type": "code",
   "execution_count": null,
   "metadata": {},
   "outputs": [],
   "source": []
  }
 ],
 "metadata": {
  "kernelspec": {
   "display_name": "Python 3",
   "language": "python",
   "name": "python3"
  },
  "language_info": {
   "codemirror_mode": {
    "name": "ipython",
    "version": 3
   },
   "file_extension": ".py",
   "mimetype": "text/x-python",
   "name": "python",
   "nbconvert_exporter": "python",
   "pygments_lexer": "ipython3",
   "version": "3.8.5"
  }
 },
 "nbformat": 4,
 "nbformat_minor": 4
}
