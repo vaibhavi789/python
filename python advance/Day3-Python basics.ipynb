{
 "cells": [
  {
   "cell_type": "markdown",
   "metadata": {},
   "source": [
    "## Conditional statements \n",
    "\n",
    "- If, else, elif"
   ]
  },
  {
   "cell_type": "code",
   "execution_count": 1,
   "metadata": {},
   "outputs": [
    {
     "name": "stdout",
     "output_type": "stream",
     "text": [
      "Enter a number: 8\n",
      "Number 8 is even\n"
     ]
    }
   ],
   "source": [
    "num = input(\"Enter a number: \")\n",
    "num=int(num)\n",
    "\n",
    "if num%2==0:\n",
    "    print(\"Number {} is even\".format(num))\n",
    "else:\n",
    "    print(\"Number {} is odd\".format(num))\n",
    "    "
   ]
  },
  {
   "cell_type": "markdown",
   "metadata": {},
   "source": [
    "###Comparison operators:\n",
    "\n",
    "- == equal to\n",
    "- < less than, "
   ]
  },
  {
   "cell_type": "code",
   "execution_count": 21,
   "metadata": {},
   "outputs": [
    {
     "name": "stdout",
     "output_type": "stream",
     "text": [
      "True\n"
     ]
    }
   ],
   "source": [
    "language = \"Python\"\n",
    "\n",
    "if language==\"Python\":\n",
    "    print(\"True\")\n",
    "else:\n",
    "    print(\"No match\")"
   ]
  },
  {
   "cell_type": "code",
   "execution_count": 3,
   "metadata": {},
   "outputs": [
    {
     "name": "stdout",
     "output_type": "stream",
     "text": [
      "Enter programming language: java\n",
      "No match\n"
     ]
    }
   ],
   "source": [
    "language = input(\"Enter programming language: \")\n",
    "\n",
    "if language==\"Python\":\n",
    "    print(\"True\")\n",
    "elif language=='Java':\n",
    "    print('Language is Java')\n",
    "elif language=='React':\n",
    "    print('Language is React')\n",
    "else:\n",
    "    print(\"No match\")"
   ]
  },
  {
   "cell_type": "markdown",
   "metadata": {},
   "source": [
    "#### 1. Write a program to read 3 float numbers and print the largest value"
   ]
  },
  {
   "cell_type": "code",
   "execution_count": 4,
   "metadata": {},
   "outputs": [],
   "source": [
    "### Write a program that takes the age of the dog as an input and calculates the equivalent age in human years???"
   ]
  },
  {
   "cell_type": "code",
   "execution_count": 5,
   "metadata": {},
   "outputs": [
    {
     "name": "stdout",
     "output_type": "stream",
     "text": [
      "Age of the dog: 1\n",
      "\n",
      "Age is approx 14 human years\n"
     ]
    }
   ],
   "source": [
    "age = int(input(\"Age of the dog: \"))\n",
    "print()\n",
    "\n",
    "if age<0:\n",
    "    print(\"This cannot be True\")\n",
    "elif age==0:\n",
    "    print(\"Corresponds to zero human years\")\n",
    "elif age==1:\n",
    "    print(\"Age is approx 14 human years\")\n",
    "else:\n",
    "    human = 22+ (age-2) * 5\n",
    "    print(\"Corresponds to \"+ str(human) +\" human years!!!\")"
   ]
  },
  {
   "cell_type": "markdown",
   "metadata": {},
   "source": [
    "### Loops:\n",
    "\n",
    "- For loop\n",
    "- while loop"
   ]
  },
  {
   "cell_type": "code",
   "execution_count": 8,
   "metadata": {},
   "outputs": [
    {
     "data": {
      "text/plain": [
       "14480"
      ]
     },
     "execution_count": 8,
     "metadata": {},
     "output_type": "execute_result"
    }
   ],
   "source": [
    "## Store the monthly expenses in a list and find out the total expenses for all month\n",
    "\n",
    "expenses= [2200, 2000, 4200, 3100, 2980]\n",
    "total = expenses[0]+ expenses[1]+ expenses[2]+ expenses[3]+ expenses[4]\n",
    "total"
   ]
  },
  {
   "cell_type": "code",
   "execution_count": 11,
   "metadata": {},
   "outputs": [
    {
     "data": {
      "text/plain": [
       "14480"
      ]
     },
     "execution_count": 11,
     "metadata": {},
     "output_type": "execute_result"
    }
   ],
   "source": [
    "sum(expenses)"
   ]
  },
  {
   "cell_type": "code",
   "execution_count": 9,
   "metadata": {},
   "outputs": [
    {
     "name": "stdout",
     "output_type": "stream",
     "text": [
      "14480\n"
     ]
    }
   ],
   "source": [
    "total=0\n",
    "\n",
    "for i in expenses:\n",
    "    total=total+i\n",
    "print(total)"
   ]
  },
  {
   "cell_type": "code",
   "execution_count": 12,
   "metadata": {},
   "outputs": [
    {
     "name": "stdout",
     "output_type": "stream",
     "text": [
      "Month:  1 Expenses:  2200\n",
      "Month:  2 Expenses:  2000\n",
      "Month:  3 Expenses:  4200\n",
      "Month:  4 Expenses:  3100\n",
      "Month:  5 Expenses:  2980\n",
      "Total expense:  14480\n"
     ]
    }
   ],
   "source": [
    "expenses= [2200, 2000, 4200, 3100, 2980]\n",
    "total = 0\n",
    "\n",
    "for i in range(len(expenses)):\n",
    "    print('Month: ', (i+1), 'Expenses: ', expenses[i])\n",
    "    total = total+expenses[i]\n",
    "print(\"Total expense: \", total)"
   ]
  },
  {
   "cell_type": "code",
   "execution_count": 10,
   "metadata": {},
   "outputs": [
    {
     "name": "stdout",
     "output_type": "stream",
     "text": [
      "1\n",
      "2\n",
      "3\n",
      "4\n",
      "5\n",
      "6\n",
      "7\n",
      "8\n",
      "9\n",
      "10\n"
     ]
    }
   ],
   "source": [
    "###print 1 to 10 using range()\n",
    "\n",
    "for i in range(1,11):\n",
    "    print(i)"
   ]
  },
  {
   "cell_type": "markdown",
   "metadata": {},
   "source": [
    "## For loop and break statement:\n"
   ]
  },
  {
   "cell_type": "code",
   "execution_count": 13,
   "metadata": {},
   "outputs": [
    {
     "name": "stdout",
     "output_type": "stream",
     "text": [
      "Key is NOT found in  hall\n",
      "Key is NOT found in  living room\n",
      "Key is found in  chair\n"
     ]
    }
   ],
   "source": [
    "key_location = \"chair\"\n",
    "locations = [\"hall\", \"living room\", \"chair\", \"park\"]\n",
    "\n",
    "for i in locations:\n",
    "    if i==key_location:\n",
    "        print(\"Key is found in \", i)\n",
    "        break\n",
    "    else:\n",
    "        print(\"Key is NOT found in \", i)"
   ]
  },
  {
   "cell_type": "markdown",
   "metadata": {},
   "source": [
    "## For loop and continue statement:\n"
   ]
  },
  {
   "cell_type": "code",
   "execution_count": 17,
   "metadata": {},
   "outputs": [
    {
     "name": "stdout",
     "output_type": "stream",
     "text": [
      "1\n",
      "3\n",
      "5\n",
      "7\n",
      "9\n"
     ]
    }
   ],
   "source": [
    "for i in range(1,11):\n",
    "    if i%2==0:\n",
    "        continue\n",
    "    print(i)"
   ]
  },
  {
   "cell_type": "code",
   "execution_count": 18,
   "metadata": {},
   "outputs": [
    {
     "name": "stdout",
     "output_type": "stream",
     "text": [
      "4\n"
     ]
    }
   ],
   "source": [
    "for i in range(1,5):\n",
    "    if i<=3:\n",
    "        continue\n",
    "    print(i)"
   ]
  },
  {
   "cell_type": "markdown",
   "metadata": {},
   "source": [
    "##### while loop\n",
    "\n",
    "- takes only one condition\n",
    "- we have increment/decrement it with a counter"
   ]
  },
  {
   "cell_type": "code",
   "execution_count": 23,
   "metadata": {},
   "outputs": [
    {
     "name": "stdout",
     "output_type": "stream",
     "text": [
      "5\n",
      "4\n",
      "3\n",
      "2\n",
      "1\n"
     ]
    }
   ],
   "source": [
    "## to print 1 to 5\n",
    "i = 5\n",
    "\n",
    "while i>=1:\n",
    "    print(i)\n",
    "    i = i-1"
   ]
  },
  {
   "cell_type": "markdown",
   "metadata": {},
   "source": [
    "## Function"
   ]
  },
  {
   "cell_type": "code",
   "execution_count": null,
   "metadata": {},
   "outputs": [],
   "source": [
    "num = input(\"Enter a number: \")\n",
    "num=int(num)\n",
    "\n",
    "if num%2==0:\n",
    "    print(\"Number {} is even\".format(num))\n",
    "else:\n",
    "    print(\"Number {} is odd\".format(num))"
   ]
  },
  {
   "cell_type": "code",
   "execution_count": 24,
   "metadata": {},
   "outputs": [],
   "source": [
    "def even_or_odd(num):\n",
    "    if num%2==0:\n",
    "        print(\"Number {} is even\".format(num))\n",
    "    else:\n",
    "        print(\"Number {} is odd\".format(num))"
   ]
  },
  {
   "cell_type": "code",
   "execution_count": 26,
   "metadata": {},
   "outputs": [
    {
     "name": "stdout",
     "output_type": "stream",
     "text": [
      "Number 12 is even\n"
     ]
    }
   ],
   "source": [
    "even_or_odd(12)"
   ]
  },
  {
   "cell_type": "code",
   "execution_count": null,
   "metadata": {},
   "outputs": [],
   "source": []
  }
 ],
 "metadata": {
  "kernelspec": {
   "display_name": "Python 3",
   "language": "python",
   "name": "python3"
  },
  "language_info": {
   "codemirror_mode": {
    "name": "ipython",
    "version": 3
   },
   "file_extension": ".py",
   "mimetype": "text/x-python",
   "name": "python",
   "nbconvert_exporter": "python",
   "pygments_lexer": "ipython3",
   "version": "3.8.5"
  }
 },
 "nbformat": 4,
 "nbformat_minor": 4
}
