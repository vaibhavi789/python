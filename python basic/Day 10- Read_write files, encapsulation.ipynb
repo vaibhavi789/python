{
 "cells": [
  {
   "cell_type": "markdown",
   "metadata": {},
   "source": [
    "## Encapsulation"
   ]
  },
  {
   "cell_type": "markdown",
   "metadata": {},
   "source": [
    "input ----> [] ----> Output\n",
    "\n",
    "[] = function???"
   ]
  },
  {
   "cell_type": "markdown",
   "metadata": {},
   "source": [
    "Encapsulation is an another powerful way to extend a class which consists on wrapping an object with a second one.\n",
    "There are two main reasons to use encapsulation:\n",
    "* Composition\n",
    "* Dynamic Extension"
   ]
  },
  {
   "cell_type": "markdown",
   "metadata": {},
   "source": [
    "### 1.1 Composition"
   ]
  },
  {
   "cell_type": "code",
   "execution_count": null,
   "metadata": {},
   "outputs": [],
   "source": []
  },
  {
   "cell_type": "markdown",
   "metadata": {},
   "source": [
    "The abstraction process relies on creating a simplified model that remove useless details from a concept. In order to be simplified, a model should be described in terms of other simpler concepts.\n",
    "For example, we can say that a car is composed by:\n",
    "* Tyres\n",
    "* Engine\n",
    "* Body\n",
    "\n",
    "And break down each one of these elements in simpler parts until we reach primitive data."
   ]
  },
  {
   "cell_type": "code",
   "execution_count": 8,
   "metadata": {},
   "outputs": [],
   "source": [
    "class Tyres:\n",
    "    def __init__(self, branch, belted_bias, opt_pressure):\n",
    "        self.branch = branch\n",
    "        self.belted_bias = belted_bias\n",
    "        self.opt_pressure = opt_pressure\n",
    "        \n",
    "    def __str__(self):\n",
    "        return (\"Tyres: \\n \\tBranch: \" + self.branch +\n",
    "               \"\\n \\tBelted-bias: \" + str(self.belted_bias) + \n",
    "               \"\\n \\tOptimal pressure: \" + str(self.opt_pressure))\n",
    "        \n",
    "class Engine:\n",
    "    def __init__(self, fuel_type, noise_level):\n",
    "        self.fuel_type = fuel_type\n",
    "        self.noise_level = noise_level\n",
    "        \n",
    "    def __str__(self):\n",
    "        return (\"Engine: \\n \\tFuel type: \" + self.fuel_type +\n",
    "                \"\\n \\tNoise level:\" + str(self.noise_level))\n",
    "        \n",
    "class Body:\n",
    "    def __init__(self, size):\n",
    "        self.size = size\n",
    "        \n",
    "    def __str__(self):\n",
    "        return \"Body:\\n \\tSize: \" + self.size\n",
    "        \n",
    "class Car:\n",
    "    def __init__(self, t, e, b):\n",
    "        self.tyres = t\n",
    "        self.engine = e\n",
    "        self.body = b\n",
    "        \n",
    "    def tyrespec(self):\n",
    "        return \"self.tyre\"\n",
    "        \n",
    "    def __str__(self):\n",
    "        return str(self.tyres) + \"\\n\" + str(self.engine) + \"\\n\" + str(self.body)\n"
   ]
  },
  {
   "cell_type": "code",
   "execution_count": 4,
   "metadata": {},
   "outputs": [
    {
     "name": "stdout",
     "output_type": "stream",
     "text": [
      "black\n",
      "petrol\n",
      "suv\n"
     ]
    }
   ],
   "source": [
    "car= Car('black', 'petrol', 'suv')\n",
    "print(car)"
   ]
  },
  {
   "cell_type": "markdown",
   "metadata": {},
   "source": [
    "t = Tyres('Pirelli', True, 2.0)\n",
    "e = Engine('Diesel', 3)\n",
    "b = Body('Medium')\n",
    "c = Car(t, e, b)\n",
    "print(c)"
   ]
  },
  {
   "cell_type": "markdown",
   "metadata": {},
   "source": [
    "### 1.2 Dynamic Extension"
   ]
  },
  {
   "cell_type": "markdown",
   "metadata": {},
   "source": [
    "Sometimes it's necessary to model a concept that may be a subclass of another one, but it isn't possible to know which class should be its superclass until runtime."
   ]
  },
  {
   "cell_type": "markdown",
   "metadata": {},
   "source": [
    "### Example"
   ]
  },
  {
   "cell_type": "markdown",
   "metadata": {},
   "source": [
    "Suppose we want to model a simple dog school that trains instructors too. It will be nice to re-use Person and Student but students can be dogs or peoples. So we can remodel it this way:"
   ]
  },
  {
   "cell_type": "code",
   "execution_count": 14,
   "metadata": {},
   "outputs": [
    {
     "name": "stdout",
     "output_type": "stream",
     "text": [
      "Papillon is a Laika breed born in the year 1954.\n"
     ]
    }
   ],
   "source": [
    "class Dog:\n",
    "    def __init__(self, name, year_of_birth, breed):\n",
    "        self._name = name\n",
    "        self._year_of_birth = year_of_birth\n",
    "        self._breed = breed\n",
    "\n",
    "    def __str__(self):\n",
    "        return \"%s is a %s breed born in the year %d.\" % (self._name, self._breed, self._year_of_birth)\n",
    "\n",
    "papillon = Dog(\"Papillon\", 1954, \"Laika\")\n",
    "print(papillon)"
   ]
  },
  {
   "cell_type": "code",
   "execution_count": 15,
   "metadata": {},
   "outputs": [
    {
     "name": "stdout",
     "output_type": "stream",
     "text": [
      "dsfs Student ID: 1\n",
      "Papillon is a Laika breed born in the year 1954. Student ID: 2\n"
     ]
    }
   ],
   "source": [
    "class Student:\n",
    "    def __init__(self, anagraphic, student_id):\n",
    "        self._anagraphic = anagraphic\n",
    "        self._student_id = student_id\n",
    "    def __str__(self):\n",
    "        return str(self._anagraphic) + \" Student ID: %d\" % self._student_id\n",
    "\n",
    "\n",
    "alex_student = Student(\"dsfs\",1)\n",
    "papillon_student = Student(papillon, 2)\n",
    "\n",
    "print(alex_student)\n",
    "print(papillon_student)\n"
   ]
  },
  {
   "cell_type": "markdown",
   "metadata": {},
   "source": [
    "### Assignment:\n",
    "\n",
    "class - create 3 classes class1(a1,a2,a3),m1, class2(b1,b2,b3)m2, class3(c1,c2,c3)m3\n",
    "then, create an obj for 3 classes (c1,c2,c3), create a 4th class4(d1,d2,d3),m4"
   ]
  }
 ],
 "metadata": {
  "kernelspec": {
   "display_name": "Python 3",
   "language": "python",
   "name": "python3"
  },
  "language_info": {
   "codemirror_mode": {
    "name": "ipython",
    "version": 3
   },
   "file_extension": ".py",
   "mimetype": "text/x-python",
   "name": "python",
   "nbconvert_exporter": "python",
   "pygments_lexer": "ipython3",
   "version": "3.8.5"
  }
 },
 "nbformat": 4,
 "nbformat_minor": 4
}
